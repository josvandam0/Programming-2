{
 "cells": [
  {
   "cell_type": "markdown",
   "metadata": {},
   "source": [
    "## Assignment 03: Sleeping habits\n",
    "\n",
    "As a data scientist you will work with ordinal or categorical data as well. What are good methods to visualize such data? What are proper statistics to use? What needs to be done in the data preparation steps to conduct certain analysis. During this week we will work with data from a sleeping study. This dataset is not mandatory. You are encouraged to use data from your project when possible. It is also able to use an interesting source from the internet, as long as no notebooks are copied withouth reference. \n",
    "\n",
    "Keywords: statistics, categorical data, ordinal data, survey-based study of the sleeping, exploratory data analysis, normalization, hypothesis testing, p-value\n",
    "\n",
    "\n",
    "More to read:\n",
    "- https://fennaf.gitbook.io/bfvm22prog1/\n",
    "\n",
    "https://machinelearningmastery.com/statistical-hypothesis-tests-in-python-cheat-sheet/\n",
    "There are a number of cheatsheets and tutorials on the internet. The next overview is a compact overview of tutorials\n",
    "- https://www.kaggle.com/hamelg/python-for-data-21-descriptive-statistics\n",
    "- https://www.kaggle.com/hamelg/python-for-data-22-probability-distributions\n",
    "- https://www.kaggle.com/hamelg/python-for-data-23-confidence-intervals\n",
    "- https://www.kaggle.com/hamelg/python-for-data-24-hypothesis-testing\n",
    "- https://www.kaggle.com/hamelg/python-for-data-25-chi-squared-tests\n",
    "- https://www.kaggle.com/hamelg/python-for-data-26-anova/notebook\n",
    "- https://www.kaggle.com/hamelg/python-for-data-27-linear-regression\n",
    "\n",
    "\n",
    "You will learn about analysing data with pandas and numpy and you will learn to visualize with bokeh. Concretely, you will preprocess the Sleep Study data in an appropiate format in order to conduct statistical and visual analysis. \n",
    "\n",
    "Learning objectives\n",
    "- Conduct exploratory data analysis for categarical data\n",
    "- Provide statistical evidence of factor effect\n",
    "- Maintain development environment \n",
    "- Apply coding standards and FAIR principles\n",
    "\n",
    "Please add topics you want to learn here: <padlet>\n",
    "\n",
    "\n",
    "## About the data\n",
    "\n",
    "The data is collected from a survey-based study of the sleeping habits of individuals within the US. \n",
    "\n",
    "Below is a description of each of the variables contained within the dataset.\n",
    "\n",
    "- Enough = Do you think that you get enough sleep?\n",
    "- Hours = On average, how many hours of sleep do you get on a weeknight?\n",
    "- PhoneReach = Do you sleep with your phone within arms reach?\n",
    "- PhoneTime = Do you use your phone within 30 minutes of falling asleep?\n",
    "- Tired = On a scale from 1 to 5, how tired are you throughout the day? (1 being not tired, 5 being very tired)\n",
    "- Breakfast = Do you typically eat breakfast?\n",
    "\n",
    "The two research questions you should answer in this assignment are:\n",
    "1. Is there a differences in Hours sleep caused by having breakfast (yes, no)?\n",
    "2. Is there a differences in Hours sleep caused by having breakfast and the tireness (score)\n",
    "\n",
    "\n",
    "The assignment consists of 6 parts:\n",
    "\n",
    "- [part 1: load the data](#0)\n",
    "- [part 2: data inspection](#1)\n",
    "- [part 3: check assumptions](#2)\n",
    "   - [check normality 3.1](#ex-31)\n",
    "   - [check equal variance 3.2](#ex-32)\n",
    "- [part 4: prepare the data](#3)\n",
    "- [part 5: answer the research question](#4)\n",
    "- [part 6: enhanced plotting](#5)\n",
    "\n",
    "Part 1 till 5 are mandatory, part 6 is optional (bonus)\n",
    "Mind you that you cannot copy code without referencing the code. If you copy code you need to be able to explain your code verbally and you will not get the full score. \n",
    "\n",
    "\n",
    "**NOTE If your project data is suitable you can use that data instead of the given data**"
   ]
  },
  {
   "cell_type": "markdown",
   "metadata": {},
   "source": [
    "## ANOVA\n",
    "\n",
    "Analysis of variance (ANOVA) compares the variances between groups versus within groups. It basically determines whether the differences between groups is larger than the differences within a group (the noise). \n",
    "A graph picturing this is as follow: https://link.springer.com/article/10.1007/s00424-019-02300-4/figures/2\n",
    "\n",
    "\n",
    "In ANOVA, the dependent variable must be a continuous (interval or ratio) level of measurement. For instance Glucose level. The independent variables in ANOVA must be categorical (nominal or ordinal) variables. For instance trial category, time of day (AM versus PM) or time of trial (different categories). Like the t-test, ANOVA is also a parametric test and has some assumptions. ANOVA assumes that the data is normally distributed.  The ANOVA also assumes homogeneity of variance, which means that the variance among the groups should be approximately equal. ANOVA also assumes that the observations are independent of each other. \n",
    "\n",
    "A one-way ANOVA has just one independent variable. A two-way ANOVA (are also called factorial ANOVA) refers to an ANOVA using two independent variables. For research question 1 we can use the one-way ANOVA, for research question two we can use two-way ANOVA. But first we need to check the assumptions. \n",
    "\n",
    "If your data is not normally distributed you might want to look for an alternative. See also https://www.statisticshowto.com/probability-and-statistics/statistics-definitions/parametric-and-non-parametric-data/\n"
   ]
  },
  {
   "cell_type": "markdown",
   "metadata": {},
   "source": [
    "---"
   ]
  },
  {
   "cell_type": "markdown",
   "metadata": {},
   "source": [
    "<a name='0'></a>\n",
    "## Part 1: Load the data (10 pt)\n",
    "\n",
    "load the `sleep.csv` data. \n",
    "Preferably we read the data not with a hard coded data path but using a config file. See https://fennaf.gitbook.io/bfvm22prog1/data-processing/configuration-files/yaml. Get yourself familiar with the data. Answer the following questions.\n",
    "\n",
    "1. What is the percentage missing data?\n",
    "2. Considering the research question, what is the dependent variable and what are the indepent variables? Are they of the correct datatype? "
   ]
  },
  {
   "cell_type": "code",
   "execution_count": 1,
   "metadata": {},
   "outputs": [
    {
     "ename": "ModuleNotFoundError",
     "evalue": "No module named 'pandas'",
     "output_type": "error",
     "traceback": [
      "\u001b[1;31m---------------------------------------------------------------------------\u001b[0m",
      "\u001b[1;31mModuleNotFoundError\u001b[0m                       Traceback (most recent call last)",
      "\u001b[1;32mc:\\Users\\josva\\Downloads\\Assignment_03.ipynb Cell 5\u001b[0m line \u001b[0;36m1\n\u001b[1;32m----> <a href='vscode-notebook-cell:/c%3A/Users/josva/Downloads/Assignment_03.ipynb#W4sZmlsZQ%3D%3D?line=0'>1</a>\u001b[0m \u001b[39mimport\u001b[39;00m \u001b[39mpandas\u001b[39;00m \u001b[39mas\u001b[39;00m \u001b[39mpd\u001b[39;00m\n\u001b[0;32m      <a href='vscode-notebook-cell:/c%3A/Users/josva/Downloads/Assignment_03.ipynb#W4sZmlsZQ%3D%3D?line=1'>2</a>\u001b[0m \u001b[39mimport\u001b[39;00m \u001b[39myaml\u001b[39;00m\n\u001b[0;32m      <a href='vscode-notebook-cell:/c%3A/Users/josva/Downloads/Assignment_03.ipynb#W4sZmlsZQ%3D%3D?line=2'>3</a>\u001b[0m \u001b[39mimport\u001b[39;00m \u001b[39mnumpy\u001b[39;00m \u001b[39mas\u001b[39;00m \u001b[39mnp\u001b[39;00m\n",
      "\u001b[1;31mModuleNotFoundError\u001b[0m: No module named 'pandas'"
     ]
    }
   ],
   "source": [
    "import pandas as pd\n",
    "import yaml\n",
    "import numpy as np\n",
    "\n",
    "def get_config():\n",
    "    with open(\"config.yaml\", 'r') as stream:\n",
    "        config = yaml.safe_load(stream)\n",
    "    return config\n",
    "\n",
    "config = get_config()\n",
    "\n",
    "sleep_df = pd.read_csv(config['sleep'])\n"
   ]
  },
  {
   "cell_type": "code",
   "execution_count": null,
   "metadata": {},
   "outputs": [
    {
     "name": "stdout",
     "output_type": "stream",
     "text": [
      "There are 2 missing values in the dataframe.\n"
     ]
    }
   ],
   "source": [
    "# Print the missing values in the dataframe\n",
    "print(f'There are {sleep_df.isna().sum().sum()} missing values in the dataframe.')\n",
    "# Drop the NaN values\n",
    "sleep_df = sleep_df.dropna()"
   ]
  },
  {
   "cell_type": "code",
   "execution_count": null,
   "metadata": {},
   "outputs": [
    {
     "name": "stdout",
     "output_type": "stream",
     "text": [
      "The dependent variables are dependent: Hours, Enough, Tired.\n",
      "The independent variables are Breakfast, PhoneReach, PhoneTime\n"
     ]
    }
   ],
   "source": [
    "#code printing answer dependent and independent variables\n",
    "print(\"The dependent variables are dependent: Hours, Enough, Tired.\\n\"\n",
    "\"The independent variables are Breakfast, PhoneReach, PhoneTime\")"
   ]
  },
  {
   "cell_type": "code",
   "execution_count": null,
   "metadata": {},
   "outputs": [
    {
     "name": "stdout",
     "output_type": "stream",
     "text": [
      "The datatypes of the dataframe are as follows: Enough         object\n",
      "Hours         float64\n",
      "PhoneReach     object\n",
      "PhoneTime      object\n",
      "Tired           int64\n",
      "Breakfast      object\n",
      "dtype: object\n",
      "This means that all values are like the datatypes we expect\n"
     ]
    }
   ],
   "source": [
    "#code printing answer about datatypes\n",
    "print(f'The datatypes of the dataframe are as follows: {sleep_df.dtypes}\\n'\n",
    "\"This means that all values are like the datatypes we expect\")"
   ]
  },
  {
   "cell_type": "code",
   "execution_count": null,
   "metadata": {},
   "outputs": [
    {
     "name": "stderr",
     "output_type": "stream",
     "text": [
      "/tmp/ipykernel_2405/2419136902.py:1: SettingWithCopyWarning: \n",
      "A value is trying to be set on a copy of a slice from a DataFrame.\n",
      "Try using .loc[row_indexer,col_indexer] = value instead\n",
      "\n",
      "See the caveats in the documentation: https://pandas.pydata.org/pandas-docs/stable/user_guide/indexing.html#returning-a-view-versus-a-copy\n",
      "  sleep_df[['Enough', 'PhoneReach', 'PhoneTime', 'Breakfast']] = sleep_df[['Enough', 'PhoneReach', 'PhoneTime', 'Breakfast']] == \"Yes\"\n"
     ]
    }
   ],
   "source": [
    "# Changing the strings to booleans corresponding to Yes and No (True and False respectively)\n",
    "sleep_df[['Enough', 'PhoneReach', 'PhoneTime', 'Breakfast']] = sleep_df[['Enough', 'PhoneReach', 'PhoneTime', 'Breakfast']] == \"Yes\""
   ]
  },
  {
   "cell_type": "markdown",
   "metadata": {},
   "source": [
    "---"
   ]
  },
  {
   "cell_type": "markdown",
   "metadata": {},
   "source": [
    "<a name='1'></a>\n",
    "## Part 2: Inspect the data (30 pt)\n",
    "\n",
    "Inspect the data practically. Get an idea about how well the variable categories are ballanced. Are the values of a variable equally divided? What is the mean value of the dependent variable? Are there correlations amongs the variables?\n"
   ]
  },
  {
   "cell_type": "markdown",
   "metadata": {},
   "source": [
    "<ul>\n",
    "<li>Create some meaninful overviews such as variable value counts</li>\n",
    "<li>Create a scatter plot ploting the relation between being tired and hours of sleep with different colors for Breakfast</li>\n",
    "    <li>Print some basic statistics about the target (mean, standard deviation)</li>\n",
    "    <li>Create a heatmap to check for correlations among variables. </li>\n",
    "\n",
    "<details>    \n",
    "<summary>\n",
    "    <font size=\"3\" color=\"darkgreen\"><b>Hints</b></font>\n",
    "</summary>\n",
    "    <ul><li>the gitbook has a bokeh heatmap example</li></ul>\n",
    "</details>\n",
    "</ul>"
   ]
  },
  {
   "cell_type": "code",
   "execution_count": null,
   "metadata": {},
   "outputs": [
    {
     "data": {
      "text/html": [
       "<style type=\"text/css\">\n",
       "#T_d6028_row0_col0 {\n",
       "  width: 10em;\n",
       "  background: linear-gradient(90deg, #d65f5f 52.2%, transparent 52.2%);\n",
       "}\n",
       "#T_d6028_row1_col0 {\n",
       "  width: 10em;\n",
       "  background: linear-gradient(90deg, #d65f5f 100.0%, transparent 100.0%);\n",
       "}\n",
       "</style>\n",
       "<table id=\"T_d6028\">\n",
       "  <thead>\n",
       "    <tr>\n",
       "      <th class=\"blank level0\" >&nbsp;</th>\n",
       "      <th id=\"T_d6028_level0_col0\" class=\"col_heading level0 col0\" >count</th>\n",
       "    </tr>\n",
       "    <tr>\n",
       "      <th class=\"index_name level0\" >Enough</th>\n",
       "      <th class=\"blank col0\" >&nbsp;</th>\n",
       "    </tr>\n",
       "  </thead>\n",
       "  <tbody>\n",
       "    <tr>\n",
       "      <th id=\"T_d6028_level0_row0\" class=\"row_heading level0 row0\" >True</th>\n",
       "      <td id=\"T_d6028_row0_col0\" class=\"data row0 col0\" >35</td>\n",
       "    </tr>\n",
       "    <tr>\n",
       "      <th id=\"T_d6028_level0_row1\" class=\"row_heading level0 row1\" >False</th>\n",
       "      <td id=\"T_d6028_row1_col0\" class=\"data row1 col0\" >67</td>\n",
       "    </tr>\n",
       "  </tbody>\n",
       "</table>\n"
      ],
      "text/plain": [
       "<pandas.io.formats.style.Styler at 0x7f761d247bd0>"
      ]
     },
     "metadata": {},
     "output_type": "display_data"
    },
    {
     "data": {
      "text/html": [
       "<style type=\"text/css\">\n",
       "#T_07d5b_row0_col0 {\n",
       "  width: 10em;\n",
       "  background: linear-gradient(90deg, #d65f5f 2.9%, transparent 2.9%);\n",
       "}\n",
       "#T_07d5b_row1_col0 {\n",
       "  width: 10em;\n",
       "  background: linear-gradient(90deg, #d65f5f 22.9%, transparent 22.9%);\n",
       "}\n",
       "#T_07d5b_row2_col0 {\n",
       "  width: 10em;\n",
       "  background: linear-gradient(90deg, #d65f5f 45.7%, transparent 45.7%);\n",
       "}\n",
       "#T_07d5b_row3_col0 {\n",
       "  width: 10em;\n",
       "  background: linear-gradient(90deg, #d65f5f 100.0%, transparent 100.0%);\n",
       "}\n",
       "#T_07d5b_row4_col0 {\n",
       "  width: 10em;\n",
       "  background: linear-gradient(90deg, #d65f5f 68.6%, transparent 68.6%);\n",
       "}\n",
       "#T_07d5b_row5_col0 {\n",
       "  width: 10em;\n",
       "  background: linear-gradient(90deg, #d65f5f 34.3%, transparent 34.3%);\n",
       "}\n",
       "#T_07d5b_row6_col0 {\n",
       "  width: 10em;\n",
       "  background: linear-gradient(90deg, #d65f5f 11.4%, transparent 11.4%);\n",
       "}\n",
       "#T_07d5b_row7_col0 {\n",
       "  width: 10em;\n",
       "  background: linear-gradient(90deg, #d65f5f 5.7%, transparent 5.7%);\n",
       "}\n",
       "</style>\n",
       "<table id=\"T_07d5b\">\n",
       "  <thead>\n",
       "    <tr>\n",
       "      <th class=\"blank level0\" >&nbsp;</th>\n",
       "      <th id=\"T_07d5b_level0_col0\" class=\"col_heading level0 col0\" >count</th>\n",
       "    </tr>\n",
       "    <tr>\n",
       "      <th class=\"index_name level0\" >Hours</th>\n",
       "      <th class=\"blank col0\" >&nbsp;</th>\n",
       "    </tr>\n",
       "  </thead>\n",
       "  <tbody>\n",
       "    <tr>\n",
       "      <th id=\"T_07d5b_level0_row0\" class=\"row_heading level0 row0\" >10.000000</th>\n",
       "      <td id=\"T_07d5b_row0_col0\" class=\"data row0 col0\" >1</td>\n",
       "    </tr>\n",
       "    <tr>\n",
       "      <th id=\"T_07d5b_level0_row1\" class=\"row_heading level0 row1\" >9.000000</th>\n",
       "      <td id=\"T_07d5b_row1_col0\" class=\"data row1 col0\" >8</td>\n",
       "    </tr>\n",
       "    <tr>\n",
       "      <th id=\"T_07d5b_level0_row2\" class=\"row_heading level0 row2\" >8.000000</th>\n",
       "      <td id=\"T_07d5b_row2_col0\" class=\"data row2 col0\" >16</td>\n",
       "    </tr>\n",
       "    <tr>\n",
       "      <th id=\"T_07d5b_level0_row3\" class=\"row_heading level0 row3\" >7.000000</th>\n",
       "      <td id=\"T_07d5b_row3_col0\" class=\"data row3 col0\" >35</td>\n",
       "    </tr>\n",
       "    <tr>\n",
       "      <th id=\"T_07d5b_level0_row4\" class=\"row_heading level0 row4\" >6.000000</th>\n",
       "      <td id=\"T_07d5b_row4_col0\" class=\"data row4 col0\" >24</td>\n",
       "    </tr>\n",
       "    <tr>\n",
       "      <th id=\"T_07d5b_level0_row5\" class=\"row_heading level0 row5\" >5.000000</th>\n",
       "      <td id=\"T_07d5b_row5_col0\" class=\"data row5 col0\" >12</td>\n",
       "    </tr>\n",
       "    <tr>\n",
       "      <th id=\"T_07d5b_level0_row6\" class=\"row_heading level0 row6\" >4.000000</th>\n",
       "      <td id=\"T_07d5b_row6_col0\" class=\"data row6 col0\" >4</td>\n",
       "    </tr>\n",
       "    <tr>\n",
       "      <th id=\"T_07d5b_level0_row7\" class=\"row_heading level0 row7\" >2.000000</th>\n",
       "      <td id=\"T_07d5b_row7_col0\" class=\"data row7 col0\" >2</td>\n",
       "    </tr>\n",
       "  </tbody>\n",
       "</table>\n"
      ],
      "text/plain": [
       "<pandas.io.formats.style.Styler at 0x7f75e982ca90>"
      ]
     },
     "metadata": {},
     "output_type": "display_data"
    },
    {
     "data": {
      "text/html": [
       "<style type=\"text/css\">\n",
       "#T_9b527_row0_col0 {\n",
       "  width: 10em;\n",
       "  background: linear-gradient(90deg, #d65f5f 100.0%, transparent 100.0%);\n",
       "}\n",
       "#T_9b527_row1_col0 {\n",
       "  width: 10em;\n",
       "  background: linear-gradient(90deg, #d65f5f 43.7%, transparent 43.7%);\n",
       "}\n",
       "</style>\n",
       "<table id=\"T_9b527\">\n",
       "  <thead>\n",
       "    <tr>\n",
       "      <th class=\"blank level0\" >&nbsp;</th>\n",
       "      <th id=\"T_9b527_level0_col0\" class=\"col_heading level0 col0\" >count</th>\n",
       "    </tr>\n",
       "    <tr>\n",
       "      <th class=\"index_name level0\" >PhoneReach</th>\n",
       "      <th class=\"blank col0\" >&nbsp;</th>\n",
       "    </tr>\n",
       "  </thead>\n",
       "  <tbody>\n",
       "    <tr>\n",
       "      <th id=\"T_9b527_level0_row0\" class=\"row_heading level0 row0\" >True</th>\n",
       "      <td id=\"T_9b527_row0_col0\" class=\"data row0 col0\" >71</td>\n",
       "    </tr>\n",
       "    <tr>\n",
       "      <th id=\"T_9b527_level0_row1\" class=\"row_heading level0 row1\" >False</th>\n",
       "      <td id=\"T_9b527_row1_col0\" class=\"data row1 col0\" >31</td>\n",
       "    </tr>\n",
       "  </tbody>\n",
       "</table>\n"
      ],
      "text/plain": [
       "<pandas.io.formats.style.Styler at 0x7f75eade2a90>"
      ]
     },
     "metadata": {},
     "output_type": "display_data"
    },
    {
     "data": {
      "text/html": [
       "<style type=\"text/css\">\n",
       "#T_720b0_row0_col0 {\n",
       "  width: 10em;\n",
       "  background: linear-gradient(90deg, #d65f5f 100.0%, transparent 100.0%);\n",
       "}\n",
       "#T_720b0_row1_col0 {\n",
       "  width: 10em;\n",
       "  background: linear-gradient(90deg, #d65f5f 22.9%, transparent 22.9%);\n",
       "}\n",
       "</style>\n",
       "<table id=\"T_720b0\">\n",
       "  <thead>\n",
       "    <tr>\n",
       "      <th class=\"blank level0\" >&nbsp;</th>\n",
       "      <th id=\"T_720b0_level0_col0\" class=\"col_heading level0 col0\" >count</th>\n",
       "    </tr>\n",
       "    <tr>\n",
       "      <th class=\"index_name level0\" >PhoneTime</th>\n",
       "      <th class=\"blank col0\" >&nbsp;</th>\n",
       "    </tr>\n",
       "  </thead>\n",
       "  <tbody>\n",
       "    <tr>\n",
       "      <th id=\"T_720b0_level0_row0\" class=\"row_heading level0 row0\" >True</th>\n",
       "      <td id=\"T_720b0_row0_col0\" class=\"data row0 col0\" >83</td>\n",
       "    </tr>\n",
       "    <tr>\n",
       "      <th id=\"T_720b0_level0_row1\" class=\"row_heading level0 row1\" >False</th>\n",
       "      <td id=\"T_720b0_row1_col0\" class=\"data row1 col0\" >19</td>\n",
       "    </tr>\n",
       "  </tbody>\n",
       "</table>\n"
      ],
      "text/plain": [
       "<pandas.io.formats.style.Styler at 0x7f75e9625210>"
      ]
     },
     "metadata": {},
     "output_type": "display_data"
    },
    {
     "data": {
      "text/html": [
       "<style type=\"text/css\">\n",
       "#T_e855b_row0_col0 {\n",
       "  width: 10em;\n",
       "  background: linear-gradient(90deg, #d65f5f 25.6%, transparent 25.6%);\n",
       "}\n",
       "#T_e855b_row1_col0 {\n",
       "  width: 10em;\n",
       "  background: linear-gradient(90deg, #d65f5f 59.0%, transparent 59.0%);\n",
       "}\n",
       "#T_e855b_row2_col0 {\n",
       "  width: 10em;\n",
       "  background: linear-gradient(90deg, #d65f5f 100.0%, transparent 100.0%);\n",
       "}\n",
       "#T_e855b_row3_col0 {\n",
       "  width: 10em;\n",
       "  background: linear-gradient(90deg, #d65f5f 66.7%, transparent 66.7%);\n",
       "}\n",
       "#T_e855b_row4_col0 {\n",
       "  width: 10em;\n",
       "  background: linear-gradient(90deg, #d65f5f 10.3%, transparent 10.3%);\n",
       "}\n",
       "</style>\n",
       "<table id=\"T_e855b\">\n",
       "  <thead>\n",
       "    <tr>\n",
       "      <th class=\"blank level0\" >&nbsp;</th>\n",
       "      <th id=\"T_e855b_level0_col0\" class=\"col_heading level0 col0\" >count</th>\n",
       "    </tr>\n",
       "    <tr>\n",
       "      <th class=\"index_name level0\" >Tired</th>\n",
       "      <th class=\"blank col0\" >&nbsp;</th>\n",
       "    </tr>\n",
       "  </thead>\n",
       "  <tbody>\n",
       "    <tr>\n",
       "      <th id=\"T_e855b_level0_row0\" class=\"row_heading level0 row0\" >5</th>\n",
       "      <td id=\"T_e855b_row0_col0\" class=\"data row0 col0\" >10</td>\n",
       "    </tr>\n",
       "    <tr>\n",
       "      <th id=\"T_e855b_level0_row1\" class=\"row_heading level0 row1\" >4</th>\n",
       "      <td id=\"T_e855b_row1_col0\" class=\"data row1 col0\" >23</td>\n",
       "    </tr>\n",
       "    <tr>\n",
       "      <th id=\"T_e855b_level0_row2\" class=\"row_heading level0 row2\" >3</th>\n",
       "      <td id=\"T_e855b_row2_col0\" class=\"data row2 col0\" >39</td>\n",
       "    </tr>\n",
       "    <tr>\n",
       "      <th id=\"T_e855b_level0_row3\" class=\"row_heading level0 row3\" >2</th>\n",
       "      <td id=\"T_e855b_row3_col0\" class=\"data row3 col0\" >26</td>\n",
       "    </tr>\n",
       "    <tr>\n",
       "      <th id=\"T_e855b_level0_row4\" class=\"row_heading level0 row4\" >1</th>\n",
       "      <td id=\"T_e855b_row4_col0\" class=\"data row4 col0\" >4</td>\n",
       "    </tr>\n",
       "  </tbody>\n",
       "</table>\n"
      ],
      "text/plain": [
       "<pandas.io.formats.style.Styler at 0x7f75e9625d10>"
      ]
     },
     "metadata": {},
     "output_type": "display_data"
    },
    {
     "data": {
      "text/html": [
       "<style type=\"text/css\">\n",
       "#T_f951a_row0_col0 {\n",
       "  width: 10em;\n",
       "  background: linear-gradient(90deg, #d65f5f 100.0%, transparent 100.0%);\n",
       "}\n",
       "#T_f951a_row1_col0 {\n",
       "  width: 10em;\n",
       "  background: linear-gradient(90deg, #d65f5f 67.2%, transparent 67.2%);\n",
       "}\n",
       "</style>\n",
       "<table id=\"T_f951a\">\n",
       "  <thead>\n",
       "    <tr>\n",
       "      <th class=\"blank level0\" >&nbsp;</th>\n",
       "      <th id=\"T_f951a_level0_col0\" class=\"col_heading level0 col0\" >count</th>\n",
       "    </tr>\n",
       "    <tr>\n",
       "      <th class=\"index_name level0\" >Breakfast</th>\n",
       "      <th class=\"blank col0\" >&nbsp;</th>\n",
       "    </tr>\n",
       "  </thead>\n",
       "  <tbody>\n",
       "    <tr>\n",
       "      <th id=\"T_f951a_level0_row0\" class=\"row_heading level0 row0\" >True</th>\n",
       "      <td id=\"T_f951a_row0_col0\" class=\"data row0 col0\" >61</td>\n",
       "    </tr>\n",
       "    <tr>\n",
       "      <th id=\"T_f951a_level0_row1\" class=\"row_heading level0 row1\" >False</th>\n",
       "      <td id=\"T_f951a_row1_col0\" class=\"data row1 col0\" >41</td>\n",
       "    </tr>\n",
       "  </tbody>\n",
       "</table>\n"
      ],
      "text/plain": [
       "<pandas.io.formats.style.Styler at 0x7f75e9626810>"
      ]
     },
     "metadata": {},
     "output_type": "display_data"
    }
   ],
   "source": [
    "# Put the values in a list with a for loop and display the values\n",
    "sleep_values = []\n",
    "for key in sleep_df.keys():\n",
    "    sleep_values.append(sleep_df[key].value_counts().to_frame().sort_index(ascending=False).style.bar())\n",
    "\n",
    "for sleep_value in sleep_values:\n",
    "    display(sleep_value)\n"
   ]
  },
  {
   "cell_type": "code",
   "execution_count": null,
   "metadata": {},
   "outputs": [
    {
     "data": {
      "text/html": [
       "<div>\n",
       "<style scoped>\n",
       "    .dataframe tbody tr th:only-of-type {\n",
       "        vertical-align: middle;\n",
       "    }\n",
       "\n",
       "    .dataframe tbody tr th {\n",
       "        vertical-align: top;\n",
       "    }\n",
       "\n",
       "    .dataframe thead th {\n",
       "        text-align: right;\n",
       "    }\n",
       "</style>\n",
       "<table border=\"1\" class=\"dataframe\">\n",
       "  <thead>\n",
       "    <tr style=\"text-align: right;\">\n",
       "      <th></th>\n",
       "      <th>Hours</th>\n",
       "    </tr>\n",
       "  </thead>\n",
       "  <tbody>\n",
       "    <tr>\n",
       "      <th>count</th>\n",
       "      <td>102.000000</td>\n",
       "    </tr>\n",
       "    <tr>\n",
       "      <th>mean</th>\n",
       "      <td>6.656863</td>\n",
       "    </tr>\n",
       "    <tr>\n",
       "      <th>std</th>\n",
       "      <td>1.417676</td>\n",
       "    </tr>\n",
       "    <tr>\n",
       "      <th>min</th>\n",
       "      <td>2.000000</td>\n",
       "    </tr>\n",
       "    <tr>\n",
       "      <th>25%</th>\n",
       "      <td>6.000000</td>\n",
       "    </tr>\n",
       "    <tr>\n",
       "      <th>50%</th>\n",
       "      <td>7.000000</td>\n",
       "    </tr>\n",
       "    <tr>\n",
       "      <th>75%</th>\n",
       "      <td>7.000000</td>\n",
       "    </tr>\n",
       "    <tr>\n",
       "      <th>max</th>\n",
       "      <td>10.000000</td>\n",
       "    </tr>\n",
       "  </tbody>\n",
       "</table>\n",
       "</div>"
      ],
      "text/plain": [
       "            Hours\n",
       "count  102.000000\n",
       "mean     6.656863\n",
       "std      1.417676\n",
       "min      2.000000\n",
       "25%      6.000000\n",
       "50%      7.000000\n",
       "75%      7.000000\n",
       "max     10.000000"
      ]
     },
     "execution_count": 11,
     "metadata": {},
     "output_type": "execute_result"
    }
   ],
   "source": [
    "#code your answer to the target statistics here\n",
    "sleep_df[['Hours']].describe()"
   ]
  },
  {
   "cell_type": "code",
   "execution_count": null,
   "metadata": {},
   "outputs": [
    {
     "data": {
      "text/html": [
       "<div>\n",
       "<style scoped>\n",
       "    .dataframe tbody tr th:only-of-type {\n",
       "        vertical-align: middle;\n",
       "    }\n",
       "\n",
       "    .dataframe tbody tr th {\n",
       "        vertical-align: top;\n",
       "    }\n",
       "\n",
       "    .dataframe thead th {\n",
       "        text-align: right;\n",
       "    }\n",
       "</style>\n",
       "<table border=\"1\" class=\"dataframe\">\n",
       "  <thead>\n",
       "    <tr style=\"text-align: right;\">\n",
       "      <th></th>\n",
       "      <th>Enough</th>\n",
       "      <th>Hours</th>\n",
       "      <th>PhoneReach</th>\n",
       "      <th>PhoneTime</th>\n",
       "      <th>Tired</th>\n",
       "      <th>Breakfast</th>\n",
       "    </tr>\n",
       "  </thead>\n",
       "  <tbody>\n",
       "    <tr>\n",
       "      <th>Enough</th>\n",
       "      <td>1.000000</td>\n",
       "      <td>0.380740</td>\n",
       "      <td>-0.061183</td>\n",
       "      <td>-0.025481</td>\n",
       "      <td>-0.410416</td>\n",
       "      <td>0.129246</td>\n",
       "    </tr>\n",
       "    <tr>\n",
       "      <th>Hours</th>\n",
       "      <td>0.380740</td>\n",
       "      <td>1.000000</td>\n",
       "      <td>-0.054957</td>\n",
       "      <td>0.151378</td>\n",
       "      <td>-0.191913</td>\n",
       "      <td>0.225818</td>\n",
       "    </tr>\n",
       "    <tr>\n",
       "      <th>PhoneReach</th>\n",
       "      <td>-0.061183</td>\n",
       "      <td>-0.054957</td>\n",
       "      <td>1.000000</td>\n",
       "      <td>0.176592</td>\n",
       "      <td>-0.089936</td>\n",
       "      <td>-0.237404</td>\n",
       "    </tr>\n",
       "    <tr>\n",
       "      <th>PhoneTime</th>\n",
       "      <td>-0.025481</td>\n",
       "      <td>0.151378</td>\n",
       "      <td>0.176592</td>\n",
       "      <td>1.000000</td>\n",
       "      <td>-0.032974</td>\n",
       "      <td>0.018631</td>\n",
       "    </tr>\n",
       "    <tr>\n",
       "      <th>Tired</th>\n",
       "      <td>-0.410416</td>\n",
       "      <td>-0.191913</td>\n",
       "      <td>-0.089936</td>\n",
       "      <td>-0.032974</td>\n",
       "      <td>1.000000</td>\n",
       "      <td>-0.244963</td>\n",
       "    </tr>\n",
       "    <tr>\n",
       "      <th>Breakfast</th>\n",
       "      <td>0.129246</td>\n",
       "      <td>0.225818</td>\n",
       "      <td>-0.237404</td>\n",
       "      <td>0.018631</td>\n",
       "      <td>-0.244963</td>\n",
       "      <td>1.000000</td>\n",
       "    </tr>\n",
       "  </tbody>\n",
       "</table>\n",
       "</div>"
      ],
      "text/plain": [
       "              Enough     Hours  PhoneReach  PhoneTime     Tired  Breakfast\n",
       "Enough      1.000000  0.380740   -0.061183  -0.025481 -0.410416   0.129246\n",
       "Hours       0.380740  1.000000   -0.054957   0.151378 -0.191913   0.225818\n",
       "PhoneReach -0.061183 -0.054957    1.000000   0.176592 -0.089936  -0.237404\n",
       "PhoneTime  -0.025481  0.151378    0.176592   1.000000 -0.032974   0.018631\n",
       "Tired      -0.410416 -0.191913   -0.089936  -0.032974  1.000000  -0.244963\n",
       "Breakfast   0.129246  0.225818   -0.237404   0.018631 -0.244963   1.000000"
      ]
     },
     "execution_count": 12,
     "metadata": {},
     "output_type": "execute_result"
    }
   ],
   "source": [
    "# Make a correlation table\n",
    "c = sleep_df.corr()\n",
    "y_range = (list(reversed(c.columns)))\n",
    "x_range = (list(c.index))\n",
    "c"
   ]
  },
  {
   "cell_type": "code",
   "execution_count": null,
   "metadata": {},
   "outputs": [
    {
     "data": {
      "text/html": [
       "<div>\n",
       "<style scoped>\n",
       "    .dataframe tbody tr th:only-of-type {\n",
       "        vertical-align: middle;\n",
       "    }\n",
       "\n",
       "    .dataframe tbody tr th {\n",
       "        vertical-align: top;\n",
       "    }\n",
       "\n",
       "    .dataframe thead th {\n",
       "        text-align: right;\n",
       "    }\n",
       "</style>\n",
       "<table border=\"1\" class=\"dataframe\">\n",
       "  <thead>\n",
       "    <tr style=\"text-align: right;\">\n",
       "      <th></th>\n",
       "      <th>level_0</th>\n",
       "      <th>level_1</th>\n",
       "      <th>r</th>\n",
       "    </tr>\n",
       "  </thead>\n",
       "  <tbody>\n",
       "    <tr>\n",
       "      <th>0</th>\n",
       "      <td>Enough</td>\n",
       "      <td>Enough</td>\n",
       "      <td>1.000000</td>\n",
       "    </tr>\n",
       "    <tr>\n",
       "      <th>1</th>\n",
       "      <td>Enough</td>\n",
       "      <td>Hours</td>\n",
       "      <td>0.380740</td>\n",
       "    </tr>\n",
       "    <tr>\n",
       "      <th>2</th>\n",
       "      <td>Enough</td>\n",
       "      <td>PhoneReach</td>\n",
       "      <td>-0.061183</td>\n",
       "    </tr>\n",
       "    <tr>\n",
       "      <th>3</th>\n",
       "      <td>Enough</td>\n",
       "      <td>PhoneTime</td>\n",
       "      <td>-0.025481</td>\n",
       "    </tr>\n",
       "    <tr>\n",
       "      <th>4</th>\n",
       "      <td>Enough</td>\n",
       "      <td>Tired</td>\n",
       "      <td>-0.410416</td>\n",
       "    </tr>\n",
       "  </tbody>\n",
       "</table>\n",
       "</div>"
      ],
      "text/plain": [
       "  level_0     level_1         r\n",
       "0  Enough      Enough  1.000000\n",
       "1  Enough       Hours  0.380740\n",
       "2  Enough  PhoneReach -0.061183\n",
       "3  Enough   PhoneTime -0.025481\n",
       "4  Enough       Tired -0.410416"
      ]
     },
     "execution_count": 13,
     "metadata": {},
     "output_type": "execute_result"
    }
   ],
   "source": [
    "#reshape\n",
    "dfc = pd.DataFrame(c.stack(), columns=['r']).reset_index()\n",
    "dfc.head()"
   ]
  },
  {
   "cell_type": "code",
   "execution_count": null,
   "metadata": {},
   "outputs": [],
   "source": [
    "#transfer to ColumnDataSource object\n",
    "from bokeh.models import ColumnDataSource\n",
    "source = ColumnDataSource(dfc)"
   ]
  },
  {
   "cell_type": "code",
   "execution_count": null,
   "metadata": {},
   "outputs": [
    {
     "data": {
      "text/html": [
       "    <style>\n",
       "        .bk-notebook-logo {\n",
       "            display: block;\n",
       "            width: 20px;\n",
       "            height: 20px;\n",
       "            background-image: url(data:image/png;base64,iVBORw0KGgoAAAANSUhEUgAAABQAAAAUCAYAAACNiR0NAAAABHNCSVQICAgIfAhkiAAAAAlwSFlzAAALEgAACxIB0t1+/AAAABx0RVh0U29mdHdhcmUAQWRvYmUgRmlyZXdvcmtzIENTNui8sowAAAOkSURBVDiNjZRtaJVlGMd/1/08zzln5zjP1LWcU9N0NkN8m2CYjpgQYQXqSs0I84OLIC0hkEKoPtiH3gmKoiJDU7QpLgoLjLIQCpEsNJ1vqUOdO7ppbuec5+V+rj4ctwzd8IIbbi6u+8f1539dt3A78eXC7QizUF7gyV1fD1Yqg4JWz84yffhm0qkFqBogB9rM8tZdtwVsPUhWhGcFJngGeWrPzHm5oaMmkfEg1usvLFyc8jLRqDOMru7AyC8saQr7GG7f5fvDeH7Ej8CM66nIF+8yngt6HWaKh7k49Soy9nXurCi1o3qUbS3zWfrYeQDTB/Qj6kX6Ybhw4B+bOYoLKCC9H3Nu/leUTZ1JdRWkkn2ldcCamzrcf47KKXdAJllSlxAOkRgyHsGC/zRday5Qld9DyoM4/q/rUoy/CXh3jzOu3bHUVZeU+DEn8FInkPBFlu3+nW3Nw0mk6vCDiWg8CeJaxEwuHS3+z5RgY+YBR6V1Z1nxSOfoaPa4LASWxxdNp+VWTk7+4vzaou8v8PN+xo+KY2xsw6une2frhw05CTYOmQvsEhjhWjn0bmXPjpE1+kplmmkP3suftwTubK9Vq22qKmrBhpY4jvd5afdRA3wGjFAgcnTK2s4hY0/GPNIb0nErGMCRxWOOX64Z8RAC4oCXdklmEvcL8o0BfkNK4lUg9HTl+oPlQxdNo3Mg4Nv175e/1LDGzZen30MEjRUtmXSfiTVu1kK8W4txyV6BMKlbgk3lMwYCiusNy9fVfvvwMxv8Ynl6vxoByANLTWplvuj/nF9m2+PDtt1eiHPBr1oIfhCChQMBw6Aw0UulqTKZdfVvfG7VcfIqLG9bcldL/+pdWTLxLUy8Qq38heUIjh4XlzZxzQm19lLFlr8vdQ97rjZVOLf8nclzckbcD4wxXMidpX30sFd37Fv/GtwwhzhxGVAprjbg0gCAEeIgwCZyTV2Z1REEW8O4py0wsjeloKoMr6iCY6dP92H6Vw/oTyICIthibxjm/DfN9lVz8IqtqKYLUXfoKVMVQVVJOElGjrnnUt9T9wbgp8AyYKaGlqingHZU/uG2NTZSVqwHQTWkx9hxjkpWDaCg6Ckj5qebgBVbT3V3NNXMSiWSDdGV3hrtzla7J+duwPOToIg42ChPQOQjspnSlp1V+Gjdged7+8UN5CRAV7a5EdFNwCjEaBR27b3W890TE7g24NAP/mMDXRWrGoFPQI9ls/MWO2dWFAar/xcOIImbbpA3zgAAAABJRU5ErkJggg==);\n",
       "        }\n",
       "    </style>\n",
       "    <div>\n",
       "        <a href=\"https://bokeh.org\" target=\"_blank\" class=\"bk-notebook-logo\"></a>\n",
       "        <span id=\"c6a11468-248d-449a-abbd-fca7de18c5b8\">Loading BokehJS ...</span>\n",
       "    </div>\n"
      ]
     },
     "metadata": {},
     "output_type": "display_data"
    },
    {
     "data": {
      "application/javascript": "(function(root) {\n  function now() {\n    return new Date();\n  }\n\n  const force = true;\n\n  if (typeof root._bokeh_onload_callbacks === \"undefined\" || force === true) {\n    root._bokeh_onload_callbacks = [];\n    root._bokeh_is_loading = undefined;\n  }\n\nconst JS_MIME_TYPE = 'application/javascript';\n  const HTML_MIME_TYPE = 'text/html';\n  const EXEC_MIME_TYPE = 'application/vnd.bokehjs_exec.v0+json';\n  const CLASS_NAME = 'output_bokeh rendered_html';\n\n  /**\n   * Render data to the DOM node\n   */\n  function render(props, node) {\n    const script = document.createElement(\"script\");\n    node.appendChild(script);\n  }\n\n  /**\n   * Handle when an output is cleared or removed\n   */\n  function handleClearOutput(event, handle) {\n    function drop(id) {\n      const view = Bokeh.index.get_by_id(id)\n      if (view != null) {\n        view.model.document.clear()\n        Bokeh.index.delete(view)\n      }\n    }\n\n    const cell = handle.cell;\n\n    const id = cell.output_area._bokeh_element_id;\n    const server_id = cell.output_area._bokeh_server_id;\n\n    // Clean up Bokeh references\n    if (id != null) {\n      drop(id)\n    }\n\n    if (server_id !== undefined) {\n      // Clean up Bokeh references\n      const cmd_clean = \"from bokeh.io.state import curstate; print(curstate().uuid_to_server['\" + server_id + \"'].get_sessions()[0].document.roots[0]._id)\";\n      cell.notebook.kernel.execute(cmd_clean, {\n        iopub: {\n          output: function(msg) {\n            const id = msg.content.text.trim()\n            drop(id)\n          }\n        }\n      });\n      // Destroy server and session\n      const cmd_destroy = \"import bokeh.io.notebook as ion; ion.destroy_server('\" + server_id + \"')\";\n      cell.notebook.kernel.execute(cmd_destroy);\n    }\n  }\n\n  /**\n   * Handle when a new output is added\n   */\n  function handleAddOutput(event, handle) {\n    const output_area = handle.output_area;\n    const output = handle.output;\n\n    // limit handleAddOutput to display_data with EXEC_MIME_TYPE content only\n    if ((output.output_type != \"display_data\") || (!Object.prototype.hasOwnProperty.call(output.data, EXEC_MIME_TYPE))) {\n      return\n    }\n\n    const toinsert = output_area.element.find(\".\" + CLASS_NAME.split(' ')[0]);\n\n    if (output.metadata[EXEC_MIME_TYPE][\"id\"] !== undefined) {\n      toinsert[toinsert.length - 1].firstChild.textContent = output.data[JS_MIME_TYPE];\n      // store reference to embed id on output_area\n      output_area._bokeh_element_id = output.metadata[EXEC_MIME_TYPE][\"id\"];\n    }\n    if (output.metadata[EXEC_MIME_TYPE][\"server_id\"] !== undefined) {\n      const bk_div = document.createElement(\"div\");\n      bk_div.innerHTML = output.data[HTML_MIME_TYPE];\n      const script_attrs = bk_div.children[0].attributes;\n      for (let i = 0; i < script_attrs.length; i++) {\n        toinsert[toinsert.length - 1].firstChild.setAttribute(script_attrs[i].name, script_attrs[i].value);\n        toinsert[toinsert.length - 1].firstChild.textContent = bk_div.children[0].textContent\n      }\n      // store reference to server id on output_area\n      output_area._bokeh_server_id = output.metadata[EXEC_MIME_TYPE][\"server_id\"];\n    }\n  }\n\n  function register_renderer(events, OutputArea) {\n\n    function append_mime(data, metadata, element) {\n      // create a DOM node to render to\n      const toinsert = this.create_output_subarea(\n        metadata,\n        CLASS_NAME,\n        EXEC_MIME_TYPE\n      );\n      this.keyboard_manager.register_events(toinsert);\n      // Render to node\n      const props = {data: data, metadata: metadata[EXEC_MIME_TYPE]};\n      render(props, toinsert[toinsert.length - 1]);\n      element.append(toinsert);\n      return toinsert\n    }\n\n    /* Handle when an output is cleared or removed */\n    events.on('clear_output.CodeCell', handleClearOutput);\n    events.on('delete.Cell', handleClearOutput);\n\n    /* Handle when a new output is added */\n    events.on('output_added.OutputArea', handleAddOutput);\n\n    /**\n     * Register the mime type and append_mime function with output_area\n     */\n    OutputArea.prototype.register_mime_type(EXEC_MIME_TYPE, append_mime, {\n      /* Is output safe? */\n      safe: true,\n      /* Index of renderer in `output_area.display_order` */\n      index: 0\n    });\n  }\n\n  // register the mime type if in Jupyter Notebook environment and previously unregistered\n  if (root.Jupyter !== undefined) {\n    const events = require('base/js/events');\n    const OutputArea = require('notebook/js/outputarea').OutputArea;\n\n    if (OutputArea.prototype.mime_types().indexOf(EXEC_MIME_TYPE) == -1) {\n      register_renderer(events, OutputArea);\n    }\n  }\n  if (typeof (root._bokeh_timeout) === \"undefined\" || force === true) {\n    root._bokeh_timeout = Date.now() + 5000;\n    root._bokeh_failed_load = false;\n  }\n\n  const NB_LOAD_WARNING = {'data': {'text/html':\n     \"<div style='background-color: #fdd'>\\n\"+\n     \"<p>\\n\"+\n     \"BokehJS does not appear to have successfully loaded. If loading BokehJS from CDN, this \\n\"+\n     \"may be due to a slow or bad network connection. Possible fixes:\\n\"+\n     \"</p>\\n\"+\n     \"<ul>\\n\"+\n     \"<li>re-rerun `output_notebook()` to attempt to load from CDN again, or</li>\\n\"+\n     \"<li>use INLINE resources instead, as so:</li>\\n\"+\n     \"</ul>\\n\"+\n     \"<code>\\n\"+\n     \"from bokeh.resources import INLINE\\n\"+\n     \"output_notebook(resources=INLINE)\\n\"+\n     \"</code>\\n\"+\n     \"</div>\"}};\n\n  function display_loaded() {\n    const el = document.getElementById(\"c6a11468-248d-449a-abbd-fca7de18c5b8\");\n    if (el != null) {\n      el.textContent = \"BokehJS is loading...\";\n    }\n    if (root.Bokeh !== undefined) {\n      if (el != null) {\n        el.textContent = \"BokehJS \" + root.Bokeh.version + \" successfully loaded.\";\n      }\n    } else if (Date.now() < root._bokeh_timeout) {\n      setTimeout(display_loaded, 100)\n    }\n  }\n\n  function run_callbacks() {\n    try {\n      root._bokeh_onload_callbacks.forEach(function(callback) {\n        if (callback != null)\n          callback();\n      });\n    } finally {\n      delete root._bokeh_onload_callbacks\n    }\n    console.debug(\"Bokeh: all callbacks have finished\");\n  }\n\n  function load_libs(css_urls, js_urls, callback) {\n    if (css_urls == null) css_urls = [];\n    if (js_urls == null) js_urls = [];\n\n    root._bokeh_onload_callbacks.push(callback);\n    if (root._bokeh_is_loading > 0) {\n      console.debug(\"Bokeh: BokehJS is being loaded, scheduling callback at\", now());\n      return null;\n    }\n    if (js_urls == null || js_urls.length === 0) {\n      run_callbacks();\n      return null;\n    }\n    console.debug(\"Bokeh: BokehJS not loaded, scheduling load and callback at\", now());\n    root._bokeh_is_loading = css_urls.length + js_urls.length;\n\n    function on_load() {\n      root._bokeh_is_loading--;\n      if (root._bokeh_is_loading === 0) {\n        console.debug(\"Bokeh: all BokehJS libraries/stylesheets loaded\");\n        run_callbacks()\n      }\n    }\n\n    function on_error(url) {\n      console.error(\"failed to load \" + url);\n    }\n\n    for (let i = 0; i < css_urls.length; i++) {\n      const url = css_urls[i];\n      const element = document.createElement(\"link\");\n      element.onload = on_load;\n      element.onerror = on_error.bind(null, url);\n      element.rel = \"stylesheet\";\n      element.type = \"text/css\";\n      element.href = url;\n      console.debug(\"Bokeh: injecting link tag for BokehJS stylesheet: \", url);\n      document.body.appendChild(element);\n    }\n\n    for (let i = 0; i < js_urls.length; i++) {\n      const url = js_urls[i];\n      const element = document.createElement('script');\n      element.onload = on_load;\n      element.onerror = on_error.bind(null, url);\n      element.async = false;\n      element.src = url;\n      console.debug(\"Bokeh: injecting script tag for BokehJS library: \", url);\n      document.head.appendChild(element);\n    }\n  };\n\n  function inject_raw_css(css) {\n    const element = document.createElement(\"style\");\n    element.appendChild(document.createTextNode(css));\n    document.body.appendChild(element);\n  }\n\n  const js_urls = [\"https://cdn.bokeh.org/bokeh/release/bokeh-3.3.2.min.js\", \"https://cdn.bokeh.org/bokeh/release/bokeh-gl-3.3.2.min.js\", \"https://cdn.bokeh.org/bokeh/release/bokeh-widgets-3.3.2.min.js\", \"https://cdn.bokeh.org/bokeh/release/bokeh-tables-3.3.2.min.js\", \"https://cdn.bokeh.org/bokeh/release/bokeh-mathjax-3.3.2.min.js\"];\n  const css_urls = [];\n\n  const inline_js = [    function(Bokeh) {\n      Bokeh.set_log_level(\"info\");\n    },\nfunction(Bokeh) {\n    }\n  ];\n\n  function run_inline_js() {\n    if (root.Bokeh !== undefined || force === true) {\n          for (let i = 0; i < inline_js.length; i++) {\n      inline_js[i].call(root, root.Bokeh);\n    }\nif (force === true) {\n        display_loaded();\n      }} else if (Date.now() < root._bokeh_timeout) {\n      setTimeout(run_inline_js, 100);\n    } else if (!root._bokeh_failed_load) {\n      console.log(\"Bokeh: BokehJS failed to load within specified timeout.\");\n      root._bokeh_failed_load = true;\n    } else if (force !== true) {\n      const cell = $(document.getElementById(\"c6a11468-248d-449a-abbd-fca7de18c5b8\")).parents('.cell').data().cell;\n      cell.output_area.append_execute_result(NB_LOAD_WARNING)\n    }\n  }\n\n  if (root._bokeh_is_loading === 0) {\n    console.debug(\"Bokeh: BokehJS loaded, going straight to plotting\");\n    run_inline_js();\n  } else {\n    load_libs(css_urls, js_urls, function() {\n      console.debug(\"Bokeh: BokehJS plotting callback run at\", now());\n      run_inline_js();\n    });\n  }\n}(window));",
      "application/vnd.bokehjs_load.v0+json": ""
     },
     "metadata": {},
     "output_type": "display_data"
    },
    {
     "data": {
      "text/html": [
       "\n",
       "  <div id=\"c487a503-8eb8-4462-b30d-d417497205dd\" data-root-id=\"p1007\" style=\"display: contents;\"></div>\n"
      ]
     },
     "metadata": {},
     "output_type": "display_data"
    },
    {
     "data": {
      "application/javascript": "(function(root) {\n  function embed_document(root) {\n  const docs_json = {\"010bc944-6008-4078-b0ae-8f76ee3839dc\":{\"version\":\"3.3.2\",\"title\":\"Bokeh Application\",\"roots\":[{\"type\":\"object\",\"name\":\"Figure\",\"id\":\"p1007\",\"attributes\":{\"width\":500,\"height\":450,\"x_range\":{\"type\":\"object\",\"name\":\"FactorRange\",\"id\":\"p1017\",\"attributes\":{\"factors\":[\"Enough\",\"Hours\",\"PhoneReach\",\"PhoneTime\",\"Tired\",\"Breakfast\"]}},\"y_range\":{\"type\":\"object\",\"name\":\"FactorRange\",\"id\":\"p1018\",\"attributes\":{\"factors\":[\"Breakfast\",\"Tired\",\"PhoneTime\",\"PhoneReach\",\"Hours\",\"Enough\"]}},\"x_scale\":{\"type\":\"object\",\"name\":\"CategoricalScale\",\"id\":\"p1019\"},\"y_scale\":{\"type\":\"object\",\"name\":\"CategoricalScale\",\"id\":\"p1020\"},\"title\":{\"type\":\"object\",\"name\":\"Title\",\"id\":\"p1010\",\"attributes\":{\"text\":\"correlation heatmap\"}},\"renderers\":[{\"type\":\"object\",\"name\":\"GlyphRenderer\",\"id\":\"p1048\",\"attributes\":{\"data_source\":{\"type\":\"object\",\"name\":\"ColumnDataSource\",\"id\":\"p1001\",\"attributes\":{\"selected\":{\"type\":\"object\",\"name\":\"Selection\",\"id\":\"p1002\",\"attributes\":{\"indices\":[],\"line_indices\":[]}},\"selection_policy\":{\"type\":\"object\",\"name\":\"UnionRenderers\",\"id\":\"p1003\"},\"data\":{\"type\":\"map\",\"entries\":[[\"index\",{\"type\":\"ndarray\",\"array\":{\"type\":\"bytes\",\"data\":\"AAAAAAEAAAACAAAAAwAAAAQAAAAFAAAABgAAAAcAAAAIAAAACQAAAAoAAAALAAAADAAAAA0AAAAOAAAADwAAABAAAAARAAAAEgAAABMAAAAUAAAAFQAAABYAAAAXAAAAGAAAABkAAAAaAAAAGwAAABwAAAAdAAAAHgAAAB8AAAAgAAAAIQAAACIAAAAjAAAA\"},\"shape\":[36],\"dtype\":\"int32\",\"order\":\"little\"}],[\"level_0\",{\"type\":\"ndarray\",\"array\":[\"Enough\",\"Enough\",\"Enough\",\"Enough\",\"Enough\",\"Enough\",\"Hours\",\"Hours\",\"Hours\",\"Hours\",\"Hours\",\"Hours\",\"PhoneReach\",\"PhoneReach\",\"PhoneReach\",\"PhoneReach\",\"PhoneReach\",\"PhoneReach\",\"PhoneTime\",\"PhoneTime\",\"PhoneTime\",\"PhoneTime\",\"PhoneTime\",\"PhoneTime\",\"Tired\",\"Tired\",\"Tired\",\"Tired\",\"Tired\",\"Tired\",\"Breakfast\",\"Breakfast\",\"Breakfast\",\"Breakfast\",\"Breakfast\",\"Breakfast\"],\"shape\":[36],\"dtype\":\"object\",\"order\":\"little\"}],[\"level_1\",{\"type\":\"ndarray\",\"array\":[\"Enough\",\"Hours\",\"PhoneReach\",\"PhoneTime\",\"Tired\",\"Breakfast\",\"Enough\",\"Hours\",\"PhoneReach\",\"PhoneTime\",\"Tired\",\"Breakfast\",\"Enough\",\"Hours\",\"PhoneReach\",\"PhoneTime\",\"Tired\",\"Breakfast\",\"Enough\",\"Hours\",\"PhoneReach\",\"PhoneTime\",\"Tired\",\"Breakfast\",\"Enough\",\"Hours\",\"PhoneReach\",\"PhoneTime\",\"Tired\",\"Breakfast\",\"Enough\",\"Hours\",\"PhoneReach\",\"PhoneTime\",\"Tired\",\"Breakfast\"],\"shape\":[36],\"dtype\":\"object\",\"order\":\"little\"}],[\"r\",{\"type\":\"ndarray\",\"array\":{\"type\":\"bytes\",\"data\":\"AAAAAAAA8D/9We82Cl7YPwxHTAttU6+/MEGez5IXmr/oYCmpQUTav2cTB20fi8A//VnvNgpe2D8AAAAAAADwP5lL+7tgI6y/z90VWlpgwz9s804nmJDIv95zDjCc58w/DEdMC21Tr7+ZS/u7YCOsvwAAAAAAAPA/Mitbq42axj8gmy7WCQa3vw1dZnNCY86/MEGez5IXmr/P3RVaWmDDPzIrW6uNmsY/AAAAAAAA8D8RjXoO+OGgv7nCx7TsE5M/6GApqUFE2r9s804nmJDIvyCbLtYJBre/EY16DvjhoL8AAAAAAADwPwD0m63xWs+/ZxMHbR+LwD/ecw4wnOfMPw1dZnNCY86/ucLHtOwTkz8A9Jut8VrPvwAAAAAAAPA/\"},\"shape\":[36],\"dtype\":\"float64\",\"order\":\"little\"}]]}}},\"view\":{\"type\":\"object\",\"name\":\"CDSView\",\"id\":\"p1049\",\"attributes\":{\"filter\":{\"type\":\"object\",\"name\":\"AllIndices\",\"id\":\"p1050\"}}},\"glyph\":{\"type\":\"object\",\"name\":\"Rect\",\"id\":\"p1045\",\"attributes\":{\"x\":{\"type\":\"field\",\"field\":\"level_0\"},\"y\":{\"type\":\"field\",\"field\":\"level_1\"},\"width\":{\"type\":\"value\",\"value\":1},\"height\":{\"type\":\"value\",\"value\":1},\"line_color\":{\"type\":\"value\",\"value\":null},\"fill_color\":{\"type\":\"field\",\"field\":\"r\",\"transform\":{\"type\":\"object\",\"name\":\"LinearColorMapper\",\"id\":\"p1006\",\"attributes\":{\"palette\":[\"#FEFBE9\",\"#FCF7D5\",\"#F5F3C1\",\"#EAF0B5\",\"#DDECBF\",\"#D0E7CA\",\"#C2E3D2\",\"#B5DDD8\",\"#A8D8DC\",\"#9BD2E1\",\"#8DCBE4\",\"#81C4E7\",\"#7BBCE7\",\"#7EB2E4\",\"#88A5DD\",\"#9398D2\",\"#9B8AC4\",\"#9D7DB2\",\"#9A709E\",\"#906388\",\"#805770\",\"#684957\",\"#46353A\"],\"low\":0,\"high\":1}}}}},\"nonselection_glyph\":{\"type\":\"object\",\"name\":\"Rect\",\"id\":\"p1046\",\"attributes\":{\"x\":{\"type\":\"field\",\"field\":\"level_0\"},\"y\":{\"type\":\"field\",\"field\":\"level_1\"},\"width\":{\"type\":\"value\",\"value\":1},\"height\":{\"type\":\"value\",\"value\":1},\"line_color\":{\"type\":\"value\",\"value\":null},\"line_alpha\":{\"type\":\"value\",\"value\":0.1},\"fill_color\":{\"type\":\"field\",\"field\":\"r\",\"transform\":{\"id\":\"p1006\"}},\"fill_alpha\":{\"type\":\"value\",\"value\":0.1},\"hatch_alpha\":{\"type\":\"value\",\"value\":0.1}}},\"muted_glyph\":{\"type\":\"object\",\"name\":\"Rect\",\"id\":\"p1047\",\"attributes\":{\"x\":{\"type\":\"field\",\"field\":\"level_0\"},\"y\":{\"type\":\"field\",\"field\":\"level_1\"},\"width\":{\"type\":\"value\",\"value\":1},\"height\":{\"type\":\"value\",\"value\":1},\"line_color\":{\"type\":\"value\",\"value\":null},\"line_alpha\":{\"type\":\"value\",\"value\":0.2},\"fill_color\":{\"type\":\"field\",\"field\":\"r\",\"transform\":{\"id\":\"p1006\"}},\"fill_alpha\":{\"type\":\"value\",\"value\":0.2},\"hatch_alpha\":{\"type\":\"value\",\"value\":0.2}}}}}],\"toolbar\":{\"type\":\"object\",\"name\":\"Toolbar\",\"id\":\"p1016\",\"attributes\":{\"tools\":[{\"type\":\"object\",\"name\":\"PanTool\",\"id\":\"p1031\"},{\"type\":\"object\",\"name\":\"WheelZoomTool\",\"id\":\"p1032\",\"attributes\":{\"renderers\":\"auto\"}},{\"type\":\"object\",\"name\":\"BoxZoomTool\",\"id\":\"p1033\",\"attributes\":{\"overlay\":{\"type\":\"object\",\"name\":\"BoxAnnotation\",\"id\":\"p1034\",\"attributes\":{\"syncable\":false,\"level\":\"overlay\",\"visible\":false,\"left\":{\"type\":\"number\",\"value\":\"nan\"},\"right\":{\"type\":\"number\",\"value\":\"nan\"},\"top\":{\"type\":\"number\",\"value\":\"nan\"},\"bottom\":{\"type\":\"number\",\"value\":\"nan\"},\"left_units\":\"canvas\",\"right_units\":\"canvas\",\"top_units\":\"canvas\",\"bottom_units\":\"canvas\",\"line_color\":\"black\",\"line_alpha\":1.0,\"line_width\":2,\"line_dash\":[4,4],\"fill_color\":\"lightgrey\",\"fill_alpha\":0.5}}}},{\"type\":\"object\",\"name\":\"SaveTool\",\"id\":\"p1039\"},{\"type\":\"object\",\"name\":\"ResetTool\",\"id\":\"p1040\"},{\"type\":\"object\",\"name\":\"HelpTool\",\"id\":\"p1041\"}]}},\"toolbar_location\":null,\"left\":[{\"type\":\"object\",\"name\":\"CategoricalAxis\",\"id\":\"p1026\",\"attributes\":{\"ticker\":{\"type\":\"object\",\"name\":\"CategoricalTicker\",\"id\":\"p1027\"},\"formatter\":{\"type\":\"object\",\"name\":\"CategoricalTickFormatter\",\"id\":\"p1028\"},\"major_label_standoff\":0,\"major_label_policy\":{\"type\":\"object\",\"name\":\"AllLabels\",\"id\":\"p1029\"},\"major_label_text_font_size\":\"10px\",\"axis_line_color\":null,\"major_tick_line_color\":null}}],\"right\":[{\"type\":\"object\",\"name\":\"ColorBar\",\"id\":\"p1053\",\"attributes\":{\"location\":[0,0],\"ticker\":{\"type\":\"object\",\"name\":\"BasicTicker\",\"id\":\"p1051\",\"attributes\":{\"mantissas\":[1,2,5]}},\"formatter\":{\"type\":\"object\",\"name\":\"PrintfTickFormatter\",\"id\":\"p1052\",\"attributes\":{\"format\":\"%.1f\"}},\"major_label_policy\":{\"type\":\"object\",\"name\":\"NoOverlap\",\"id\":\"p1054\"},\"color_mapper\":{\"id\":\"p1006\"}}}],\"above\":[{\"type\":\"object\",\"name\":\"CategoricalAxis\",\"id\":\"p1021\",\"attributes\":{\"ticker\":{\"type\":\"object\",\"name\":\"CategoricalTicker\",\"id\":\"p1022\"},\"formatter\":{\"type\":\"object\",\"name\":\"CategoricalTickFormatter\",\"id\":\"p1023\"},\"major_label_standoff\":0,\"major_label_orientation\":1.0,\"major_label_policy\":{\"type\":\"object\",\"name\":\"AllLabels\",\"id\":\"p1024\"},\"major_label_text_font_size\":\"10px\",\"axis_line_color\":null,\"major_tick_line_color\":null}}],\"center\":[{\"type\":\"object\",\"name\":\"Grid\",\"id\":\"p1025\",\"attributes\":{\"axis\":{\"id\":\"p1021\"}}},{\"type\":\"object\",\"name\":\"Grid\",\"id\":\"p1030\",\"attributes\":{\"dimension\":1,\"axis\":{\"id\":\"p1026\"}}}]}}]}};\n  const render_items = [{\"docid\":\"010bc944-6008-4078-b0ae-8f76ee3839dc\",\"roots\":{\"p1007\":\"c487a503-8eb8-4462-b30d-d417497205dd\"},\"root_ids\":[\"p1007\"]}];\n  root.Bokeh.embed.embed_items_notebook(docs_json, render_items);\n  }\n  if (root.Bokeh !== undefined) {\n    embed_document(root);\n  } else {\n    let attempts = 0;\n    const timer = setInterval(function(root) {\n      if (root.Bokeh !== undefined) {\n        clearInterval(timer);\n        embed_document(root);\n      } else {\n        attempts++;\n        if (attempts > 100) {\n          clearInterval(timer);\n          console.log(\"Bokeh: ERROR: Unable to run BokehJS code because BokehJS library is missing\");\n        }\n      }\n    }, 10, root)\n  }\n})(window);",
      "application/vnd.bokehjs_exec.v0+json": ""
     },
     "metadata": {
      "application/vnd.bokehjs_exec.v0+json": {
       "id": "p1007"
      }
     },
     "output_type": "display_data"
    }
   ],
   "source": [
    "# code your answer for the heatmap here and briefly state your finding\n",
    "# plot a heatmap\n",
    "from bokeh.models import (BasicTicker, ColorBar, ColumnDataSource,\n",
    "                          LinearColorMapper, PrintfTickFormatter,)\n",
    "from bokeh.transform import transform\n",
    "from bokeh.palettes import Iridescent23\n",
    "from bokeh.io import output_notebook\n",
    "from bokeh.plotting import figure, output_file, show\n",
    "# create colormapper \n",
    "mapper = LinearColorMapper(palette=Iridescent23, low=0, high=1)\n",
    "\n",
    "# create a plot\n",
    "p = figure(title=\"correlation heatmap\", width=500, height=450,\n",
    "           x_range=x_range, y_range=y_range, x_axis_location=\"above\", toolbar_location=None)\n",
    "\n",
    "p.rect(x=\"level_0\", y=\"level_1\", width=1, height=1, source=source,\n",
    "       line_color=None, fill_color=transform('r', mapper))\n",
    "\n",
    "# create and add a colorbar to the right\n",
    "color_bar = ColorBar(color_mapper=mapper, location=(0, 0),\n",
    "                     ticker=BasicTicker(desired_num_ticks=len(x_range)), \n",
    "                     formatter=PrintfTickFormatter(format=\"%.1f\"))\n",
    "p.add_layout(color_bar, 'right')\n",
    "\n",
    "#draw the axis\n",
    "p.axis.axis_line_color = None\n",
    "p.axis.major_tick_line_color = None\n",
    "p.axis.major_label_text_font_size = \"10px\"\n",
    "p.axis.major_label_standoff = 0\n",
    "p.xaxis.major_label_orientation = 1.0\n",
    "\n",
    "# make an output\n",
    "output_notebook()\n",
    "show(p)\n"
   ]
  },
  {
   "cell_type": "code",
   "execution_count": null,
   "metadata": {},
   "outputs": [],
   "source": [
    "# initilize the dataframe another time, because the jitterplot is not compatible with booleans as factors in the colormap\n",
    "import pandas as pd\n",
    "import yaml\n",
    "import numpy as np\n",
    "\n",
    "def get_config():\n",
    "    with open(\"config.yaml\", 'r') as stream:\n",
    "        config = yaml.safe_load(stream)\n",
    "    return config\n",
    "\n",
    "config = get_config()\n",
    "\n",
    "sleep_df_jitter = pd.read_csv(config['sleep'])\n"
   ]
  },
  {
   "cell_type": "code",
   "execution_count": null,
   "metadata": {},
   "outputs": [
    {
     "data": {
      "text/html": [
       "\n",
       "  <div id=\"df5e55a8-1780-49cc-b7be-0294b12759df\" data-root-id=\"p2183\" style=\"display: contents;\"></div>\n"
      ]
     },
     "metadata": {},
     "output_type": "display_data"
    },
    {
     "data": {
      "application/javascript": "(function(root) {\n  function embed_document(root) {\n  const docs_json = {\"9377fdfc-ea99-46dc-99a6-cadd32fe5620\":{\"version\":\"3.3.2\",\"title\":\"Bokeh Application\",\"roots\":[{\"type\":\"object\",\"name\":\"Figure\",\"id\":\"p2183\",\"attributes\":{\"width\":800,\"height\":500,\"x_range\":{\"type\":\"object\",\"name\":\"DataRange1d\",\"id\":\"p2184\"},\"y_range\":{\"type\":\"object\",\"name\":\"DataRange1d\",\"id\":\"p2185\"},\"x_scale\":{\"type\":\"object\",\"name\":\"LinearScale\",\"id\":\"p2193\"},\"y_scale\":{\"type\":\"object\",\"name\":\"LinearScale\",\"id\":\"p2194\"},\"title\":{\"type\":\"object\",\"name\":\"Title\",\"id\":\"p2186\"},\"renderers\":[{\"type\":\"object\",\"name\":\"GlyphRenderer\",\"id\":\"p2225\",\"attributes\":{\"data_source\":{\"type\":\"object\",\"name\":\"ColumnDataSource\",\"id\":\"p2180\",\"attributes\":{\"selected\":{\"type\":\"object\",\"name\":\"Selection\",\"id\":\"p2181\",\"attributes\":{\"indices\":[],\"line_indices\":[]}},\"selection_policy\":{\"type\":\"object\",\"name\":\"UnionRenderers\",\"id\":\"p2182\"},\"data\":{\"type\":\"map\",\"entries\":[[\"index\",{\"type\":\"ndarray\",\"array\":{\"type\":\"bytes\",\"data\":\"AAAAAAEAAAACAAAAAwAAAAQAAAAFAAAABgAAAAcAAAAIAAAACQAAAAoAAAALAAAADAAAAA0AAAAOAAAADwAAABAAAAARAAAAEgAAABMAAAAUAAAAFQAAABYAAAAXAAAAGAAAABkAAAAaAAAAGwAAABwAAAAdAAAAHgAAAB8AAAAgAAAAIQAAACIAAAAjAAAAJAAAACUAAAAmAAAAJwAAACgAAAApAAAAKgAAACsAAAAsAAAALQAAAC4AAAAvAAAAMAAAADEAAAAyAAAAMwAAADQAAAA1AAAANgAAADcAAAA4AAAAOQAAADoAAAA7AAAAPAAAAD0AAAA+AAAAPwAAAEAAAABBAAAAQgAAAEMAAABEAAAARQAAAEYAAABHAAAASAAAAEkAAABKAAAASwAAAEwAAABNAAAATgAAAE8AAABQAAAAUQAAAFIAAABTAAAAVAAAAFUAAABWAAAAVwAAAFgAAABZAAAAWgAAAFsAAABcAAAAXQAAAF4AAABfAAAAYAAAAGEAAABiAAAAYwAAAGQAAABlAAAAZgAAAGcAAAA=\"},\"shape\":[104],\"dtype\":\"int32\",\"order\":\"little\"}],[\"Enough\",{\"type\":\"ndarray\",\"array\":[\"Yes\",\"No\",\"Yes\",\"No\",\"No\",\"No\",\"Yes\",\"No\",\"No\",\"No\",\"No\",\"No\",\"Yes\",\"Yes\",\"Yes\",\"Yes\",\"Yes\",\"Yes\",\"No\",\"Yes\",\"No\",\"No\",\"No\",\"No\",\"No\",\"No\",\"No\",\"No\",\"Yes\",\"Yes\",\"Yes\",\"No\",\"No\",\"No\",\"No\",\"No\",\"Yes\",\"Yes\",\"No\",\"No\",\"Yes\",\"No\",\"No\",\"No\",\"No\",\"No\",\"Yes\",\"No\",\"No\",\"No\",\"No\",\"No\",\"No\",\"No\",\"No\",\"No\",\"No\",\"No\",\"No\",\"Yes\",\"No\",\"No\",\"No\",\"No\",\"No\",\"No\",\"Yes\",\"No\",\"Yes\",\"No\",\"Yes\",\"No\",\"No\",\"No\",\"Yes\",\"No\",\"No\",\"Yes\",\"No\",\"No\",\"Yes\",\"No\",\"No\",\"Yes\",\"Yes\",\"No\",\"No\",\"No\",\"No\",\"Yes\",\"No\",\"Yes\",\"Yes\",\"Yes\",\"Yes\",\"Yes\",\"No\",\"Yes\",\"No\",\"No\",\"No\",\"Yes\",\"Yes\",\"Yes\"],\"shape\":[104],\"dtype\":\"object\",\"order\":\"little\"}],[\"Hours\",{\"type\":\"ndarray\",\"array\":{\"type\":\"bytes\",\"data\":\"AAAAAAAAIEAAAAAAAAAYQAAAAAAAABhAAAAAAAAAHEAAAAAAAAAcQAAAAAAAABxAAAAAAAAAHEAAAAAAAAAcQAAAAAAAABBAAAAAAAAAGEAAAAAAAAAkQAAAAAAAABxAAAAAAAAAHEAAAAAAAAAgQAAAAAAAABxAAAAAAAAAIEAAAAAAAAAYQAAAAAAAACBAAAAAAAAAIkAAAAAAAAAgQAAAAAAAAABAAAAAAAAAEEAAAAAAAAAUQAAAAAAAABxAAAAAAAAAFEAAAAAAAAAcQAAAAAAAABhAAAAAAAAAGEAAAAAAAAAcQAAAAAAAACJAAAAAAAAAIEAAAAAAAAAgQAAAAAAAABhAAAAAAAAAGEAAAAAAAAAcQAAAAAAAABxAAAAAAAAAHEAAAAAAAAAiQAAAAAAAABRAAAAAAAAAHEAAAAAAAAAgQAAAAAAAABxAAAAAAAAAFEAAAAAAAAAYQAAAAAAAABBAAAAAAAAAHEAAAAAAAAAiQAAAAAAAABRAAAAAAAAAGEAAAAAAAAAQQAAAAAAAABRAAAAAAAAAIEAAAAAAAAAcQAAAAAAAABRAAAAAAAAAHEAAAAAAAAAUQAAAAAAAABhAAAAAAAAAIkAAAAAAAAAiQAAAAAAAABxAAAAAAAAAGEAAAAAAAAAcQAAAAAAAAABAAAAAAAAAIEAAAAAAAAAcQAAAAAAAAPh/AAAAAAAAHEAAAAAAAAAcQAAAAAAAABxAAAAAAAAAGEAAAAAAAAAYQAAAAAAAABRAAAAAAAAAFEAAAAAAAAAYQAAAAAAAABxAAAAAAAAAGEAAAAAAAAAgQAAAAAAAABhAAAAAAAAAGEAAAAAAAAAcQAAAAAAAABhAAAAAAAAAGEAAAAAAAAAUQAAAAAAAACBAAAAAAAAAIEAAAAAAAAAYQAAAAAAAACJAAAAAAAAAFEAAAAAAAAAYQAAAAAAAACBAAAAAAAAAHEAAAAAAAAD4fwAAAAAAABxAAAAAAAAAIkAAAAAAAAAgQAAAAAAAABxAAAAAAAAAHEAAAAAAAAAcQAAAAAAAABhAAAAAAAAAHEAAAAAAAAAcQAAAAAAAACBAAAAAAAAAHEAAAAAAAAAYQA==\"},\"shape\":[104],\"dtype\":\"float64\",\"order\":\"little\"}],[\"PhoneReach\",{\"type\":\"ndarray\",\"array\":[\"Yes\",\"Yes\",\"Yes\",\"Yes\",\"Yes\",\"Yes\",\"Yes\",\"Yes\",\"No\",\"Yes\",\"Yes\",\"Yes\",\"Yes\",\"Yes\",\"No\",\"Yes\",\"Yes\",\"Yes\",\"Yes\",\"Yes\",\"Yes\",\"Yes\",\"Yes\",\"Yes\",\"Yes\",\"No\",\"Yes\",\"Yes\",\"Yes\",\"No\",\"Yes\",\"No\",\"Yes\",\"No\",\"No\",\"Yes\",\"No\",\"No\",\"Yes\",\"Yes\",\"No\",\"No\",\"Yes\",\"Yes\",\"No\",\"Yes\",\"Yes\",\"No\",\"No\",\"Yes\",\"Yes\",\"Yes\",\"No\",\"Yes\",\"Yes\",\"No\",\"Yes\",\"No\",\"Yes\",\"Yes\",\"Yes\",\"Yes\",\"No\",\"Yes\",\"Yes\",\"Yes\",\"Yes\",\"Yes\",\"Yes\",\"Yes\",\"No\",\"Yes\",\"Yes\",\"No\",\"Yes\",\"No\",\"Yes\",\"Yes\",\"Yes\",\"Yes\",\"Yes\",\"Yes\",\"No\",\"No\",\"No\",\"Yes\",\"No\",\"Yes\",\"Yes\",\"No\",\"No\",\"No\",\"No\",\"No\",\"Yes\",\"No\",\"Yes\",\"Yes\",\"Yes\",\"Yes\",\"No\",\"Yes\",\"Yes\",\"Yes\"],\"shape\":[104],\"dtype\":\"object\",\"order\":\"little\"}],[\"PhoneTime\",{\"type\":\"ndarray\",\"array\":[\"Yes\",\"Yes\",\"Yes\",\"Yes\",\"Yes\",\"Yes\",\"Yes\",\"Yes\",\"Yes\",\"Yes\",\"Yes\",\"Yes\",\"Yes\",\"Yes\",\"Yes\",\"Yes\",\"Yes\",\"Yes\",\"Yes\",\"Yes\",\"Yes\",\"Yes\",\"No\",\"No\",\"Yes\",\"Yes\",\"Yes\",\"Yes\",\"No\",\"No\",\"Yes\",\"Yes\",\"Yes\",\"No\",\"Yes\",\"Yes\",\"No\",\"Yes\",\"No\",\"Yes\",\"Yes\",\"Yes\",\"Yes\",\"Yes\",\"No\",\"Yes\",\"Yes\",\"No\",\"Yes\",\"Yes\",\"No\",\"Yes\",\"Yes\",\"Yes\",\"Yes\",\"Yes\",\"Yes\",\"Yes\",\"No\",\"Yes\",\"Yes\",\"Yes\",\"No\",\"Yes\",\"Yes\",\"No\",\"No\",\"Yes\",\"No\",\"Yes\",\"Yes\",\"Yes\",\"Yes\",\"Yes\",\"Yes\",\"Yes\",\"Yes\",\"Yes\",\"Yes\",\"Yes\",\"Yes\",\"Yes\",\"No\",\"No\",\"Yes\",\"Yes\",\"Yes\",\"No\",\"No\",\"Yes\",\"Yes\",\"Yes\",\"Yes\",\"No\",\"Yes\",\"Yes\",\"Yes\",\"Yes\",\"Yes\",\"Yes\",\"Yes\",\"Yes\",\"Yes\",\"Yes\"],\"shape\":[104],\"dtype\":\"object\",\"order\":\"little\"}],[\"Tired\",{\"type\":\"ndarray\",\"array\":{\"type\":\"bytes\",\"data\":\"AwAAAAMAAAACAAAABAAAAAIAAAAEAAAAAwAAAAMAAAACAAAAAwAAAAQAAAACAAAAAwAAAAIAAAADAAAAAwAAAAQAAAADAAAAAwAAAAMAAAAFAAAAAgAAAAMAAAADAAAAAgAAAAUAAAADAAAAAgAAAAIAAAACAAAAAgAAAAMAAAAEAAAAAwAAAAMAAAADAAAAAgAAAAIAAAAFAAAAAgAAAAEAAAAEAAAAAwAAAAMAAAAFAAAABAAAAAEAAAAFAAAAAwAAAAIAAAADAAAAAwAAAAQAAAACAAAAAwAAAAIAAAADAAAABQAAAAQAAAACAAAAAwAAAAMAAAAFAAAABQAAAAQAAAADAAAAAQAAAAMAAAADAAAAAwAAAAQAAAAEAAAABAAAAAUAAAAEAAAABAAAAAQAAAAEAAAAAwAAAAQAAAADAAAAAwAAAAQAAAACAAAAAQAAAAMAAAAFAAAABAAAAAIAAAADAAAABAAAAAIAAAACAAAAAgAAAAQAAAACAAAABAAAAAIAAAADAAAAAgAAAAMAAAADAAAAAgAAAAMAAAA=\"},\"shape\":[104],\"dtype\":\"int32\",\"order\":\"little\"}],[\"Breakfast\",{\"type\":\"ndarray\",\"array\":[\"Yes\",\"No\",\"Yes\",\"No\",\"Yes\",\"No\",\"Yes\",\"Yes\",\"Yes\",\"Yes\",\"No\",\"Yes\",\"No\",\"No\",\"Yes\",\"No\",\"Yes\",\"Yes\",\"Yes\",\"No\",\"No\",\"Yes\",\"Yes\",\"Yes\",\"No\",\"No\",\"No\",\"No\",\"Yes\",\"Yes\",\"Yes\",\"Yes\",\"No\",\"No\",\"Yes\",\"Yes\",\"Yes\",\"Yes\",\"No\",\"No\",\"Yes\",\"Yes\",\"No\",\"Yes\",\"No\",\"No\",\"Yes\",\"Yes\",\"Yes\",\"Yes\",\"No\",\"Yes\",\"Yes\",\"No\",\"Yes\",\"Yes\",\"No\",\"No\",\"Yes\",\"No\",\"No\",\"Yes\",\"No\",\"No\",\"Yes\",\"Yes\",\"No\",\"Yes\",\"No\",\"Yes\",\"Yes\",\"Yes\",\"No\",\"Yes\",\"Yes\",\"No\",\"Yes\",\"No\",\"Yes\",\"No\",\"No\",\"No\",\"No\",\"Yes\",\"Yes\",\"No\",\"Yes\",\"Yes\",\"Yes\",\"Yes\",\"Yes\",\"Yes\",\"Yes\",\"Yes\",\"No\",\"Yes\",\"Yes\",\"No\",\"No\",\"Yes\",\"Yes\",\"Yes\",\"Yes\",\"Yes\"],\"shape\":[104],\"dtype\":\"object\",\"order\":\"little\"}]]}}},\"view\":{\"type\":\"object\",\"name\":\"CDSView\",\"id\":\"p2226\",\"attributes\":{\"filter\":{\"type\":\"object\",\"name\":\"AllIndices\",\"id\":\"p2227\"}}},\"glyph\":{\"type\":\"object\",\"name\":\"Circle\",\"id\":\"p2222\",\"attributes\":{\"x\":{\"type\":\"field\",\"field\":\"Tired\",\"transform\":{\"type\":\"object\",\"name\":\"Jitter\",\"id\":\"p2216\",\"attributes\":{\"width\":0.4}}},\"y\":{\"type\":\"field\",\"field\":\"Hours\",\"transform\":{\"type\":\"object\",\"name\":\"Jitter\",\"id\":\"p2217\",\"attributes\":{\"width\":0.4,\"range\":{\"id\":\"p2185\"}}}},\"size\":{\"type\":\"value\",\"value\":9},\"line_color\":{\"type\":\"value\",\"value\":\"#1f77b4\"},\"line_alpha\":{\"type\":\"value\",\"value\":0.5},\"fill_color\":{\"type\":\"field\",\"field\":\"Breakfast\",\"transform\":{\"type\":\"object\",\"name\":\"CategoricalColorMapper\",\"id\":\"p2218\",\"attributes\":{\"palette\":[\"#3288bd\",\"#99d594\",\"#e6f598\",\"#ffffbf\",\"#fee08b\",\"#fc8d59\",\"#d53e4f\"],\"factors\":[\"Yes\",\"No\"]}}},\"fill_alpha\":{\"type\":\"value\",\"value\":0.5},\"hatch_alpha\":{\"type\":\"value\",\"value\":0.5}}},\"nonselection_glyph\":{\"type\":\"object\",\"name\":\"Circle\",\"id\":\"p2223\",\"attributes\":{\"x\":{\"type\":\"field\",\"field\":\"Tired\",\"transform\":{\"id\":\"p2216\"}},\"y\":{\"type\":\"field\",\"field\":\"Hours\",\"transform\":{\"id\":\"p2217\"}},\"size\":{\"type\":\"value\",\"value\":9},\"line_color\":{\"type\":\"value\",\"value\":\"#1f77b4\"},\"line_alpha\":{\"type\":\"value\",\"value\":0.1},\"fill_color\":{\"type\":\"field\",\"field\":\"Breakfast\",\"transform\":{\"id\":\"p2218\"}},\"fill_alpha\":{\"type\":\"value\",\"value\":0.1},\"hatch_alpha\":{\"type\":\"value\",\"value\":0.1}}},\"muted_glyph\":{\"type\":\"object\",\"name\":\"Circle\",\"id\":\"p2224\",\"attributes\":{\"x\":{\"type\":\"field\",\"field\":\"Tired\",\"transform\":{\"id\":\"p2216\"}},\"y\":{\"type\":\"field\",\"field\":\"Hours\",\"transform\":{\"id\":\"p2217\"}},\"size\":{\"type\":\"value\",\"value\":9},\"line_color\":{\"type\":\"value\",\"value\":\"#1f77b4\"},\"line_alpha\":{\"type\":\"value\",\"value\":0.2},\"fill_color\":{\"type\":\"field\",\"field\":\"Breakfast\",\"transform\":{\"id\":\"p2218\"}},\"fill_alpha\":{\"type\":\"value\",\"value\":0.2},\"hatch_alpha\":{\"type\":\"value\",\"value\":0.2}}}}}],\"toolbar\":{\"type\":\"object\",\"name\":\"Toolbar\",\"id\":\"p2192\",\"attributes\":{\"tools\":[{\"type\":\"object\",\"name\":\"PanTool\",\"id\":\"p2205\"},{\"type\":\"object\",\"name\":\"WheelZoomTool\",\"id\":\"p2206\",\"attributes\":{\"renderers\":\"auto\"}},{\"type\":\"object\",\"name\":\"BoxZoomTool\",\"id\":\"p2207\",\"attributes\":{\"overlay\":{\"type\":\"object\",\"name\":\"BoxAnnotation\",\"id\":\"p2208\",\"attributes\":{\"syncable\":false,\"level\":\"overlay\",\"visible\":false,\"left\":{\"type\":\"number\",\"value\":\"nan\"},\"right\":{\"type\":\"number\",\"value\":\"nan\"},\"top\":{\"type\":\"number\",\"value\":\"nan\"},\"bottom\":{\"type\":\"number\",\"value\":\"nan\"},\"left_units\":\"canvas\",\"right_units\":\"canvas\",\"top_units\":\"canvas\",\"bottom_units\":\"canvas\",\"line_color\":\"black\",\"line_alpha\":1.0,\"line_width\":2,\"line_dash\":[4,4],\"fill_color\":\"lightgrey\",\"fill_alpha\":0.5}}}},{\"type\":\"object\",\"name\":\"SaveTool\",\"id\":\"p2213\"},{\"type\":\"object\",\"name\":\"ResetTool\",\"id\":\"p2214\"},{\"type\":\"object\",\"name\":\"HelpTool\",\"id\":\"p2215\"}]}},\"left\":[{\"type\":\"object\",\"name\":\"LinearAxis\",\"id\":\"p2200\",\"attributes\":{\"ticker\":{\"type\":\"object\",\"name\":\"BasicTicker\",\"id\":\"p2201\",\"attributes\":{\"mantissas\":[1,2,5]}},\"formatter\":{\"type\":\"object\",\"name\":\"BasicTickFormatter\",\"id\":\"p2202\"},\"major_label_policy\":{\"type\":\"object\",\"name\":\"AllLabels\",\"id\":\"p2203\"}}}],\"below\":[{\"type\":\"object\",\"name\":\"LinearAxis\",\"id\":\"p2195\",\"attributes\":{\"ticker\":{\"type\":\"object\",\"name\":\"BasicTicker\",\"id\":\"p2196\",\"attributes\":{\"mantissas\":[1,2,5]}},\"formatter\":{\"type\":\"object\",\"name\":\"BasicTickFormatter\",\"id\":\"p2197\"},\"major_label_policy\":{\"type\":\"object\",\"name\":\"AllLabels\",\"id\":\"p2198\"}}}],\"center\":[{\"type\":\"object\",\"name\":\"Grid\",\"id\":\"p2199\",\"attributes\":{\"axis\":{\"id\":\"p2195\"}}},{\"type\":\"object\",\"name\":\"Grid\",\"id\":\"p2204\",\"attributes\":{\"dimension\":1,\"axis\":{\"id\":\"p2200\"},\"grid_line_color\":null}},{\"type\":\"object\",\"name\":\"Legend\",\"id\":\"p2228\",\"attributes\":{\"items\":[{\"type\":\"object\",\"name\":\"LegendItem\",\"id\":\"p2229\",\"attributes\":{\"label\":{\"type\":\"field\",\"field\":\"Breakfast\"},\"renderers\":[{\"id\":\"p2225\"}]}}]}}]}}]}};\n  const render_items = [{\"docid\":\"9377fdfc-ea99-46dc-99a6-cadd32fe5620\",\"roots\":{\"p2183\":\"df5e55a8-1780-49cc-b7be-0294b12759df\"},\"root_ids\":[\"p2183\"]}];\n  root.Bokeh.embed.embed_items_notebook(docs_json, render_items);\n  }\n  if (root.Bokeh !== undefined) {\n    embed_document(root);\n  } else {\n    let attempts = 0;\n    const timer = setInterval(function(root) {\n      if (root.Bokeh !== undefined) {\n        clearInterval(timer);\n        embed_document(root);\n      } else {\n        attempts++;\n        if (attempts > 100) {\n          clearInterval(timer);\n          console.log(\"Bokeh: ERROR: Unable to run BokehJS code because BokehJS library is missing\");\n        }\n      }\n    }, 10, root)\n  }\n})(window);",
      "application/vnd.bokehjs_exec.v0+json": ""
     },
     "metadata": {
      "application/vnd.bokehjs_exec.v0+json": {
       "id": "p2183"
      }
     },
     "output_type": "display_data"
    }
   ],
   "source": [
    "from bokeh.io import output_file, show\n",
    "from bokeh.models import ColumnDataSource\n",
    "from bokeh.plotting import figure\n",
    "from bokeh.transform import jitter\n",
    "from bokeh.transform import jitter, factor_cmap\n",
    "\n",
    "output_file(\"jitterplot_breakfast.html\")\n",
    "\n",
    "source = ColumnDataSource(sleep_df_jitter)\n",
    "\n",
    "y_range = [1, 2, 3, 4, 5]\n",
    "\n",
    "factor = [\"Yes\",\"No\"]\n",
    "\n",
    "p = figure(width=800, height=500,\n",
    "           title=\"\")\n",
    "\n",
    "p.circle(x=jitter('Tired', width=0.4), y=jitter('Hours', width=0.4, range=p.y_range),size = 9,\n",
    "           source=source, alpha=0.5,\n",
    "             fill_color=factor_cmap('Breakfast', palette=\"Spectral7\", factors=factor), legend_field='Breakfast')\n",
    "\n",
    "p.legend.location = \"top_right\"\n",
    "\n",
    "p.x_range.range_padding = 0.1\n",
    "p.ygrid.grid_line_color = None\n",
    "\n",
    "show(p)\n"
   ]
  },
  {
   "cell_type": "markdown",
   "metadata": {},
   "source": [
    "---"
   ]
  },
  {
   "cell_type": "markdown",
   "metadata": {},
   "source": [
    "<a name='2'></a>\n",
    "## Part 3: Check Assumptions\n",
    "\n",
    "Before we answer the research question with ANOVA we need to check the following assumptions:\n",
    "\n",
    "1. ANOVA assumes that the dependent variable is normaly distributed\n",
    "2. ANOVA also assumes homogeneity of variance\n",
    "3. ANOVA also assumes that the observations are independent of each other. Most of the time we need domain knowledge and experiment setup descriptions to estimate this assumption\n",
    "\n",
    "We are going to do this graphically and statistically. "
   ]
  },
  {
   "cell_type": "markdown",
   "metadata": {},
   "source": [
    "<a name='ex-31'></a>\n",
    "### Check normality (10 pt)\n",
    "\n",
    "<ul><li>\n",
    "Plot the distribution of the dependent variable. Add a vertical line at the position of the average. Add a vertical line for the robuust estimation. Add the normal distribution line to the plot. Comment on the normallity of the data. Do you want the full points? Plot with bokeh!</li>\n",
    "\n",
    "<li>Use a Shapiro-Wilk Test or an Anderson-Darling test to check statistically</li></ul>\n",
    "\n",
    "\n",
    "<details>    \n",
    "<summary>\n",
    "    <font size=\"3\" color=\"darkgreen\"><b>Hints</b></font>\n",
    "</summary>\n",
    "    <ul><li>check the code of lesson 1 DS1 bayesian statistics</li>\n",
    "        <li>heart_failure case of gitbook uses bokeh histograms</li>\n",
    "</ul>\n",
    "</details>"
   ]
  },
  {
   "cell_type": "code",
   "execution_count": null,
   "metadata": {},
   "outputs": [],
   "source": [
    "def DS_Q_Q_Hist(y, est='robust', **kwargs):\n",
    "    \"\"\"\n",
    "    *\n",
    "    Function DS_Q_Q_Hist(y, est='robust', **kwargs)\n",
    "    \n",
    "       This function makes a histogram of the data and superimposes a fitted normal\n",
    "       distribution.\n",
    "       \n",
    "    Requires:            - \n",
    "    \n",
    "    Arguments:\n",
    "      y                  data array\n",
    "      est                Estimation method for normal parameters mu and sigma:\n",
    "                         either 'robust' (default), or 'ML' (Maximum Likelihood),\n",
    "                         or 'preset' (given values)\n",
    "      N.B. If est='preset' than the optional parameters mu, sigma must be provided:\n",
    "      mu                 preset value of mu\n",
    "      sigma              preset value of sigma\n",
    "    \n",
    "    Returns:\n",
    "      Estimations of mu and sigma\n",
    "      Histogram of data with estimated normal distribution superimposed\n",
    "      \n",
    "    Author:            M.E.F. Apol\n",
    "    Date:              2020-01-06\n",
    "    \"\"\"\n",
    "    \n",
    "    import numpy as np\n",
    "    from scipy.stats import iqr # iqr is the Interquartile Range function\n",
    "    from scipy.stats import norm\n",
    "    import matplotlib.pyplot as plt\n",
    "    \n",
    "    # First, get the optional arguments mu and sigma:\n",
    "    mu_0 = kwargs.get('mu', None)\n",
    "    sigma_0 = kwargs.get('sigma', None)\n",
    "    \n",
    "    n = len(y)\n",
    "    \n",
    "    # Estimates of mu and sigma:\n",
    "    # ML estimates:\n",
    "    mu_ML = np.mean(y)\n",
    "    sigma2_ML = np.var(y) # biased estimate\n",
    "    sigma_ML = np.std(y) \n",
    "    s2 = np.var(y, ddof=1) # unbiased estimate\n",
    "    s = np.std(y, ddof=1) \n",
    "    # Robust estimates:\n",
    "    mu_R = np.median(y)\n",
    "    sigma_R = iqr(y)/1.349\n",
    "\n",
    "    # Assign values of mu and sigma for z-transform:\n",
    "    if est == 'ML':\n",
    "        mu, sigma = mu_ML, s       \n",
    "    elif est == 'robust':\n",
    "        mu, sigma = mu_R, sigma_R\n",
    "    elif est == 'preset':\n",
    "        mu, sigma = mu_0, sigma_0\n",
    "    else:\n",
    "        print('Wrong estimation method chosen!')\n",
    "        return()\n",
    "    print('Estimation method: ' + est)\n",
    "    print('mu = {:.4g}, sigma = {:.4g}'.format(mu,sigma))\n",
    "        \n",
    "    # Calculate the CLT normal distribution:\n",
    "    x = np.linspace(np.min(y), np.max(y), 501)\n",
    "    rv = np.array([norm.pdf(xi, loc = mu, scale = sigma) for xi in x])\n",
    "    \n",
    "    # Make a histogram with corresponding normal distribution:\n",
    "    plt.hist(x=y, density=True, bins=10, \n",
    "             color='darkgrey',alpha=1, rwidth=1, label='experimental')\n",
    "    plt.plot(x, rv, 'r', label='normal approximation')\n",
    "    plt.grid(axis='y', alpha=0.5)\n",
    "    plt.xlabel('Values, $y$')\n",
    "    plt.ylabel('Probability $f(y)$')\n",
    "    plt.title('Histogram with corresponding normal distribution (' + est + ')')\n",
    "    plt.legend(loc='best')\n",
    "    plt.show()\n",
    "    pass;"
   ]
  },
  {
   "cell_type": "code",
   "execution_count": null,
   "metadata": {},
   "outputs": [],
   "source": [
    "def DS_Q_Q_Plot(y, est = 'robust', **kwargs):\n",
    "    \"\"\"\n",
    "    *\n",
    "    Function DS_Q_Q_Plot(y, est = 'robust', **kwargs)\n",
    "    \n",
    "       This function makes a normal quantile-quantile plot (Q-Q-plot), also known\n",
    "       as a probability plot, to visually check whether data follow a normal distribution.\n",
    "    \n",
    "    Requires:            - \n",
    "    \n",
    "    Arguments:\n",
    "      y                  data array\n",
    "      est                Estimation method for normal parameters mu and sigma:\n",
    "                         either 'robust' (default), or 'ML' (Maximum Likelihood),\n",
    "                         or 'preset' (given values)\n",
    "      N.B. If est='preset' than the *optional* parameters mu, sigma must be provided:\n",
    "      mu                 preset value of mu\n",
    "      sigma              preset value of sigma\n",
    "      \n",
    "    Returns:\n",
    "      Estimated mu, sigma, n, and expected number of datapoints outside CI in Q-Q-plot.\n",
    "      Q-Q-plot\n",
    "      \n",
    "    Author:            M.E.F. Apol\n",
    "    Date:              2020-01-06, revision 2022-08-30\n",
    "    \"\"\"\n",
    "    \n",
    "    import numpy as np\n",
    "    from scipy.stats import iqr # iqr is the Interquartile Range function\n",
    "    import matplotlib.pyplot as plt\n",
    "    \n",
    "    # First, get the optional arguments mu and sigma:\n",
    "    mu_0 = kwargs.get('mu', None)\n",
    "    sigma_0 = kwargs.get('sigma', None)\n",
    "    \n",
    "    n = len(y)\n",
    "    \n",
    "    # Calculate order statistic:\n",
    "    y_os = np.sort(y)\n",
    "  \n",
    "    # Estimates of mu and sigma:\n",
    "    # ML estimates:\n",
    "    mu_ML = np.mean(y)\n",
    "    sigma2_ML = np.var(y)\n",
    "    sigma_ML = np.std(y) # biased estimate\n",
    "    s2 = np.var(y, ddof=1)\n",
    "    s = np.std(y, ddof=1) # unbiased estimate\n",
    "    # Robust estimates:\n",
    "    mu_R = np.median(y)\n",
    "    sigma_R = iqr(y)/1.349\n",
    "\n",
    "    # Assign values of mu and sigma for z-transform:\n",
    "    if est == 'ML':\n",
    "        mu, sigma = mu_ML, s\n",
    "    elif est == 'robust':\n",
    "        mu, sigma = mu_R, sigma_R\n",
    "    elif est == 'preset':\n",
    "        mu, sigma = mu_0, sigma_0\n",
    "    else:\n",
    "        print('Wrong estimation method chosen!')\n",
    "        return()\n",
    "        \n",
    "    print('Estimation method: ' + est)\n",
    "    print('n = {:d}, mu = {:.4g}, sigma = {:.4g}'.format(n, mu,sigma))\n",
    "    \n",
    "    # Expected number of deviations (95% confidence level):\n",
    "    n_dev = np.round(0.05*n)\n",
    "    \n",
    "    print('Expected number of data outside CI: {:.0f}'.format(n_dev))\n",
    "         \n",
    "    # Perform z-transform: sample quantiles z.i\n",
    "    z_i = (y_os - mu)/sigma\n",
    "\n",
    "    # Calculate cumulative probabilities p.i:\n",
    "    i = np.array(range(n)) + 1\n",
    "    p_i = (i - 0.5)/n\n",
    "\n",
    "    # Calculate theoretical quantiles z.(i):\n",
    "    from scipy.stats import norm\n",
    "    z_th = norm.ppf(p_i, 0, 1)\n",
    "\n",
    "    # Calculate SE or theoretical quantiles:\n",
    "    SE_z_th = (1/norm.pdf(z_th, 0, 1)) * np.sqrt((p_i * (1 - p_i)) / n)\n",
    "\n",
    "    # Calculate 95% CI of diagonal line:\n",
    "    CI_upper = z_th + 1.96 * SE_z_th\n",
    "    CI_lower = z_th - 1.96 * SE_z_th\n",
    "\n",
    "    # Make Q-Q plot:\n",
    "    plt.plot(z_th, z_i, 'o', color='k', label='experimental data')\n",
    "    plt.plot(z_th, z_th, '--', color='r', label='normal line')\n",
    "    plt.plot(z_th, CI_upper, '--', color='b', label='95% CI')\n",
    "    plt.plot(z_th, CI_lower, '--', color='b')\n",
    "    plt.xlabel('Theoretical quantiles, $z_{(i)}$')\n",
    "    plt.ylabel('Sample quantiles, $z_i$')\n",
    "    plt.title('Q-Q plot (' + est + ')')\n",
    "    plt.legend(loc='best')\n",
    "    plt.show()\n",
    "    pass;"
   ]
  },
  {
   "cell_type": "code",
   "execution_count": null,
   "metadata": {},
   "outputs": [],
   "source": [
    "def DS_AndersonDarling_test_normal(y, alpha=0.05):\n",
    "    \"\"\"\n",
    "    *\n",
    "    Function DS_AndersonDarling_test_normal(y, alpha)\n",
    "    \n",
    "       This function tests whether the data y follow a normal distribution (Null Hypothesis Significance Test).\n",
    "    \n",
    "    Requires:            scipy.stats.anderson\n",
    "    \n",
    "    References:          * Th. Anderson & D. Darling (1952) - \"Asymptotic Theory of \n",
    "                         Certain \"Goodness of Fit\" Criteria Based on Stochastic Processes\".\n",
    "                         Ann. Math. Statist. 23, 193-212. DOI: 10.1214/aoms/1177729437\n",
    "                         * R.B. D'Agostino (1986). \"Tests for the Normal Distribution\"\n",
    "                         In: R.B. D'Augostino & M.A. Stephens - \"Goodness-of-fit\n",
    "                         techniques\", Marcel Dekker.\n",
    "    \n",
    "    Arguments:\n",
    "      y                  data array\n",
    "      alpha              significance level of the critical value (default: alpha = 0.05)\n",
    "      \n",
    "    Usage:               DS_AndersonDarling_test_normal(y, alpha=alpha)\n",
    "      \n",
    "      \n",
    "    Returns:             AD, AD_star, p_value [ + print interpretable output to stdout ]\n",
    "    where\n",
    "      AD                 (Large-sample) Anderson-Darling statistic\n",
    "      AD_star            Small-sample Anderson-Darling statistic\n",
    "      p_value            p-value of AD-test\n",
    "      \n",
    "    Author:            M.E.F. Apol\n",
    "    Date:              2023-12-05\n",
    "    \"\"\"\n",
    "    \n",
    "    from scipy.stats import anderson\n",
    "    \n",
    "    AD = anderson(y, dist='norm').statistic\n",
    "    n = len(y)\n",
    "    AD_star = AD*(1 + 0.75/n + 2.25/n**2)\n",
    "    \n",
    "    # p-values based on D'Augostino & Stephens (1986):\n",
    "    if(AD_star <= 0.2): # Eq. (1)\n",
    "        p_value = 1 - np.exp(-13.436 + 101.14*AD_star - 223.73*AD_star**2)\n",
    "    elif((AD_star > 0.2) & (AD_star <= 0.34)): # Eq. (2)\n",
    "        p_value = 1 - np.exp(-8.318 + 42.796*AD_star - 59.938*AD_star**2)\n",
    "    elif((AD_star > 0.34) & (AD_star < 0.6)): # Eq. (3)\n",
    "        p_value = np.exp(0.9177 - 4.279*AD_star - 1.38*AD_star**2)\n",
    "    elif(AD_star >= 0.6): # Eq. (4)\n",
    "        p_value = np.exp(1.2937 - 5.709*AD_star + 0.0186*AD_star**2)\n",
    "        \n",
    "    # Critical AD* values, based on D'Augostino & Stephens (1986):\n",
    "    # Inverting these relations, we get\n",
    "    # Invert (1) if alpha > 0.884\n",
    "    # Invert (2) if 0.50 < alpha < 0.884\n",
    "    # Invert (3) if 0.1182 < alpha < 0.50\n",
    "    # Invert (4) if alpha < 0.1182\n",
    "    \n",
    "    if(alpha >= 0.884): # Eq. (1a)\n",
    "        AD_crit = (-101.14+np.sqrt(101.14**2-4*-223.73*(-13.436-np.log(1-alpha))))/(2* -223.73)\n",
    "    elif((alpha < 0.884) & (alpha >= 0.50)): # Eq. (2a)\n",
    "        AD_crit = (-42.796+np.sqrt(42.796**2-4* -59.938*(-8.318-np.log(1-alpha))))/(2* -59.938)\n",
    "    elif((alpha < 0.50) & (alpha >= 0.1182)): # Eq. (3a)\n",
    "        AD_crit = (4.279-np.sqrt(4.279**2-4* -1.38*(0.9177-np.log(alpha))))/(2* -1.38)\n",
    "    elif(alpha < 0.1182): # Eq. (4a)\n",
    "        AD_crit = (5.709-np.sqrt(5.709**2-4*0.0186*(1.2937-np.log(alpha))))/(2*0.0186)\n",
    "    \n",
    "    # Additional statistics:\n",
    "    y_av = np.mean(y)\n",
    "    s = np.std(y, ddof=1)\n",
    "    \n",
    "    print(80*'-')\n",
    "    print('Anderson-Darling-test for normality of data:')\n",
    "    print('     assuming Normal(mu | sigma2) data for dataset')\n",
    "    print('y.av = {:.3g}, s = {:.3g}, n = {:d}, alpha = {:.3g}'.format(y_av, s, n, alpha))\n",
    "    print('H0: data follows normal distribution')\n",
    "    print('H1: data does not follow normal distribution')\n",
    "    print('AD = {:.3g}, AD* = {:.3g}, p-value = {:.3g}, AD*.crit = {:.3g}'.format(AD, AD_star, p_value, AD_crit))\n",
    "    print(80*'-')\n",
    "    \n",
    "    return(AD, AD_star, p_value);"
   ]
  },
  {
   "cell_type": "code",
   "execution_count": null,
   "metadata": {},
   "outputs": [
    {
     "name": "stdout",
     "output_type": "stream",
     "text": [
      "--------------------------------------------------------------------------------\n",
      "Anderson-Darling-test for normality of data:\n",
      "     assuming Normal(mu | sigma2) data for dataset\n",
      "y.av = 6.66, s = 1.42, n = 102, alpha = 0.05\n",
      "H0: data follows normal distribution\n",
      "H1: data does not follow normal distribution\n",
      "AD = 2.67, AD* = 2.69, p-value = 8.92e-07, AD*.crit = 0.753\n",
      "--------------------------------------------------------------------------------\n"
     ]
    },
    {
     "data": {
      "text/plain": [
       "(2.6698909471921723, 2.6900998968357115, 8.922862441124548e-07)"
      ]
     },
     "execution_count": 21,
     "metadata": {},
     "output_type": "execute_result"
    }
   ],
   "source": [
    "# your code to plot here\n",
    "import numpy as np\n",
    "DS_AndersonDarling_test_normal(sleep_df['Hours'])"
   ]
  },
  {
   "cell_type": "code",
   "execution_count": null,
   "metadata": {},
   "outputs": [
    {
     "name": "stdout",
     "output_type": "stream",
     "text": [
      "Estimation method: robust\n",
      "mu = 7, sigma = 0.7413\n"
     ]
    },
    {
     "data": {
      "image/png": "[encoded data removed]",
      "text/plain": [
       "<Figure size 640x480 with 1 Axes>"
      ]
     },
     "metadata": {},
     "output_type": "display_data"
    }
   ],
   "source": [
    "# briefly summarize your findings\n",
    "DS_Q_Q_Hist(sleep_df['Hours'], est='robust')"
   ]
  },
  {
   "cell_type": "code",
   "execution_count": null,
   "metadata": {},
   "outputs": [
    {
     "name": "stdout",
     "output_type": "stream",
     "text": [
      "Estimation method: robust\n",
      "n = 102, mu = 3, sigma = 1.483\n",
      "Expected number of data outside CI: 5\n"
     ]
    },
    {
     "data": {
      "image/png": "[encoded data removed]",
      "text/plain": [
       "<Figure size 640x480 with 1 Axes>"
      ]
     },
     "metadata": {},
     "output_type": "display_data"
    }
   ],
   "source": [
    "DS_Q_Q_Plot(sleep_df['Tired'])"
   ]
  },
  {
   "cell_type": "markdown",
   "metadata": {},
   "source": [
    "**Conclusion** \n",
    "\n",
    "Based on the Anderson Darling test and the histogram and QQ-plot, we can see that the data is not normally distributed. Anderson Darling test p > 0.05. The QQ plot nicely demonstrates that the datapoints are not within the blue 95% confidence interval envelope."
   ]
  },
  {
   "cell_type": "markdown",
   "metadata": {},
   "source": [
    "<a name='ex-32'></a>\n",
    "### Check homogeneity of variance (20 pt)\n",
    "\n",
    "<ul><li>\n",
    "Use boxplots for the check of homoegeneity of variance. Do you want the full points? Plot with bokeh!</li>\n",
    "\n",
    "<li>Use a Levene’s & Bartlett’s Test of Equality (Homogeneity) of Variance to test equal variance statistically</li><ul>"
   ]
  },
  {
   "cell_type": "code",
   "execution_count": null,
   "metadata": {},
   "outputs": [
    {
     "data": {
      "text/html": [
       "\n",
       "  <div id=\"b8ce74b7-ff75-4b42-ae3c-32ec9b404d1b\" data-root-id=\"p1123\" style=\"display: contents;\"></div>\n"
      ]
     },
     "metadata": {},
     "output_type": "display_data"
    },
    {
     "data": {
      "application/javascript": "(function(root) {\n  function embed_document(root) {\n  const docs_json = {\"d6c4ac0e-99a9-4cd1-85a3-d6de721d9ae6\":{\"version\":\"3.3.2\",\"title\":\"Bokeh Application\",\"roots\":[{\"type\":\"object\",\"name\":\"Figure\",\"id\":\"p1123\",\"attributes\":{\"x_range\":{\"type\":\"object\",\"name\":\"DataRange1d\",\"id\":\"p1124\"},\"y_range\":{\"type\":\"object\",\"name\":\"Range1d\",\"id\":\"p1182\",\"attributes\":{\"start\":-2,\"end\":15}},\"x_scale\":{\"type\":\"object\",\"name\":\"LinearScale\",\"id\":\"p1133\"},\"y_scale\":{\"type\":\"object\",\"name\":\"LinearScale\",\"id\":\"p1134\"},\"title\":{\"type\":\"object\",\"name\":\"Title\",\"id\":\"p1126\"},\"renderers\":[{\"type\":\"object\",\"name\":\"GlyphRenderer\",\"id\":\"p1158\",\"attributes\":{\"data_source\":{\"type\":\"object\",\"name\":\"ColumnDataSource\",\"id\":\"p1120\",\"attributes\":{\"selected\":{\"type\":\"object\",\"name\":\"Selection\",\"id\":\"p1121\",\"attributes\":{\"indices\":[],\"line_indices\":[]}},\"selection_policy\":{\"type\":\"object\",\"name\":\"UnionRenderers\",\"id\":\"p1122\"},\"data\":{\"type\":\"map\",\"entries\":[[\"index\",{\"type\":\"ndarray\",\"array\":{\"type\":\"bytes\",\"data\":\"AAAAAAEAAAACAAAAAwAAAAQAAAAFAAAABgAAAAcAAAAIAAAACQAAAAoAAAALAAAADAAAAA0AAAAOAAAADwAAABAAAAARAAAAEgAAABMAAAAUAAAAFQAAABYAAAAXAAAAGAAAABkAAAAaAAAAGwAAABwAAAAdAAAAHgAAAB8AAAAgAAAAIQAAACIAAAAjAAAAJAAAACUAAAAmAAAAJwAAACgAAAApAAAAKgAAACsAAAAsAAAALQAAAC4AAAAvAAAAMAAAADEAAAAyAAAAMwAAADQAAAA1AAAANgAAADcAAAA4AAAAOQAAADoAAAA7AAAAPAAAAD0AAAA+AAAAPwAAAEAAAABBAAAAQgAAAEMAAABEAAAARQAAAEYAAABHAAAASAAAAEkAAABKAAAASwAAAEwAAABNAAAATgAAAE8AAABQAAAAUQAAAFIAAABTAAAAVAAAAFUAAABWAAAAVwAAAFgAAABZAAAAWgAAAFsAAABcAAAAXQAAAF4AAABfAAAAYAAAAGEAAABiAAAAYwAAAGQAAABlAAAA\"},\"shape\":[102],\"dtype\":\"int32\",\"order\":\"little\"}],[\"Enough\",{\"type\":\"ndarray\",\"array\":{\"type\":\"bytes\",\"data\":\"AQABAAAAAQAAAAAAAQEBAQEBAAEAAAAAAAAAAAEBAQAAAAAAAQEAAAEAAAAAAAEAAAAAAAAAAAAAAAABAAAAAAABAAEAAQAAAAEAAAEAAAEAAAEBAAAAAAEAAQEBAQABAAAAAQEB\"},\"shape\":[102],\"dtype\":\"bool\",\"order\":\"little\"}],[\"Hours\",{\"type\":\"ndarray\",\"array\":{\"type\":\"bytes\",\"data\":\"AAAAAAAAIEAAAAAAAAAYQAAAAAAAABhAAAAAAAAAHEAAAAAAAAAcQAAAAAAAABxAAAAAAAAAHEAAAAAAAAAcQAAAAAAAABBAAAAAAAAAGEAAAAAAAAAkQAAAAAAAABxAAAAAAAAAHEAAAAAAAAAgQAAAAAAAABxAAAAAAAAAIEAAAAAAAAAYQAAAAAAAACBAAAAAAAAAIkAAAAAAAAAgQAAAAAAAAABAAAAAAAAAEEAAAAAAAAAUQAAAAAAAABxAAAAAAAAAFEAAAAAAAAAcQAAAAAAAABhAAAAAAAAAGEAAAAAAAAAcQAAAAAAAACJAAAAAAAAAIEAAAAAAAAAgQAAAAAAAABhAAAAAAAAAGEAAAAAAAAAcQAAAAAAAABxAAAAAAAAAHEAAAAAAAAAiQAAAAAAAABRAAAAAAAAAHEAAAAAAAAAgQAAAAAAAABxAAAAAAAAAFEAAAAAAAAAYQAAAAAAAABBAAAAAAAAAHEAAAAAAAAAiQAAAAAAAABRAAAAAAAAAGEAAAAAAAAAQQAAAAAAAABRAAAAAAAAAIEAAAAAAAAAcQAAAAAAAABRAAAAAAAAAHEAAAAAAAAAUQAAAAAAAABhAAAAAAAAAIkAAAAAAAAAiQAAAAAAAABxAAAAAAAAAGEAAAAAAAAAcQAAAAAAAAABAAAAAAAAAIEAAAAAAAAAcQAAAAAAAABxAAAAAAAAAHEAAAAAAAAAcQAAAAAAAABhAAAAAAAAAGEAAAAAAAAAUQAAAAAAAABRAAAAAAAAAGEAAAAAAAAAcQAAAAAAAABhAAAAAAAAAIEAAAAAAAAAYQAAAAAAAABhAAAAAAAAAHEAAAAAAAAAYQAAAAAAAABhAAAAAAAAAFEAAAAAAAAAgQAAAAAAAACBAAAAAAAAAGEAAAAAAAAAiQAAAAAAAABRAAAAAAAAAGEAAAAAAAAAgQAAAAAAAABxAAAAAAAAAHEAAAAAAAAAiQAAAAAAAACBAAAAAAAAAHEAAAAAAAAAcQAAAAAAAABxAAAAAAAAAGEAAAAAAAAAcQAAAAAAAABxAAAAAAAAAIEAAAAAAAAAcQAAAAAAAABhA\"},\"shape\":[102],\"dtype\":\"float64\",\"order\":\"little\"}],[\"PhoneReach\",{\"type\":\"ndarray\",\"array\":{\"type\":\"bytes\",\"data\":\"AQEBAQEBAQEAAQEBAQEAAQEBAQEBAQEBAQABAQEAAQABAAABAAABAQAAAQEAAQEAAAEBAQABAQABAAEBAQEAAQEBAQEBAAEBAAEAAQEBAQEBAAAAAQABAQAAAAABAAEBAQEAAQEB\"},\"shape\":[102],\"dtype\":\"bool\",\"order\":\"little\"}],[\"PhoneTime\",{\"type\":\"ndarray\",\"array\":{\"type\":\"bytes\",\"data\":\"AQEBAQEBAQEBAQEBAQEBAQEBAQEBAQAAAQEBAQAAAQEBAAEBAAEAAQEBAQEAAQEAAQEAAQEBAQEBAQABAQEAAQEAAQABAQEBAQEBAQEBAQEBAAABAQEAAAEBAQABAQEBAQEBAQEB\"},\"shape\":[102],\"dtype\":\"bool\",\"order\":\"little\"}],[\"Tired\",{\"type\":\"ndarray\",\"array\":{\"type\":\"bytes\",\"data\":\"AwAAAAMAAAACAAAABAAAAAIAAAAEAAAAAwAAAAMAAAACAAAAAwAAAAQAAAACAAAAAwAAAAIAAAADAAAAAwAAAAQAAAADAAAAAwAAAAMAAAAFAAAAAgAAAAMAAAADAAAAAgAAAAUAAAADAAAAAgAAAAIAAAACAAAAAgAAAAMAAAAEAAAAAwAAAAMAAAADAAAAAgAAAAIAAAAFAAAAAgAAAAEAAAAEAAAAAwAAAAMAAAAFAAAABAAAAAEAAAAFAAAAAwAAAAIAAAADAAAAAwAAAAQAAAACAAAAAwAAAAIAAAADAAAABQAAAAQAAAACAAAAAwAAAAMAAAAFAAAABQAAAAQAAAABAAAAAwAAAAMAAAADAAAABAAAAAQAAAAEAAAABQAAAAQAAAAEAAAABAAAAAQAAAADAAAABAAAAAMAAAADAAAABAAAAAIAAAABAAAAAwAAAAUAAAAEAAAAAgAAAAMAAAAEAAAAAgAAAAIAAAAEAAAAAgAAAAQAAAACAAAAAwAAAAIAAAADAAAAAwAAAAIAAAADAAAA\"},\"shape\":[102],\"dtype\":\"int32\",\"order\":\"little\"}],[\"Breakfast\",{\"type\":\"ndarray\",\"array\":{\"type\":\"bytes\",\"data\":\"AQABAAEAAQEBAQABAAABAAEBAQAAAQEBAAAAAAEBAQEAAAEBAQEAAAEBAAEAAAEBAQEAAQEAAQEAAAEAAAEAAAEAAQABAQEAAQEAAQABAAAAAAEBAAEBAQEBAQEAAQEAAAEBAQEB\"},\"shape\":[102],\"dtype\":\"bool\",\"order\":\"little\"}],[\"q1\",{\"type\":\"ndarray\",\"array\":{\"type\":\"bytes\",\"data\":\"AAAAAAAAGEAAAAAAAAAYQAAAAAAAABhAAAAAAAAAGEAAAAAAAAAYQAAAAAAAABhAAAAAAAAAGEAAAAAAAAAYQAAAAAAAABhAAAAAAAAAGEAAAAAAAAAYQAAAAAAAABhAAAAAAAAAGEAAAAAAAAAYQAAAAAAAABhAAAAAAAAAGEAAAAAAAAAYQAAAAAAAABhAAAAAAAAAGEAAAAAAAAAYQAAAAAAAABhAAAAAAAAAGEAAAAAAAAAYQAAAAAAAABhAAAAAAAAAGEAAAAAAAAAYQAAAAAAAABhAAAAAAAAAGEAAAAAAAAAYQAAAAAAAABhAAAAAAAAAGEAAAAAAAAAYQAAAAAAAABhAAAAAAAAAGEAAAAAAAAAYQAAAAAAAABhAAAAAAAAAGEAAAAAAAAAYQAAAAAAAABhAAAAAAAAAGEAAAAAAAAAYQAAAAAAAABhAAAAAAAAAGEAAAAAAAAAYQAAAAAAAABhAAAAAAAAAGEAAAAAAAAAYQAAAAAAAABhAAAAAAAAAGEAAAAAAAAAYQAAAAAAAABhAAAAAAAAAGEAAAAAAAAAYQAAAAAAAABhAAAAAAAAAGEAAAAAAAAAYQAAAAAAAABhAAAAAAAAAGEAAAAAAAAAYQAAAAAAAABhAAAAAAAAAGEAAAAAAAAAYQAAAAAAAABhAAAAAAAAAGEAAAAAAAAAYQAAAAAAAABhAAAAAAAAAGEAAAAAAAAAYQAAAAAAAABhAAAAAAAAAGEAAAAAAAAAYQAAAAAAAABhAAAAAAAAAGEAAAAAAAAAYQAAAAAAAABhAAAAAAAAAGEAAAAAAAAAYQAAAAAAAABhAAAAAAAAAGEAAAAAAAAAYQAAAAAAAABhAAAAAAAAAGEAAAAAAAAAYQAAAAAAAABhAAAAAAAAAGEAAAAAAAAAYQAAAAAAAABhAAAAAAAAAGEAAAAAAAAAYQAAAAAAAABhAAAAAAAAAGEAAAAAAAAAYQAAAAAAAABhAAAAAAAAAGEAAAAAAAAAYQAAAAAAAABhAAAAAAAAAGEAAAAAAAAAYQAAAAAAAABhAAAAAAAAAGEAAAAAAAAAYQAAAAAAAABhA\"},\"shape\":[102],\"dtype\":\"float64\",\"order\":\"little\"}],[\"q2\",{\"type\":\"ndarray\",\"array\":{\"type\":\"bytes\",\"data\":\"AAAAAAAAHEAAAAAAAAAYQAAAAAAAABxAAAAAAAAAGEAAAAAAAAAcQAAAAAAAABhAAAAAAAAAHEAAAAAAAAAcQAAAAAAAABxAAAAAAAAAHEAAAAAAAAAYQAAAAAAAABxAAAAAAAAAGEAAAAAAAAAYQAAAAAAAABxAAAAAAAAAGEAAAAAAAAAcQAAAAAAAABxAAAAAAAAAHEAAAAAAAAAYQAAAAAAAABhAAAAAAAAAHEAAAAAAAAAcQAAAAAAAABxAAAAAAAAAGEAAAAAAAAAYQAAAAAAAABhAAAAAAAAAGEAAAAAAAAAcQAAAAAAAABxAAAAAAAAAHEAAAAAAAAAcQAAAAAAAABhAAAAAAAAAGEAAAAAAAAAcQAAAAAAAABxAAAAAAAAAHEAAAAAAAAAcQAAAAAAAABhAAAAAAAAAGEAAAAAAAAAcQAAAAAAAABxAAAAAAAAAGEAAAAAAAAAcQAAAAAAAABhAAAAAAAAAGEAAAAAAAAAcQAAAAAAAABxAAAAAAAAAHEAAAAAAAAAcQAAAAAAAABhAAAAAAAAAHEAAAAAAAAAcQAAAAAAAABhAAAAAAAAAHEAAAAAAAAAcQAAAAAAAABhAAAAAAAAAGEAAAAAAAAAcQAAAAAAAABhAAAAAAAAAGEAAAAAAAAAcQAAAAAAAABhAAAAAAAAAGEAAAAAAAAAcQAAAAAAAABhAAAAAAAAAHEAAAAAAAAAYQAAAAAAAABxAAAAAAAAAHEAAAAAAAAAcQAAAAAAAABhAAAAAAAAAHEAAAAAAAAAcQAAAAAAAABhAAAAAAAAAHEAAAAAAAAAYQAAAAAAAABxAAAAAAAAAGEAAAAAAAAAYQAAAAAAAABhAAAAAAAAAGEAAAAAAAAAcQAAAAAAAABxAAAAAAAAAGEAAAAAAAAAcQAAAAAAAABxAAAAAAAAAHEAAAAAAAAAcQAAAAAAAABxAAAAAAAAAHEAAAAAAAAAcQAAAAAAAABhAAAAAAAAAHEAAAAAAAAAcQAAAAAAAABhAAAAAAAAAGEAAAAAAAAAcQAAAAAAAABxAAAAAAAAAHEAAAAAAAAAcQAAAAAAAABxA\"},\"shape\":[102],\"dtype\":\"float64\",\"order\":\"little\"}],[\"q3\",{\"type\":\"ndarray\",\"array\":{\"type\":\"bytes\",\"data\":\"AAAAAAAAIEAAAAAAAAAcQAAAAAAAACBAAAAAAAAAHEAAAAAAAAAgQAAAAAAAABxAAAAAAAAAIEAAAAAAAAAgQAAAAAAAACBAAAAAAAAAIEAAAAAAAAAcQAAAAAAAACBAAAAAAAAAHEAAAAAAAAAcQAAAAAAAACBAAAAAAAAAHEAAAAAAAAAgQAAAAAAAACBAAAAAAAAAIEAAAAAAAAAcQAAAAAAAABxAAAAAAAAAIEAAAAAAAAAgQAAAAAAAACBAAAAAAAAAHEAAAAAAAAAcQAAAAAAAABxAAAAAAAAAHEAAAAAAAAAgQAAAAAAAACBAAAAAAAAAIEAAAAAAAAAgQAAAAAAAABxAAAAAAAAAHEAAAAAAAAAgQAAAAAAAACBAAAAAAAAAIEAAAAAAAAAgQAAAAAAAABxAAAAAAAAAHEAAAAAAAAAgQAAAAAAAACBAAAAAAAAAHEAAAAAAAAAgQAAAAAAAABxAAAAAAAAAHEAAAAAAAAAgQAAAAAAAACBAAAAAAAAAIEAAAAAAAAAgQAAAAAAAABxAAAAAAAAAIEAAAAAAAAAgQAAAAAAAABxAAAAAAAAAIEAAAAAAAAAgQAAAAAAAABxAAAAAAAAAHEAAAAAAAAAgQAAAAAAAABxAAAAAAAAAHEAAAAAAAAAgQAAAAAAAABxAAAAAAAAAHEAAAAAAAAAgQAAAAAAAABxAAAAAAAAAIEAAAAAAAAAcQAAAAAAAACBAAAAAAAAAIEAAAAAAAAAgQAAAAAAAABxAAAAAAAAAIEAAAAAAAAAgQAAAAAAAABxAAAAAAAAAIEAAAAAAAAAcQAAAAAAAACBAAAAAAAAAHEAAAAAAAAAcQAAAAAAAABxAAAAAAAAAHEAAAAAAAAAgQAAAAAAAACBAAAAAAAAAHEAAAAAAAAAgQAAAAAAAACBAAAAAAAAAIEAAAAAAAAAgQAAAAAAAACBAAAAAAAAAIEAAAAAAAAAgQAAAAAAAABxAAAAAAAAAIEAAAAAAAAAgQAAAAAAAABxAAAAAAAAAHEAAAAAAAAAgQAAAAAAAACBAAAAAAAAAIEAAAAAAAAAgQAAAAAAAACBA\"},\"shape\":[102],\"dtype\":\"float64\",\"order\":\"little\"}],[\"upper\",{\"type\":\"ndarray\",\"array\":{\"type\":\"bytes\",\"data\":\"AAAAAAAAJkAAAAAAAAAhQAAAAAAAACZAAAAAAAAAIUAAAAAAAAAmQAAAAAAAACFAAAAAAAAAJkAAAAAAAAAmQAAAAAAAACZAAAAAAAAAJkAAAAAAAAAhQAAAAAAAACZAAAAAAAAAIUAAAAAAAAAhQAAAAAAAACZAAAAAAAAAIUAAAAAAAAAmQAAAAAAAACZAAAAAAAAAJkAAAAAAAAAhQAAAAAAAACFAAAAAAAAAJkAAAAAAAAAmQAAAAAAAACZAAAAAAAAAIUAAAAAAAAAhQAAAAAAAACFAAAAAAAAAIUAAAAAAAAAmQAAAAAAAACZAAAAAAAAAJkAAAAAAAAAmQAAAAAAAACFAAAAAAAAAIUAAAAAAAAAmQAAAAAAAACZAAAAAAAAAJkAAAAAAAAAmQAAAAAAAACFAAAAAAAAAIUAAAAAAAAAmQAAAAAAAACZAAAAAAAAAIUAAAAAAAAAmQAAAAAAAACFAAAAAAAAAIUAAAAAAAAAmQAAAAAAAACZAAAAAAAAAJkAAAAAAAAAmQAAAAAAAACFAAAAAAAAAJkAAAAAAAAAmQAAAAAAAACFAAAAAAAAAJkAAAAAAAAAmQAAAAAAAACFAAAAAAAAAIUAAAAAAAAAmQAAAAAAAACFAAAAAAAAAIUAAAAAAAAAmQAAAAAAAACFAAAAAAAAAIUAAAAAAAAAmQAAAAAAAACFAAAAAAAAAJkAAAAAAAAAhQAAAAAAAACZAAAAAAAAAJkAAAAAAAAAmQAAAAAAAACFAAAAAAAAAJkAAAAAAAAAmQAAAAAAAACFAAAAAAAAAJkAAAAAAAAAhQAAAAAAAACZAAAAAAAAAIUAAAAAAAAAhQAAAAAAAACFAAAAAAAAAIUAAAAAAAAAmQAAAAAAAACZAAAAAAAAAIUAAAAAAAAAmQAAAAAAAACZAAAAAAAAAJkAAAAAAAAAmQAAAAAAAACZAAAAAAAAAJkAAAAAAAAAmQAAAAAAAACFAAAAAAAAAJkAAAAAAAAAmQAAAAAAAACFAAAAAAAAAIUAAAAAAAAAmQAAAAAAAACZAAAAAAAAAJkAAAAAAAAAmQAAAAAAAACZA\"},\"shape\":[102],\"dtype\":\"float64\",\"order\":\"little\"}],[\"lower\",{\"type\":\"ndarray\",\"array\":{\"type\":\"bytes\",\"data\":\"AAAAAAAACEAAAAAAAAASQAAAAAAAAAhAAAAAAAAAEkAAAAAAAAAIQAAAAAAAABJAAAAAAAAACEAAAAAAAAAIQAAAAAAAAAhAAAAAAAAACEAAAAAAAAASQAAAAAAAAAhAAAAAAAAAEkAAAAAAAAASQAAAAAAAAAhAAAAAAAAAEkAAAAAAAAAIQAAAAAAAAAhAAAAAAAAACEAAAAAAAAASQAAAAAAAABJAAAAAAAAACEAAAAAAAAAIQAAAAAAAAAhAAAAAAAAAEkAAAAAAAAASQAAAAAAAABJAAAAAAAAAEkAAAAAAAAAIQAAAAAAAAAhAAAAAAAAACEAAAAAAAAAIQAAAAAAAABJAAAAAAAAAEkAAAAAAAAAIQAAAAAAAAAhAAAAAAAAACEAAAAAAAAAIQAAAAAAAABJAAAAAAAAAEkAAAAAAAAAIQAAAAAAAAAhAAAAAAAAAEkAAAAAAAAAIQAAAAAAAABJAAAAAAAAAEkAAAAAAAAAIQAAAAAAAAAhAAAAAAAAACEAAAAAAAAAIQAAAAAAAABJAAAAAAAAACEAAAAAAAAAIQAAAAAAAABJAAAAAAAAACEAAAAAAAAAIQAAAAAAAABJAAAAAAAAAEkAAAAAAAAAIQAAAAAAAABJAAAAAAAAAEkAAAAAAAAAIQAAAAAAAABJAAAAAAAAAEkAAAAAAAAAIQAAAAAAAABJAAAAAAAAACEAAAAAAAAASQAAAAAAAAAhAAAAAAAAACEAAAAAAAAAIQAAAAAAAABJAAAAAAAAACEAAAAAAAAAIQAAAAAAAABJAAAAAAAAACEAAAAAAAAASQAAAAAAAAAhAAAAAAAAAEkAAAAAAAAASQAAAAAAAABJAAAAAAAAAEkAAAAAAAAAIQAAAAAAAAAhAAAAAAAAAEkAAAAAAAAAIQAAAAAAAAAhAAAAAAAAACEAAAAAAAAAIQAAAAAAAAAhAAAAAAAAACEAAAAAAAAAIQAAAAAAAABJAAAAAAAAACEAAAAAAAAAIQAAAAAAAABJAAAAAAAAAEkAAAAAAAAAIQAAAAAAAAAhAAAAAAAAACEAAAAAAAAAIQAAAAAAAAAhA\"},\"shape\":[102],\"dtype\":\"float64\",\"order\":\"little\"}]]}}},\"view\":{\"type\":\"object\",\"name\":\"CDSView\",\"id\":\"p1159\",\"attributes\":{\"filter\":{\"type\":\"object\",\"name\":\"AllIndices\",\"id\":\"p1160\"}}},\"glyph\":{\"type\":\"object\",\"name\":\"VBar\",\"id\":\"p1155\",\"attributes\":{\"x\":{\"type\":\"field\",\"field\":\"Breakfast\"},\"width\":{\"type\":\"value\",\"value\":0.7},\"bottom\":{\"type\":\"field\",\"field\":\"q3\"},\"top\":{\"type\":\"field\",\"field\":\"q2\"},\"fill_color\":{\"type\":\"field\",\"field\":\"Breakfast\",\"transform\":{\"type\":\"object\",\"name\":\"CategoricalColorMapper\",\"id\":\"p1151\",\"attributes\":{\"palette\":[\"#882E72\",\"#1965B0\",\"#7BAFDE\",\"#4EB265\",\"#CAE0AB\",\"#F7F056\",\"#DC050C\"],\"factors\":[\"Yes\",\"No\"]}}},\"hatch_color\":{\"type\":\"field\",\"field\":\"Breakfast\",\"transform\":{\"id\":\"p1151\"}}}},\"nonselection_glyph\":{\"type\":\"object\",\"name\":\"VBar\",\"id\":\"p1156\",\"attributes\":{\"x\":{\"type\":\"field\",\"field\":\"Breakfast\"},\"width\":{\"type\":\"value\",\"value\":0.7},\"bottom\":{\"type\":\"field\",\"field\":\"q3\"},\"top\":{\"type\":\"field\",\"field\":\"q2\"},\"line_alpha\":{\"type\":\"value\",\"value\":0.1},\"fill_color\":{\"type\":\"field\",\"field\":\"Breakfast\",\"transform\":{\"id\":\"p1151\"}},\"fill_alpha\":{\"type\":\"value\",\"value\":0.1},\"hatch_color\":{\"type\":\"field\",\"field\":\"Breakfast\",\"transform\":{\"id\":\"p1151\"}},\"hatch_alpha\":{\"type\":\"value\",\"value\":0.1}}},\"muted_glyph\":{\"type\":\"object\",\"name\":\"VBar\",\"id\":\"p1157\",\"attributes\":{\"x\":{\"type\":\"field\",\"field\":\"Breakfast\"},\"width\":{\"type\":\"value\",\"value\":0.7},\"bottom\":{\"type\":\"field\",\"field\":\"q3\"},\"top\":{\"type\":\"field\",\"field\":\"q2\"},\"line_alpha\":{\"type\":\"value\",\"value\":0.2},\"fill_color\":{\"type\":\"field\",\"field\":\"Breakfast\",\"transform\":{\"id\":\"p1151\"}},\"fill_alpha\":{\"type\":\"value\",\"value\":0.2},\"hatch_color\":{\"type\":\"field\",\"field\":\"Breakfast\",\"transform\":{\"id\":\"p1151\"}},\"hatch_alpha\":{\"type\":\"value\",\"value\":0.2}}}}},{\"type\":\"object\",\"name\":\"GlyphRenderer\",\"id\":\"p1167\",\"attributes\":{\"data_source\":{\"id\":\"p1120\"},\"view\":{\"type\":\"object\",\"name\":\"CDSView\",\"id\":\"p1168\",\"attributes\":{\"filter\":{\"type\":\"object\",\"name\":\"AllIndices\",\"id\":\"p1169\"}}},\"glyph\":{\"type\":\"object\",\"name\":\"VBar\",\"id\":\"p1164\",\"attributes\":{\"x\":{\"type\":\"field\",\"field\":\"Breakfast\"},\"width\":{\"type\":\"value\",\"value\":0.7},\"bottom\":{\"type\":\"field\",\"field\":\"q2\"},\"top\":{\"type\":\"field\",\"field\":\"q1\"},\"fill_color\":{\"type\":\"field\",\"field\":\"Breakfast\",\"transform\":{\"id\":\"p1151\"}},\"hatch_color\":{\"type\":\"field\",\"field\":\"Breakfast\",\"transform\":{\"id\":\"p1151\"}}}},\"nonselection_glyph\":{\"type\":\"object\",\"name\":\"VBar\",\"id\":\"p1165\",\"attributes\":{\"x\":{\"type\":\"field\",\"field\":\"Breakfast\"},\"width\":{\"type\":\"value\",\"value\":0.7},\"bottom\":{\"type\":\"field\",\"field\":\"q2\"},\"top\":{\"type\":\"field\",\"field\":\"q1\"},\"line_alpha\":{\"type\":\"value\",\"value\":0.1},\"fill_color\":{\"type\":\"field\",\"field\":\"Breakfast\",\"transform\":{\"id\":\"p1151\"}},\"fill_alpha\":{\"type\":\"value\",\"value\":0.1},\"hatch_color\":{\"type\":\"field\",\"field\":\"Breakfast\",\"transform\":{\"id\":\"p1151\"}},\"hatch_alpha\":{\"type\":\"value\",\"value\":0.1}}},\"muted_glyph\":{\"type\":\"object\",\"name\":\"VBar\",\"id\":\"p1166\",\"attributes\":{\"x\":{\"type\":\"field\",\"field\":\"Breakfast\"},\"width\":{\"type\":\"value\",\"value\":0.7},\"bottom\":{\"type\":\"field\",\"field\":\"q2\"},\"top\":{\"type\":\"field\",\"field\":\"q1\"},\"line_alpha\":{\"type\":\"value\",\"value\":0.2},\"fill_color\":{\"type\":\"field\",\"field\":\"Breakfast\",\"transform\":{\"id\":\"p1151\"}},\"fill_alpha\":{\"type\":\"value\",\"value\":0.2},\"hatch_color\":{\"type\":\"field\",\"field\":\"Breakfast\",\"transform\":{\"id\":\"p1151\"}},\"hatch_alpha\":{\"type\":\"value\",\"value\":0.2}}}}},{\"type\":\"object\",\"name\":\"GlyphRenderer\",\"id\":\"p1179\",\"attributes\":{\"data_source\":{\"type\":\"object\",\"name\":\"ColumnDataSource\",\"id\":\"p1170\",\"attributes\":{\"selected\":{\"type\":\"object\",\"name\":\"Selection\",\"id\":\"p1171\",\"attributes\":{\"indices\":[],\"line_indices\":[]}},\"selection_policy\":{\"type\":\"object\",\"name\":\"UnionRenderers\",\"id\":\"p1172\"},\"data\":{\"type\":\"map\",\"entries\":[[\"index\",{\"type\":\"ndarray\",\"array\":{\"type\":\"bytes\",\"data\":\"CgAAABQAAAAsAAAAOQAAAD4AAAA=\"},\"shape\":[5],\"dtype\":\"int32\",\"order\":\"little\"}],[\"Enough\",{\"type\":\"ndarray\",\"array\":{\"type\":\"bytes\",\"data\":\"AAAAAAA=\"},\"shape\":[5],\"dtype\":\"bool\",\"order\":\"little\"}],[\"Hours\",{\"type\":\"ndarray\",\"array\":{\"type\":\"bytes\",\"data\":\"AAAAAAAAJEAAAAAAAAAAQAAAAAAAABBAAAAAAAAAIkAAAAAAAAAAQA==\"},\"shape\":[5],\"dtype\":\"float64\",\"order\":\"little\"}],[\"PhoneReach\",{\"type\":\"ndarray\",\"array\":{\"type\":\"bytes\",\"data\":\"AQEAAAA=\"},\"shape\":[5],\"dtype\":\"bool\",\"order\":\"little\"}],[\"PhoneTime\",{\"type\":\"ndarray\",\"array\":{\"type\":\"bytes\",\"data\":\"AQEAAQA=\"},\"shape\":[5],\"dtype\":\"bool\",\"order\":\"little\"}],[\"Tired\",{\"type\":\"ndarray\",\"array\":{\"type\":\"bytes\",\"data\":\"BAAAAAUAAAAFAAAABQAAAAUAAAA=\"},\"shape\":[5],\"dtype\":\"int32\",\"order\":\"little\"}],[\"Breakfast\",{\"type\":\"ndarray\",\"array\":{\"type\":\"bytes\",\"data\":\"AAAAAAA=\"},\"shape\":[5],\"dtype\":\"bool\",\"order\":\"little\"}],[\"q1\",{\"type\":\"ndarray\",\"array\":{\"type\":\"bytes\",\"data\":\"AAAAAAAAGEAAAAAAAAAYQAAAAAAAABhAAAAAAAAAGEAAAAAAAAAYQA==\"},\"shape\":[5],\"dtype\":\"float64\",\"order\":\"little\"}],[\"q2\",{\"type\":\"ndarray\",\"array\":{\"type\":\"bytes\",\"data\":\"AAAAAAAAGEAAAAAAAAAYQAAAAAAAABhAAAAAAAAAGEAAAAAAAAAYQA==\"},\"shape\":[5],\"dtype\":\"float64\",\"order\":\"little\"}],[\"q3\",{\"type\":\"ndarray\",\"array\":{\"type\":\"bytes\",\"data\":\"AAAAAAAAHEAAAAAAAAAcQAAAAAAAABxAAAAAAAAAHEAAAAAAAAAcQA==\"},\"shape\":[5],\"dtype\":\"float64\",\"order\":\"little\"}],[\"upper\",{\"type\":\"ndarray\",\"array\":{\"type\":\"bytes\",\"data\":\"AAAAAAAAIUAAAAAAAAAhQAAAAAAAACFAAAAAAAAAIUAAAAAAAAAhQA==\"},\"shape\":[5],\"dtype\":\"float64\",\"order\":\"little\"}],[\"lower\",{\"type\":\"ndarray\",\"array\":{\"type\":\"bytes\",\"data\":\"AAAAAAAAEkAAAAAAAAASQAAAAAAAABJAAAAAAAAAEkAAAAAAAAASQA==\"},\"shape\":[5],\"dtype\":\"float64\",\"order\":\"little\"}]]}}},\"view\":{\"type\":\"object\",\"name\":\"CDSView\",\"id\":\"p1180\",\"attributes\":{\"filter\":{\"type\":\"object\",\"name\":\"AllIndices\",\"id\":\"p1181\"}}},\"glyph\":{\"type\":\"object\",\"name\":\"Scatter\",\"id\":\"p1176\",\"attributes\":{\"x\":{\"type\":\"field\",\"field\":\"Breakfast\"},\"y\":{\"type\":\"field\",\"field\":\"Hours\"},\"size\":{\"type\":\"value\",\"value\":7},\"line_alpha\":{\"type\":\"value\",\"value\":0.3},\"fill_color\":{\"type\":\"value\",\"value\":\"black\"},\"fill_alpha\":{\"type\":\"value\",\"value\":0.3},\"hatch_alpha\":{\"type\":\"value\",\"value\":0.3}}},\"nonselection_glyph\":{\"type\":\"object\",\"name\":\"Scatter\",\"id\":\"p1177\",\"attributes\":{\"x\":{\"type\":\"field\",\"field\":\"Breakfast\"},\"y\":{\"type\":\"field\",\"field\":\"Hours\"},\"size\":{\"type\":\"value\",\"value\":7},\"line_alpha\":{\"type\":\"value\",\"value\":0.1},\"fill_color\":{\"type\":\"value\",\"value\":\"black\"},\"fill_alpha\":{\"type\":\"value\",\"value\":0.1},\"hatch_alpha\":{\"type\":\"value\",\"value\":0.1}}},\"muted_glyph\":{\"type\":\"object\",\"name\":\"Scatter\",\"id\":\"p1178\",\"attributes\":{\"x\":{\"type\":\"field\",\"field\":\"Breakfast\"},\"y\":{\"type\":\"field\",\"field\":\"Hours\"},\"size\":{\"type\":\"value\",\"value\":7},\"line_alpha\":{\"type\":\"value\",\"value\":0.2},\"fill_color\":{\"type\":\"value\",\"value\":\"black\"},\"fill_alpha\":{\"type\":\"value\",\"value\":0.2},\"hatch_alpha\":{\"type\":\"value\",\"value\":0.2}}}}}],\"toolbar\":{\"type\":\"object\",\"name\":\"Toolbar\",\"id\":\"p1132\"},\"left\":[{\"type\":\"object\",\"name\":\"LinearAxis\",\"id\":\"p1140\",\"attributes\":{\"ticker\":{\"type\":\"object\",\"name\":\"BasicTicker\",\"id\":\"p1141\",\"attributes\":{\"mantissas\":[1,2,5]}},\"formatter\":{\"type\":\"object\",\"name\":\"BasicTickFormatter\",\"id\":\"p1142\"},\"axis_label\":\" Hours of sleep\",\"axis_label_text_font_size\":\"12px\",\"major_label_policy\":{\"type\":\"object\",\"name\":\"AllLabels\",\"id\":\"p1143\"},\"major_label_text_font_size\":\"14px\"}}],\"below\":[{\"type\":\"object\",\"name\":\"LinearAxis\",\"id\":\"p1135\",\"attributes\":{\"ticker\":{\"type\":\"object\",\"name\":\"BasicTicker\",\"id\":\"p1136\",\"attributes\":{\"mantissas\":[1,2,5]}},\"formatter\":{\"type\":\"object\",\"name\":\"BasicTickFormatter\",\"id\":\"p1137\"},\"axis_label\":\"Tireness score (0-5)\",\"axis_label_text_font_size\":\"12px\",\"major_label_policy\":{\"type\":\"object\",\"name\":\"AllLabels\",\"id\":\"p1138\"},\"major_label_text_font_size\":\"14px\"}}],\"center\":[{\"type\":\"object\",\"name\":\"Grid\",\"id\":\"p1139\",\"attributes\":{\"axis\":{\"id\":\"p1135\"},\"grid_line_color\":null}},{\"type\":\"object\",\"name\":\"Grid\",\"id\":\"p1144\",\"attributes\":{\"dimension\":1,\"axis\":{\"id\":\"p1140\"}}},{\"type\":\"object\",\"name\":\"Whisker\",\"id\":\"p1145\",\"attributes\":{\"source\":{\"id\":\"p1120\"},\"lower\":{\"type\":\"field\",\"field\":\"lower\"},\"lower_head\":{\"type\":\"object\",\"name\":\"TeeHead\",\"id\":\"p1149\",\"attributes\":{\"size\":{\"type\":\"value\",\"value\":10}}},\"upper\":{\"type\":\"field\",\"field\":\"upper\"},\"upper_head\":{\"type\":\"object\",\"name\":\"TeeHead\",\"id\":\"p1150\",\"attributes\":{\"size\":{\"type\":\"value\",\"value\":10}}},\"base\":{\"type\":\"field\",\"field\":\"Breakfast\"}}}],\"background_fill_color\":\"#eaefef\"}}]}};\n  const render_items = [{\"docid\":\"d6c4ac0e-99a9-4cd1-85a3-d6de721d9ae6\",\"roots\":{\"p1123\":\"b8ce74b7-ff75-4b42-ae3c-32ec9b404d1b\"},\"root_ids\":[\"p1123\"]}];\n  root.Bokeh.embed.embed_items_notebook(docs_json, render_items);\n  }\n  if (root.Bokeh !== undefined) {\n    embed_document(root);\n  } else {\n    let attempts = 0;\n    const timer = setInterval(function(root) {\n      if (root.Bokeh !== undefined) {\n        clearInterval(timer);\n        embed_document(root);\n      } else {\n        attempts++;\n        if (attempts > 100) {\n          clearInterval(timer);\n          console.log(\"Bokeh: ERROR: Unable to run BokehJS code because BokehJS library is missing\");\n        }\n      }\n    }, 10, root)\n  }\n})(window);",
      "application/vnd.bokehjs_exec.v0+json": ""
     },
     "metadata": {
      "application/vnd.bokehjs_exec.v0+json": {
       "id": "p1123"
      }
     },
     "output_type": "display_data"
    }
   ],
   "source": [
    "import pandas as pd\n",
    "from bokeh.models import ColumnDataSource, Whisker\n",
    "from bokeh.plotting import figure, show\n",
    "from bokeh.transform import factor_cmap\n",
    "from bokeh.models import Range1d\n",
    "\n",
    "df = sleep_df\n",
    "\n",
    "breakfast = ['Yes', 'No']\n",
    "\n",
    "# compute quantiles\n",
    "qs = df.groupby(\"Breakfast\").Hours.quantile([0.25, 0.5, 0.75])\n",
    "qs = qs.unstack().reset_index()\n",
    "qs.columns = [\"Breakfast\", \"q1\", \"q2\", \"q3\"]\n",
    "df = pd.merge(df, qs, on=\"Breakfast\", how=\"left\")\n",
    "\n",
    "# compute IQR outlier bounds\n",
    "iqr = df.q3 - df.q1\n",
    "df[\"upper\"] = df.q3 + 1.5*iqr\n",
    "df[\"lower\"] = df.q1 - 1.5*iqr\n",
    "\n",
    "source = ColumnDataSource(df)\n",
    "\n",
    "p = figure(tools=\"\",\n",
    "           title=\"\",\n",
    "           background_fill_color=\"#eaefef\", y_axis_label=\" Hours of sleep\", x_axis_label=\"Tireness score (0-5)\")\n",
    "\n",
    "# outlier range\n",
    "whisker = Whisker(base=\"Breakfast\", upper=\"upper\", lower=\"lower\", source=source)\n",
    "whisker.upper_head.size = whisker.lower_head.size = 10\n",
    "p.add_layout(whisker)\n",
    "\n",
    "# quantile boxes\n",
    "cmap = factor_cmap(\"Breakfast\", \"TolRainbow7\", breakfast)\n",
    "p.vbar(\"Breakfast\", 0.7, \"q2\", \"q3\", source=source, color=cmap , line_color=\"black\")\n",
    "p.vbar(\"Breakfast\", 0.7, \"q1\", \"q2\", source=source, color=cmap, line_color=\"black\")\n",
    "\n",
    "# outliers\n",
    "outliers = df[~df.Hours.between(df.lower, df.upper)]\n",
    "p.scatter(\"Breakfast\", \"Hours\", source=outliers, size=7, color=\"black\", alpha=0.3)\n",
    "\n",
    "p.xgrid.grid_line_color = None\n",
    "p.axis.major_label_text_font_size=\"14px\"\n",
    "p.axis.axis_label_text_font_size=\"12px\"\n",
    "\n",
    "p.y_range = Range1d(-2, 15)\n",
    "\n",
    "\n",
    "\n",
    "show(p)"
   ]
  },
  {
   "cell_type": "code",
   "execution_count": null,
   "metadata": {},
   "outputs": [
    {
     "data": {
      "text/html": [
       "\n",
       "  <div id=\"bc9cd273-c91e-48b0-97ad-9dee6a02d5f8\" data-root-id=\"p1235\" style=\"display: contents;\"></div>\n"
      ]
     },
     "metadata": {},
     "output_type": "display_data"
    },
    {
     "data": {
      "application/javascript": "(function(root) {\n  function embed_document(root) {\n  const docs_json = {\"0e95c491-bfba-4527-85dd-06f3b0777cdd\":{\"version\":\"3.3.2\",\"title\":\"Bokeh Application\",\"roots\":[{\"type\":\"object\",\"name\":\"Figure\",\"id\":\"p1235\",\"attributes\":{\"x_range\":{\"type\":\"object\",\"name\":\"DataRange1d\",\"id\":\"p1236\"},\"y_range\":{\"type\":\"object\",\"name\":\"Range1d\",\"id\":\"p1294\",\"attributes\":{\"start\":-2,\"end\":15}},\"x_scale\":{\"type\":\"object\",\"name\":\"LinearScale\",\"id\":\"p1245\"},\"y_scale\":{\"type\":\"object\",\"name\":\"LinearScale\",\"id\":\"p1246\"},\"title\":{\"type\":\"object\",\"name\":\"Title\",\"id\":\"p1238\"},\"renderers\":[{\"type\":\"object\",\"name\":\"GlyphRenderer\",\"id\":\"p1270\",\"attributes\":{\"data_source\":{\"type\":\"object\",\"name\":\"ColumnDataSource\",\"id\":\"p1232\",\"attributes\":{\"selected\":{\"type\":\"object\",\"name\":\"Selection\",\"id\":\"p1233\",\"attributes\":{\"indices\":[],\"line_indices\":[]}},\"selection_policy\":{\"type\":\"object\",\"name\":\"UnionRenderers\",\"id\":\"p1234\"},\"data\":{\"type\":\"map\",\"entries\":[[\"index\",{\"type\":\"ndarray\",\"array\":{\"type\":\"bytes\",\"data\":\"AAAAAAEAAAACAAAAAwAAAAQAAAAFAAAABgAAAAcAAAAIAAAACQAAAAoAAAALAAAADAAAAA0AAAAOAAAADwAAABAAAAARAAAAEgAAABMAAAAUAAAAFQAAABYAAAAXAAAAGAAAABkAAAAaAAAAGwAAABwAAAAdAAAAHgAAAB8AAAAgAAAAIQAAACIAAAAjAAAAJAAAACUAAAAmAAAAJwAAACgAAAApAAAAKgAAACsAAAAsAAAALQAAAC4AAAAvAAAAMAAAADEAAAAyAAAAMwAAADQAAAA1AAAANgAAADcAAAA4AAAAOQAAADoAAAA7AAAAPAAAAD0AAAA+AAAAPwAAAEAAAABBAAAAQgAAAEMAAABEAAAARQAAAEYAAABHAAAASAAAAEkAAABKAAAASwAAAEwAAABNAAAATgAAAE8AAABQAAAAUQAAAFIAAABTAAAAVAAAAFUAAABWAAAAVwAAAFgAAABZAAAAWgAAAFsAAABcAAAAXQAAAF4AAABfAAAAYAAAAGEAAABiAAAAYwAAAGQAAABlAAAA\"},\"shape\":[102],\"dtype\":\"int32\",\"order\":\"little\"}],[\"Enough\",{\"type\":\"ndarray\",\"array\":{\"type\":\"bytes\",\"data\":\"AQABAAAAAQAAAAAAAQEBAQEBAAEAAAAAAAAAAAEBAQAAAAAAAQEAAAEAAAAAAAEAAAAAAAAAAAAAAAABAAAAAAABAAEAAQAAAAEAAAEAAAEAAAEBAAAAAAEAAQEBAQABAAAAAQEB\"},\"shape\":[102],\"dtype\":\"bool\",\"order\":\"little\"}],[\"Hours\",{\"type\":\"ndarray\",\"array\":{\"type\":\"bytes\",\"data\":\"AAAAAAAAIEAAAAAAAAAYQAAAAAAAABhAAAAAAAAAHEAAAAAAAAAcQAAAAAAAABxAAAAAAAAAHEAAAAAAAAAcQAAAAAAAABBAAAAAAAAAGEAAAAAAAAAkQAAAAAAAABxAAAAAAAAAHEAAAAAAAAAgQAAAAAAAABxAAAAAAAAAIEAAAAAAAAAYQAAAAAAAACBAAAAAAAAAIkAAAAAAAAAgQAAAAAAAAABAAAAAAAAAEEAAAAAAAAAUQAAAAAAAABxAAAAAAAAAFEAAAAAAAAAcQAAAAAAAABhAAAAAAAAAGEAAAAAAAAAcQAAAAAAAACJAAAAAAAAAIEAAAAAAAAAgQAAAAAAAABhAAAAAAAAAGEAAAAAAAAAcQAAAAAAAABxAAAAAAAAAHEAAAAAAAAAiQAAAAAAAABRAAAAAAAAAHEAAAAAAAAAgQAAAAAAAABxAAAAAAAAAFEAAAAAAAAAYQAAAAAAAABBAAAAAAAAAHEAAAAAAAAAiQAAAAAAAABRAAAAAAAAAGEAAAAAAAAAQQAAAAAAAABRAAAAAAAAAIEAAAAAAAAAcQAAAAAAAABRAAAAAAAAAHEAAAAAAAAAUQAAAAAAAABhAAAAAAAAAIkAAAAAAAAAiQAAAAAAAABxAAAAAAAAAGEAAAAAAAAAcQAAAAAAAAABAAAAAAAAAIEAAAAAAAAAcQAAAAAAAABxAAAAAAAAAHEAAAAAAAAAcQAAAAAAAABhAAAAAAAAAGEAAAAAAAAAUQAAAAAAAABRAAAAAAAAAGEAAAAAAAAAcQAAAAAAAABhAAAAAAAAAIEAAAAAAAAAYQAAAAAAAABhAAAAAAAAAHEAAAAAAAAAYQAAAAAAAABhAAAAAAAAAFEAAAAAAAAAgQAAAAAAAACBAAAAAAAAAGEAAAAAAAAAiQAAAAAAAABRAAAAAAAAAGEAAAAAAAAAgQAAAAAAAABxAAAAAAAAAHEAAAAAAAAAiQAAAAAAAACBAAAAAAAAAHEAAAAAAAAAcQAAAAAAAABxAAAAAAAAAGEAAAAAAAAAcQAAAAAAAABxAAAAAAAAAIEAAAAAAAAAcQAAAAAAAABhA\"},\"shape\":[102],\"dtype\":\"float64\",\"order\":\"little\"}],[\"PhoneReach\",{\"type\":\"ndarray\",\"array\":{\"type\":\"bytes\",\"data\":\"AQEBAQEBAQEAAQEBAQEAAQEBAQEBAQEBAQABAQEAAQABAAABAAABAQAAAQEAAQEAAAEBAQABAQABAAEBAQEAAQEBAQEBAAEBAAEAAQEBAQEBAAAAAQABAQAAAAABAAEBAQEAAQEB\"},\"shape\":[102],\"dtype\":\"bool\",\"order\":\"little\"}],[\"PhoneTime\",{\"type\":\"ndarray\",\"array\":{\"type\":\"bytes\",\"data\":\"AQEBAQEBAQEBAQEBAQEBAQEBAQEBAQAAAQEBAQAAAQEBAAEBAAEAAQEBAQEAAQEAAQEAAQEBAQEBAQABAQEAAQEAAQABAQEBAQEBAQEBAQEBAAABAQEAAAEBAQABAQEBAQEBAQEB\"},\"shape\":[102],\"dtype\":\"bool\",\"order\":\"little\"}],[\"Tired\",{\"type\":\"ndarray\",\"array\":{\"type\":\"bytes\",\"data\":\"AwAAAAMAAAACAAAABAAAAAIAAAAEAAAAAwAAAAMAAAACAAAAAwAAAAQAAAACAAAAAwAAAAIAAAADAAAAAwAAAAQAAAADAAAAAwAAAAMAAAAFAAAAAgAAAAMAAAADAAAAAgAAAAUAAAADAAAAAgAAAAIAAAACAAAAAgAAAAMAAAAEAAAAAwAAAAMAAAADAAAAAgAAAAIAAAAFAAAAAgAAAAEAAAAEAAAAAwAAAAMAAAAFAAAABAAAAAEAAAAFAAAAAwAAAAIAAAADAAAAAwAAAAQAAAACAAAAAwAAAAIAAAADAAAABQAAAAQAAAACAAAAAwAAAAMAAAAFAAAABQAAAAQAAAABAAAAAwAAAAMAAAADAAAABAAAAAQAAAAEAAAABQAAAAQAAAAEAAAABAAAAAQAAAADAAAABAAAAAMAAAADAAAABAAAAAIAAAABAAAAAwAAAAUAAAAEAAAAAgAAAAMAAAAEAAAAAgAAAAIAAAAEAAAAAgAAAAQAAAACAAAAAwAAAAIAAAADAAAAAwAAAAIAAAADAAAA\"},\"shape\":[102],\"dtype\":\"int32\",\"order\":\"little\"}],[\"Breakfast\",{\"type\":\"ndarray\",\"array\":{\"type\":\"bytes\",\"data\":\"AQABAAEAAQEBAQABAAABAAEBAQAAAQEBAAAAAAEBAQEAAAEBAQEAAAEBAAEAAAEBAQEAAQEAAQEAAAEAAAEAAAEAAQABAQEAAQEAAQABAAAAAAEBAAEBAQEBAQEAAQEAAAEBAQEB\"},\"shape\":[102],\"dtype\":\"bool\",\"order\":\"little\"}],[\"q1\",{\"type\":\"ndarray\",\"array\":{\"type\":\"bytes\",\"data\":\"AAAAAAAAGEAAAAAAAAAYQAAAAAAAABhAAAAAAAAAGEAAAAAAAAAYQAAAAAAAABhAAAAAAAAAGEAAAAAAAAAYQAAAAAAAABhAAAAAAAAAGEAAAAAAAAAYQAAAAAAAABhAAAAAAAAAGEAAAAAAAAAYQAAAAAAAABhAAAAAAAAAGEAAAAAAAAAYQAAAAAAAABhAAAAAAAAAGEAAAAAAAAAYQAAAAAAAABFAAAAAAAAAGEAAAAAAAAAYQAAAAAAAABhAAAAAAAAAGEAAAAAAAAARQAAAAAAAABhAAAAAAAAAGEAAAAAAAAAYQAAAAAAAABhAAAAAAAAAGEAAAAAAAAAYQAAAAAAAABhAAAAAAAAAGEAAAAAAAAAYQAAAAAAAABhAAAAAAAAAGEAAAAAAAAAYQAAAAAAAABFAAAAAAAAAGEAAAAAAAAAfQAAAAAAAABhAAAAAAAAAGEAAAAAAAAAYQAAAAAAAABFAAAAAAAAAGEAAAAAAAAAfQAAAAAAAABFAAAAAAAAAGEAAAAAAAAAYQAAAAAAAABhAAAAAAAAAGEAAAAAAAAAYQAAAAAAAABhAAAAAAAAAGEAAAAAAAAAYQAAAAAAAABhAAAAAAAAAEUAAAAAAAAAYQAAAAAAAABhAAAAAAAAAGEAAAAAAAAAYQAAAAAAAABFAAAAAAAAAEUAAAAAAAAAYQAAAAAAAAB9AAAAAAAAAGEAAAAAAAAAYQAAAAAAAABhAAAAAAAAAGEAAAAAAAAAYQAAAAAAAABhAAAAAAAAAEUAAAAAAAAAYQAAAAAAAABhAAAAAAAAAGEAAAAAAAAAYQAAAAAAAABhAAAAAAAAAGEAAAAAAAAAYQAAAAAAAABhAAAAAAAAAGEAAAAAAAAAYQAAAAAAAAB9AAAAAAAAAGEAAAAAAAAARQAAAAAAAABhAAAAAAAAAGEAAAAAAAAAYQAAAAAAAABhAAAAAAAAAGEAAAAAAAAAYQAAAAAAAABhAAAAAAAAAGEAAAAAAAAAYQAAAAAAAABhAAAAAAAAAGEAAAAAAAAAYQAAAAAAAABhAAAAAAAAAGEAAAAAAAAAYQAAAAAAAABhA\"},\"shape\":[102],\"dtype\":\"float64\",\"order\":\"little\"}],[\"q2\",{\"type\":\"ndarray\",\"array\":{\"type\":\"bytes\",\"data\":\"AAAAAAAAHEAAAAAAAAAcQAAAAAAAABxAAAAAAAAAHEAAAAAAAAAcQAAAAAAAABxAAAAAAAAAHEAAAAAAAAAcQAAAAAAAABxAAAAAAAAAHEAAAAAAAAAcQAAAAAAAABxAAAAAAAAAHEAAAAAAAAAcQAAAAAAAABxAAAAAAAAAHEAAAAAAAAAcQAAAAAAAABxAAAAAAAAAHEAAAAAAAAAcQAAAAAAAABZAAAAAAAAAHEAAAAAAAAAcQAAAAAAAABxAAAAAAAAAHEAAAAAAAAAWQAAAAAAAABxAAAAAAAAAHEAAAAAAAAAcQAAAAAAAABxAAAAAAAAAHEAAAAAAAAAcQAAAAAAAABxAAAAAAAAAHEAAAAAAAAAcQAAAAAAAABxAAAAAAAAAHEAAAAAAAAAcQAAAAAAAABZAAAAAAAAAHEAAAAAAAAAgQAAAAAAAABxAAAAAAAAAHEAAAAAAAAAcQAAAAAAAABZAAAAAAAAAHEAAAAAAAAAgQAAAAAAAABZAAAAAAAAAHEAAAAAAAAAcQAAAAAAAABxAAAAAAAAAHEAAAAAAAAAcQAAAAAAAABxAAAAAAAAAHEAAAAAAAAAcQAAAAAAAABxAAAAAAAAAFkAAAAAAAAAcQAAAAAAAABxAAAAAAAAAHEAAAAAAAAAcQAAAAAAAABZAAAAAAAAAFkAAAAAAAAAcQAAAAAAAACBAAAAAAAAAHEAAAAAAAAAcQAAAAAAAABxAAAAAAAAAHEAAAAAAAAAcQAAAAAAAABxAAAAAAAAAFkAAAAAAAAAcQAAAAAAAABxAAAAAAAAAHEAAAAAAAAAcQAAAAAAAABxAAAAAAAAAHEAAAAAAAAAcQAAAAAAAABxAAAAAAAAAHEAAAAAAAAAcQAAAAAAAACBAAAAAAAAAHEAAAAAAAAAWQAAAAAAAABxAAAAAAAAAHEAAAAAAAAAcQAAAAAAAABxAAAAAAAAAHEAAAAAAAAAcQAAAAAAAABxAAAAAAAAAHEAAAAAAAAAcQAAAAAAAABxAAAAAAAAAHEAAAAAAAAAcQAAAAAAAABxAAAAAAAAAHEAAAAAAAAAcQAAAAAAAABxA\"},\"shape\":[102],\"dtype\":\"float64\",\"order\":\"little\"}],[\"q3\",{\"type\":\"ndarray\",\"array\":{\"type\":\"bytes\",\"data\":\"AAAAAAAAHEAAAAAAAAAcQAAAAAAAABxAAAAAAAAAHEAAAAAAAAAcQAAAAAAAABxAAAAAAAAAHEAAAAAAAAAcQAAAAAAAABxAAAAAAAAAHEAAAAAAAAAcQAAAAAAAABxAAAAAAAAAHEAAAAAAAAAcQAAAAAAAABxAAAAAAAAAHEAAAAAAAAAcQAAAAAAAABxAAAAAAAAAHEAAAAAAAAAcQAAAAAAAAB9AAAAAAAAAHEAAAAAAAAAcQAAAAAAAABxAAAAAAAAAHEAAAAAAAAAfQAAAAAAAABxAAAAAAAAAHEAAAAAAAAAcQAAAAAAAABxAAAAAAAAAHEAAAAAAAAAcQAAAAAAAABxAAAAAAAAAHEAAAAAAAAAcQAAAAAAAABxAAAAAAAAAHEAAAAAAAAAcQAAAAAAAAB9AAAAAAAAAHEAAAAAAAIAgQAAAAAAAABxAAAAAAAAAHEAAAAAAAAAcQAAAAAAAAB9AAAAAAAAAHEAAAAAAAIAgQAAAAAAAAB9AAAAAAAAAHEAAAAAAAAAcQAAAAAAAABxAAAAAAAAAHEAAAAAAAAAcQAAAAAAAABxAAAAAAAAAHEAAAAAAAAAcQAAAAAAAABxAAAAAAAAAH0AAAAAAAAAcQAAAAAAAABxAAAAAAAAAHEAAAAAAAAAcQAAAAAAAAB9AAAAAAAAAH0AAAAAAAAAcQAAAAAAAgCBAAAAAAAAAHEAAAAAAAAAcQAAAAAAAABxAAAAAAAAAHEAAAAAAAAAcQAAAAAAAABxAAAAAAAAAH0AAAAAAAAAcQAAAAAAAABxAAAAAAAAAHEAAAAAAAAAcQAAAAAAAABxAAAAAAAAAHEAAAAAAAAAcQAAAAAAAABxAAAAAAAAAHEAAAAAAAAAcQAAAAAAAgCBAAAAAAAAAHEAAAAAAAAAfQAAAAAAAABxAAAAAAAAAHEAAAAAAAAAcQAAAAAAAABxAAAAAAAAAHEAAAAAAAAAcQAAAAAAAABxAAAAAAAAAHEAAAAAAAAAcQAAAAAAAABxAAAAAAAAAHEAAAAAAAAAcQAAAAAAAABxAAAAAAAAAHEAAAAAAAAAcQAAAAAAAABxA\"},\"shape\":[102],\"dtype\":\"float64\",\"order\":\"little\"}],[\"upper\",{\"type\":\"ndarray\",\"array\":{\"type\":\"bytes\",\"data\":\"AAAAAAAAIUAAAAAAAAAhQAAAAAAAACFAAAAAAAAAIUAAAAAAAAAhQAAAAAAAACFAAAAAAAAAIUAAAAAAAAAhQAAAAAAAACFAAAAAAAAAIUAAAAAAAAAhQAAAAAAAACFAAAAAAAAAIUAAAAAAAAAhQAAAAAAAACFAAAAAAAAAIUAAAAAAAAAhQAAAAAAAACFAAAAAAAAAIUAAAAAAAAAhQAAAAAAAACpAAAAAAAAAIUAAAAAAAAAhQAAAAAAAACFAAAAAAAAAIUAAAAAAAAAqQAAAAAAAACFAAAAAAAAAIUAAAAAAAAAhQAAAAAAAACFAAAAAAAAAIUAAAAAAAAAhQAAAAAAAACFAAAAAAAAAIUAAAAAAAAAhQAAAAAAAACFAAAAAAAAAIUAAAAAAAAAhQAAAAAAAACpAAAAAAAAAIUAAAAAAAAAiQAAAAAAAACFAAAAAAAAAIUAAAAAAAAAhQAAAAAAAACpAAAAAAAAAIUAAAAAAAAAiQAAAAAAAACpAAAAAAAAAIUAAAAAAAAAhQAAAAAAAACFAAAAAAAAAIUAAAAAAAAAhQAAAAAAAACFAAAAAAAAAIUAAAAAAAAAhQAAAAAAAACFAAAAAAAAAKkAAAAAAAAAhQAAAAAAAACFAAAAAAAAAIUAAAAAAAAAhQAAAAAAAACpAAAAAAAAAKkAAAAAAAAAhQAAAAAAAACJAAAAAAAAAIUAAAAAAAAAhQAAAAAAAACFAAAAAAAAAIUAAAAAAAAAhQAAAAAAAACFAAAAAAAAAKkAAAAAAAAAhQAAAAAAAACFAAAAAAAAAIUAAAAAAAAAhQAAAAAAAACFAAAAAAAAAIUAAAAAAAAAhQAAAAAAAACFAAAAAAAAAIUAAAAAAAAAhQAAAAAAAACJAAAAAAAAAIUAAAAAAAAAqQAAAAAAAACFAAAAAAAAAIUAAAAAAAAAhQAAAAAAAACFAAAAAAAAAIUAAAAAAAAAhQAAAAAAAACFAAAAAAAAAIUAAAAAAAAAhQAAAAAAAACFAAAAAAAAAIUAAAAAAAAAhQAAAAAAAACFAAAAAAAAAIUAAAAAAAAAhQAAAAAAAACFA\"},\"shape\":[102],\"dtype\":\"float64\",\"order\":\"little\"}],[\"lower\",{\"type\":\"ndarray\",\"array\":{\"type\":\"bytes\",\"data\":\"AAAAAAAAEkAAAAAAAAASQAAAAAAAABJAAAAAAAAAEkAAAAAAAAASQAAAAAAAABJAAAAAAAAAEkAAAAAAAAASQAAAAAAAABJAAAAAAAAAEkAAAAAAAAASQAAAAAAAABJAAAAAAAAAEkAAAAAAAAASQAAAAAAAABJAAAAAAAAAEkAAAAAAAAASQAAAAAAAABJAAAAAAAAAEkAAAAAAAAASQAAAAAAAAPC/AAAAAAAAEkAAAAAAAAASQAAAAAAAABJAAAAAAAAAEkAAAAAAAADwvwAAAAAAABJAAAAAAAAAEkAAAAAAAAASQAAAAAAAABJAAAAAAAAAEkAAAAAAAAASQAAAAAAAABJAAAAAAAAAEkAAAAAAAAASQAAAAAAAABJAAAAAAAAAEkAAAAAAAAASQAAAAAAAAPC/AAAAAAAAEkAAAAAAAAAcQAAAAAAAABJAAAAAAAAAEkAAAAAAAAASQAAAAAAAAPC/AAAAAAAAEkAAAAAAAAAcQAAAAAAAAPC/AAAAAAAAEkAAAAAAAAASQAAAAAAAABJAAAAAAAAAEkAAAAAAAAASQAAAAAAAABJAAAAAAAAAEkAAAAAAAAASQAAAAAAAABJAAAAAAAAA8L8AAAAAAAASQAAAAAAAABJAAAAAAAAAEkAAAAAAAAASQAAAAAAAAPC/AAAAAAAA8L8AAAAAAAASQAAAAAAAABxAAAAAAAAAEkAAAAAAAAASQAAAAAAAABJAAAAAAAAAEkAAAAAAAAASQAAAAAAAABJAAAAAAAAA8L8AAAAAAAASQAAAAAAAABJAAAAAAAAAEkAAAAAAAAASQAAAAAAAABJAAAAAAAAAEkAAAAAAAAASQAAAAAAAABJAAAAAAAAAEkAAAAAAAAASQAAAAAAAABxAAAAAAAAAEkAAAAAAAADwvwAAAAAAABJAAAAAAAAAEkAAAAAAAAASQAAAAAAAABJAAAAAAAAAEkAAAAAAAAASQAAAAAAAABJAAAAAAAAAEkAAAAAAAAASQAAAAAAAABJAAAAAAAAAEkAAAAAAAAASQAAAAAAAABJAAAAAAAAAEkAAAAAAAAASQAAAAAAAABJA\"},\"shape\":[102],\"dtype\":\"float64\",\"order\":\"little\"}]]}}},\"view\":{\"type\":\"object\",\"name\":\"CDSView\",\"id\":\"p1271\",\"attributes\":{\"filter\":{\"type\":\"object\",\"name\":\"AllIndices\",\"id\":\"p1272\"}}},\"glyph\":{\"type\":\"object\",\"name\":\"VBar\",\"id\":\"p1267\",\"attributes\":{\"x\":{\"type\":\"field\",\"field\":\"Tired\"},\"width\":{\"type\":\"value\",\"value\":0.7},\"bottom\":{\"type\":\"field\",\"field\":\"q3\"},\"top\":{\"type\":\"field\",\"field\":\"q2\"},\"fill_color\":{\"type\":\"field\",\"field\":\"Tired\",\"transform\":{\"type\":\"object\",\"name\":\"CategoricalColorMapper\",\"id\":\"p1263\",\"attributes\":{\"palette\":[\"#882E72\",\"#1965B0\",\"#7BAFDE\",\"#4EB265\",\"#CAE0AB\",\"#F7F056\",\"#DC050C\"],\"factors\":[\"1\",\"2\",\"3\",\"4\",\"5\"]}}},\"hatch_color\":{\"type\":\"field\",\"field\":\"Tired\",\"transform\":{\"id\":\"p1263\"}}}},\"nonselection_glyph\":{\"type\":\"object\",\"name\":\"VBar\",\"id\":\"p1268\",\"attributes\":{\"x\":{\"type\":\"field\",\"field\":\"Tired\"},\"width\":{\"type\":\"value\",\"value\":0.7},\"bottom\":{\"type\":\"field\",\"field\":\"q3\"},\"top\":{\"type\":\"field\",\"field\":\"q2\"},\"line_alpha\":{\"type\":\"value\",\"value\":0.1},\"fill_color\":{\"type\":\"field\",\"field\":\"Tired\",\"transform\":{\"id\":\"p1263\"}},\"fill_alpha\":{\"type\":\"value\",\"value\":0.1},\"hatch_color\":{\"type\":\"field\",\"field\":\"Tired\",\"transform\":{\"id\":\"p1263\"}},\"hatch_alpha\":{\"type\":\"value\",\"value\":0.1}}},\"muted_glyph\":{\"type\":\"object\",\"name\":\"VBar\",\"id\":\"p1269\",\"attributes\":{\"x\":{\"type\":\"field\",\"field\":\"Tired\"},\"width\":{\"type\":\"value\",\"value\":0.7},\"bottom\":{\"type\":\"field\",\"field\":\"q3\"},\"top\":{\"type\":\"field\",\"field\":\"q2\"},\"line_alpha\":{\"type\":\"value\",\"value\":0.2},\"fill_color\":{\"type\":\"field\",\"field\":\"Tired\",\"transform\":{\"id\":\"p1263\"}},\"fill_alpha\":{\"type\":\"value\",\"value\":0.2},\"hatch_color\":{\"type\":\"field\",\"field\":\"Tired\",\"transform\":{\"id\":\"p1263\"}},\"hatch_alpha\":{\"type\":\"value\",\"value\":0.2}}}}},{\"type\":\"object\",\"name\":\"GlyphRenderer\",\"id\":\"p1279\",\"attributes\":{\"data_source\":{\"id\":\"p1232\"},\"view\":{\"type\":\"object\",\"name\":\"CDSView\",\"id\":\"p1280\",\"attributes\":{\"filter\":{\"type\":\"object\",\"name\":\"AllIndices\",\"id\":\"p1281\"}}},\"glyph\":{\"type\":\"object\",\"name\":\"VBar\",\"id\":\"p1276\",\"attributes\":{\"x\":{\"type\":\"field\",\"field\":\"Tired\"},\"width\":{\"type\":\"value\",\"value\":0.7},\"bottom\":{\"type\":\"field\",\"field\":\"q2\"},\"top\":{\"type\":\"field\",\"field\":\"q1\"},\"fill_color\":{\"type\":\"field\",\"field\":\"Tired\",\"transform\":{\"id\":\"p1263\"}},\"hatch_color\":{\"type\":\"field\",\"field\":\"Tired\",\"transform\":{\"id\":\"p1263\"}}}},\"nonselection_glyph\":{\"type\":\"object\",\"name\":\"VBar\",\"id\":\"p1277\",\"attributes\":{\"x\":{\"type\":\"field\",\"field\":\"Tired\"},\"width\":{\"type\":\"value\",\"value\":0.7},\"bottom\":{\"type\":\"field\",\"field\":\"q2\"},\"top\":{\"type\":\"field\",\"field\":\"q1\"},\"line_alpha\":{\"type\":\"value\",\"value\":0.1},\"fill_color\":{\"type\":\"field\",\"field\":\"Tired\",\"transform\":{\"id\":\"p1263\"}},\"fill_alpha\":{\"type\":\"value\",\"value\":0.1},\"hatch_color\":{\"type\":\"field\",\"field\":\"Tired\",\"transform\":{\"id\":\"p1263\"}},\"hatch_alpha\":{\"type\":\"value\",\"value\":0.1}}},\"muted_glyph\":{\"type\":\"object\",\"name\":\"VBar\",\"id\":\"p1278\",\"attributes\":{\"x\":{\"type\":\"field\",\"field\":\"Tired\"},\"width\":{\"type\":\"value\",\"value\":0.7},\"bottom\":{\"type\":\"field\",\"field\":\"q2\"},\"top\":{\"type\":\"field\",\"field\":\"q1\"},\"line_alpha\":{\"type\":\"value\",\"value\":0.2},\"fill_color\":{\"type\":\"field\",\"field\":\"Tired\",\"transform\":{\"id\":\"p1263\"}},\"fill_alpha\":{\"type\":\"value\",\"value\":0.2},\"hatch_color\":{\"type\":\"field\",\"field\":\"Tired\",\"transform\":{\"id\":\"p1263\"}},\"hatch_alpha\":{\"type\":\"value\",\"value\":0.2}}}}},{\"type\":\"object\",\"name\":\"GlyphRenderer\",\"id\":\"p1291\",\"attributes\":{\"data_source\":{\"type\":\"object\",\"name\":\"ColumnDataSource\",\"id\":\"p1282\",\"attributes\":{\"selected\":{\"type\":\"object\",\"name\":\"Selection\",\"id\":\"p1283\",\"attributes\":{\"indices\":[],\"line_indices\":[]}},\"selection_policy\":{\"type\":\"object\",\"name\":\"UnionRenderers\",\"id\":\"p1284\"},\"data\":{\"type\":\"map\",\"entries\":[[\"index\",{\"type\":\"ndarray\",\"array\":{\"type\":\"bytes\",\"data\":\"CAAAAAoAAAASAAAAFQAAAB0AAAAlAAAAMQAAADoAAABbAAAA\"},\"shape\":[9],\"dtype\":\"int32\",\"order\":\"little\"}],[\"Enough\",{\"type\":\"ndarray\",\"array\":{\"type\":\"bytes\",\"data\":\"AAAAAAEBAAAB\"},\"shape\":[9],\"dtype\":\"bool\",\"order\":\"little\"}],[\"Hours\",{\"type\":\"ndarray\",\"array\":{\"type\":\"bytes\",\"data\":\"AAAAAAAAEEAAAAAAAAAkQAAAAAAAACJAAAAAAAAAEEAAAAAAAAAiQAAAAAAAACJAAAAAAAAAEEAAAAAAAAAiQAAAAAAAACJA\"},\"shape\":[9],\"dtype\":\"float64\",\"order\":\"little\"}],[\"PhoneReach\",{\"type\":\"ndarray\",\"array\":{\"type\":\"bytes\",\"data\":\"AAEBAQAAAQEA\"},\"shape\":[9],\"dtype\":\"bool\",\"order\":\"little\"}],[\"PhoneTime\",{\"type\":\"ndarray\",\"array\":{\"type\":\"bytes\",\"data\":\"AQEBAQABAQAA\"},\"shape\":[9],\"dtype\":\"bool\",\"order\":\"little\"}],[\"Tired\",{\"type\":\"ndarray\",\"array\":{\"type\":\"bytes\",\"data\":\"AgAAAAQAAAADAAAAAgAAAAIAAAACAAAAAgAAAAQAAAACAAAA\"},\"shape\":[9],\"dtype\":\"int32\",\"order\":\"little\"}],[\"Breakfast\",{\"type\":\"ndarray\",\"array\":{\"type\":\"bytes\",\"data\":\"AQABAQEBAQEB\"},\"shape\":[9],\"dtype\":\"bool\",\"order\":\"little\"}],[\"q1\",{\"type\":\"ndarray\",\"array\":{\"type\":\"bytes\",\"data\":\"AAAAAAAAGEAAAAAAAAAYQAAAAAAAABhAAAAAAAAAGEAAAAAAAAAYQAAAAAAAABhAAAAAAAAAGEAAAAAAAAAYQAAAAAAAABhA\"},\"shape\":[9],\"dtype\":\"float64\",\"order\":\"little\"}],[\"q2\",{\"type\":\"ndarray\",\"array\":{\"type\":\"bytes\",\"data\":\"AAAAAAAAHEAAAAAAAAAcQAAAAAAAABxAAAAAAAAAHEAAAAAAAAAcQAAAAAAAABxAAAAAAAAAHEAAAAAAAAAcQAAAAAAAABxA\"},\"shape\":[9],\"dtype\":\"float64\",\"order\":\"little\"}],[\"q3\",{\"type\":\"ndarray\",\"array\":{\"type\":\"bytes\",\"data\":\"AAAAAAAAHEAAAAAAAAAcQAAAAAAAABxAAAAAAAAAHEAAAAAAAAAcQAAAAAAAABxAAAAAAAAAHEAAAAAAAAAcQAAAAAAAABxA\"},\"shape\":[9],\"dtype\":\"float64\",\"order\":\"little\"}],[\"upper\",{\"type\":\"ndarray\",\"array\":{\"type\":\"bytes\",\"data\":\"AAAAAAAAIUAAAAAAAAAhQAAAAAAAACFAAAAAAAAAIUAAAAAAAAAhQAAAAAAAACFAAAAAAAAAIUAAAAAAAAAhQAAAAAAAACFA\"},\"shape\":[9],\"dtype\":\"float64\",\"order\":\"little\"}],[\"lower\",{\"type\":\"ndarray\",\"array\":{\"type\":\"bytes\",\"data\":\"AAAAAAAAEkAAAAAAAAASQAAAAAAAABJAAAAAAAAAEkAAAAAAAAASQAAAAAAAABJAAAAAAAAAEkAAAAAAAAASQAAAAAAAABJA\"},\"shape\":[9],\"dtype\":\"float64\",\"order\":\"little\"}]]}}},\"view\":{\"type\":\"object\",\"name\":\"CDSView\",\"id\":\"p1292\",\"attributes\":{\"filter\":{\"type\":\"object\",\"name\":\"AllIndices\",\"id\":\"p1293\"}}},\"glyph\":{\"type\":\"object\",\"name\":\"Scatter\",\"id\":\"p1288\",\"attributes\":{\"x\":{\"type\":\"field\",\"field\":\"Tired\"},\"y\":{\"type\":\"field\",\"field\":\"Hours\"},\"size\":{\"type\":\"value\",\"value\":7},\"line_alpha\":{\"type\":\"value\",\"value\":0.3},\"fill_color\":{\"type\":\"value\",\"value\":\"black\"},\"fill_alpha\":{\"type\":\"value\",\"value\":0.3},\"hatch_alpha\":{\"type\":\"value\",\"value\":0.3}}},\"nonselection_glyph\":{\"type\":\"object\",\"name\":\"Scatter\",\"id\":\"p1289\",\"attributes\":{\"x\":{\"type\":\"field\",\"field\":\"Tired\"},\"y\":{\"type\":\"field\",\"field\":\"Hours\"},\"size\":{\"type\":\"value\",\"value\":7},\"line_alpha\":{\"type\":\"value\",\"value\":0.1},\"fill_color\":{\"type\":\"value\",\"value\":\"black\"},\"fill_alpha\":{\"type\":\"value\",\"value\":0.1},\"hatch_alpha\":{\"type\":\"value\",\"value\":0.1}}},\"muted_glyph\":{\"type\":\"object\",\"name\":\"Scatter\",\"id\":\"p1290\",\"attributes\":{\"x\":{\"type\":\"field\",\"field\":\"Tired\"},\"y\":{\"type\":\"field\",\"field\":\"Hours\"},\"size\":{\"type\":\"value\",\"value\":7},\"line_alpha\":{\"type\":\"value\",\"value\":0.2},\"fill_color\":{\"type\":\"value\",\"value\":\"black\"},\"fill_alpha\":{\"type\":\"value\",\"value\":0.2},\"hatch_alpha\":{\"type\":\"value\",\"value\":0.2}}}}}],\"toolbar\":{\"type\":\"object\",\"name\":\"Toolbar\",\"id\":\"p1244\"},\"toolbar_location\":null,\"left\":[{\"type\":\"object\",\"name\":\"LinearAxis\",\"id\":\"p1252\",\"attributes\":{\"ticker\":{\"type\":\"object\",\"name\":\"BasicTicker\",\"id\":\"p1253\",\"attributes\":{\"mantissas\":[1,2,5]}},\"formatter\":{\"type\":\"object\",\"name\":\"BasicTickFormatter\",\"id\":\"p1254\"},\"axis_label\":\" Hours of sleep\",\"axis_label_text_font_size\":\"12px\",\"major_label_policy\":{\"type\":\"object\",\"name\":\"AllLabels\",\"id\":\"p1255\"},\"major_label_text_font_size\":\"14px\"}}],\"below\":[{\"type\":\"object\",\"name\":\"LinearAxis\",\"id\":\"p1247\",\"attributes\":{\"ticker\":{\"type\":\"object\",\"name\":\"BasicTicker\",\"id\":\"p1248\",\"attributes\":{\"mantissas\":[1,2,5]}},\"formatter\":{\"type\":\"object\",\"name\":\"BasicTickFormatter\",\"id\":\"p1249\"},\"axis_label\":\"Tireness score (0-5)\",\"axis_label_text_font_size\":\"12px\",\"major_label_policy\":{\"type\":\"object\",\"name\":\"AllLabels\",\"id\":\"p1250\"},\"major_label_text_font_size\":\"14px\"}}],\"center\":[{\"type\":\"object\",\"name\":\"Grid\",\"id\":\"p1251\",\"attributes\":{\"axis\":{\"id\":\"p1247\"},\"grid_line_color\":null}},{\"type\":\"object\",\"name\":\"Grid\",\"id\":\"p1256\",\"attributes\":{\"dimension\":1,\"axis\":{\"id\":\"p1252\"}}},{\"type\":\"object\",\"name\":\"Whisker\",\"id\":\"p1257\",\"attributes\":{\"source\":{\"id\":\"p1232\"},\"lower\":{\"type\":\"field\",\"field\":\"lower\"},\"lower_head\":{\"type\":\"object\",\"name\":\"TeeHead\",\"id\":\"p1261\",\"attributes\":{\"size\":{\"type\":\"value\",\"value\":10}}},\"upper\":{\"type\":\"field\",\"field\":\"upper\"},\"upper_head\":{\"type\":\"object\",\"name\":\"TeeHead\",\"id\":\"p1262\",\"attributes\":{\"size\":{\"type\":\"value\",\"value\":10}}},\"base\":{\"type\":\"field\",\"field\":\"Tired\"}}}],\"background_fill_color\":\"#eaefef\"}}]}};\n  const render_items = [{\"docid\":\"0e95c491-bfba-4527-85dd-06f3b0777cdd\",\"roots\":{\"p1235\":\"bc9cd273-c91e-48b0-97ad-9dee6a02d5f8\"},\"root_ids\":[\"p1235\"]}];\n  root.Bokeh.embed.embed_items_notebook(docs_json, render_items);\n  }\n  if (root.Bokeh !== undefined) {\n    embed_document(root);\n  } else {\n    let attempts = 0;\n    const timer = setInterval(function(root) {\n      if (root.Bokeh !== undefined) {\n        clearInterval(timer);\n        embed_document(root);\n      } else {\n        attempts++;\n        if (attempts > 100) {\n          clearInterval(timer);\n          console.log(\"Bokeh: ERROR: Unable to run BokehJS code because BokehJS library is missing\");\n        }\n      }\n    }, 10, root)\n  }\n})(window);",
      "application/vnd.bokehjs_exec.v0+json": ""
     },
     "metadata": {
      "application/vnd.bokehjs_exec.v0+json": {
       "id": "p1235"
      }
     },
     "output_type": "display_data"
    }
   ],
   "source": [
    "import pandas as pd\n",
    "from bokeh.models import ColumnDataSource, Whisker\n",
    "from bokeh.plotting import figure, show\n",
    "from bokeh.transform import factor_cmap\n",
    "from bokeh.models import Range1d\n",
    "\n",
    "df = sleep_df\n",
    "\n",
    "tired = ['1','2','3','4','5']\n",
    "\n",
    "# compute quantiles\n",
    "qs = df.groupby(\"Tired\").Hours.quantile([0.25, 0.5, 0.75])\n",
    "qs = qs.unstack().reset_index()\n",
    "qs.columns = [\"Tired\", \"q1\", \"q2\", \"q3\"]\n",
    "df = pd.merge(df, qs, on=\"Tired\", how=\"left\")\n",
    "\n",
    "# compute IQR outlier bounds\n",
    "iqr = df.q3 - df.q1\n",
    "df[\"upper\"] = df.q3 + 1.5*iqr\n",
    "df[\"lower\"] = df.q1 - 1.5*iqr\n",
    "\n",
    "source = ColumnDataSource(df)\n",
    "\n",
    "p = figure(tools=\"\", toolbar_location=None,\n",
    "           title=\"\",\n",
    "           background_fill_color=\"#eaefef\", y_axis_label=\" Hours of sleep\", x_axis_label=\"Tireness score (0-5)\")\n",
    "\n",
    "# outlier range\n",
    "whisker = Whisker(base=\"Tired\", upper=\"upper\", lower=\"lower\", source=source)\n",
    "whisker.upper_head.size = whisker.lower_head.size = 10\n",
    "p.add_layout(whisker)\n",
    "\n",
    "# quantile boxes\n",
    "cmap = factor_cmap(\"Tired\", \"TolRainbow7\", tired)\n",
    "p.vbar(\"Tired\", 0.7, \"q2\", \"q3\", source=source, color=cmap , line_color=\"black\")\n",
    "p.vbar(\"Tired\", 0.7, \"q1\", \"q2\", source=source, color=cmap, line_color=\"black\")\n",
    "\n",
    "# outliers\n",
    "outliers = df[~df.Hours.between(df.lower, df.upper)]\n",
    "p.scatter(\"Tired\", \"Hours\", source=outliers, size=7, color=\"black\", alpha=0.3)\n",
    "\n",
    "p.xgrid.grid_line_color = None\n",
    "p.axis.major_label_text_font_size=\"14px\"\n",
    "p.axis.axis_label_text_font_size=\"12px\"\n",
    "\n",
    "p.y_range = Range1d(-2, 15)\n",
    "\n",
    "\n",
    "\n",
    "show(p)"
   ]
  },
  {
   "cell_type": "code",
   "execution_count": null,
   "metadata": {},
   "outputs": [],
   "source": [
    "def DS_2sample_Levenetest_vars(y1, y2, center = 'median', alternative = 'two-sided', alpha = 0.05):\n",
    "    \"\"\"\n",
    "    *\n",
    "    Function DS_2sample_Levenetest_vars(y1, y2, center='median', alternative='two-sided', alpha=0.05)\n",
    "     \n",
    "       This function performs a 2-sample Levene-test (Null Hypothesis Significance Test)\n",
    "       in the spirit of R, testing 2 variances without using a normal approximation. \n",
    "    \n",
    "    Requires:          -\n",
    "    \n",
    "    Usage:             DS_2sample_Levenetest_vars(y1, y2, center = ['median']/'mean', \n",
    "                                         alternative=['two-sided']/'less'/'greater', alpha=0.05)\n",
    "    \n",
    "                         center = 'median' [default]          use z.ik = |y.ik - median(y.i)| (Brown-Forsythe)\n",
    "                                  'mean'                      use z.ik = |y.ik - mean(y.i)|   (Levene)\n",
    "                         alternative = 'two-sided' [default]  H1: sigma_1^2 != sigma_2^2\n",
    "                                       'less'                 H1: sigma_1^2 < sigma_2^2\n",
    "                                       'greater'              H1: sigma_1^2 > sigma_2^2\n",
    "                         alpha:   significance level of test [default: 0.05]\n",
    "     \n",
    "    Return:            t, p-value, t.crit.L, t.crit.R  [ + print interpretable output to stdout ]\n",
    "                       where t.crit.L and t.crit.R are the lower and upper critical values, \n",
    "                       t is the test statistic and p-value is the p-value of the test.    \n",
    "     \n",
    "    Author:            M.E.F. Apol\n",
    "    Date:              2022-02-01, rev. 2022_08_26\n",
    "    Validation:        2022-02-01 against scipy.statst.levene and https://www.socscistatistics.com/\n",
    "    \"\"\"\n",
    "     \n",
    "    from scipy.stats import t as t_dist\n",
    "    import numpy as np\n",
    "        \n",
    "    n_1 = len(y1);               n_2 = len(y2)\n",
    "    y_av_1  = np.mean(y1);    y_av_2 = np.mean(y2)\n",
    "    y_med_1 = np.median(y1); y_med_2 = np.median(y2)\n",
    "    s2_1 = np.var(y1, ddof=1);  s2_2 = np.var(y2, ddof=1) \n",
    "    \n",
    "    print(80*'-')\n",
    "    if center == 'median':\n",
    "        print('Brown-Forsythe test for 2 variances:')\n",
    "        print('     using the median of both datasets as center')\n",
    "        y_c_1 = y_med_1; y_c_2 = y_med_2\n",
    "    elif center == 'mean':\n",
    "        print('Levene test for 2 variances:')\n",
    "        print('     using the mean of both datasets as center')\n",
    "        \n",
    "        y_c_1 = y_av_1; y_c_2 = y_av_2\n",
    "    else:\n",
    "        print('Wrong center option...')\n",
    "        print(80*'-' + '\\n')\n",
    "        t_samp, p_value, t_crit_L, t_crit_R = np.nan, np.nan, np.nan, np.nan\n",
    "        return(t_samp, p_value, t_crit_L, t_crit_R)\n",
    "    \n",
    "    print('s2.1 = {:.3g}, s2.2 = {:.3g}, n.1 = {:d}, n.2 = {:d}, alpha = {:.3g}'.format(s2_1, s2_2, n_1, n_2, alpha))\n",
    "    print('H0: sigma.1  = sigma.2')\n",
    "    if alternative == 'two-sided':\n",
    "        print('H1: sigma.1 != sigma.2')\n",
    "    elif alternative == 'greater':\n",
    "        print('H1: sigma.1  > sigma.2')\n",
    "    elif alternative == 'less':\n",
    "        print('H1: sigma.1  < sigma.2')\n",
    "    else:\n",
    "        print('Wrong alternative hypothesis chosen!')\n",
    "        print(80*'-' + '\\n')\n",
    "        t_samp, p_value, t_crit_L, t_crit_R = np.nan, np.nan, np.nan, np.nan\n",
    "        return(t_samp, p_value, t_crit_L, t_crit_R)\n",
    "    \n",
    "    z_1 = np.abs(y1 - y_c_1)\n",
    "    z_2 = np.abs(y2 - y_c_2)\n",
    "    z_av_1 = np.mean(z_1);        z_av_2 = np.mean(z_2)\n",
    "    s2_z_1 = np.var(z_1, ddof=1); s2_z_2 = np.var(z_2, ddof=1)\n",
    "    df = n_1 + n_2 - 2\n",
    "    s2_pooled = ((n_1 - 1)*s2_z_1 + (n_2 - 1)*s2_z_2)/df\n",
    "    t_samp = (z_av_1 - z_av_2) / np.sqrt(s2_pooled * (1/n_1 + 1/n_2))\n",
    "    F = t_samp**2\n",
    "    \n",
    "    if alternative == 'two-sided':\n",
    "        p_value = 2*(t_dist.cdf(-np.abs(t_samp), df))\n",
    "        t_crit_L = t_dist.ppf(alpha/2, df)\n",
    "        t_crit_R = t_dist.ppf(1-alpha/2, df)\n",
    "    elif alternative == 'greater':\n",
    "        p_value = 1-t_dist.cdf(t_samp, df)\n",
    "        # better precision: use survival function\n",
    "        p_value = t_dist.sf(t_samp, df)\n",
    "        t_crit_L = float('-inf')\n",
    "        t_crit_R = t_dist.ppf(1-alpha, df)\n",
    "    elif alternative == 'less':\n",
    "        p_value = t_dist.cdf(t_samp, df)\n",
    "        t_crit_L = t_dist.ppf(alpha, df)\n",
    "        t_crit_R = float('inf')\n",
    "    print('t = {:.4g}, p-value = {:.4g}, t.crit.L = {:.4g}, t.crit.R = {:.4g}, F = {:.4g}'.format(t_samp, p_value, t_crit_L, t_crit_R, F))\n",
    "    print(80*'-' + '\\n')\n",
    "    return(t_samp, p_value, t_crit_L, t_crit_R)    "
   ]
  },
  {
   "cell_type": "code",
   "execution_count": null,
   "metadata": {},
   "outputs": [
    {
     "name": "stdout",
     "output_type": "stream",
     "text": [
      "--------------------------------------------------------------------------------\n",
      "Brown-Forsythe test for 2 variances:\n",
      "     using the median of both datasets as center\n",
      "s2.1 = 1.61, s2.2 = 2.4, n.1 = 61, n.2 = 41, alpha = 0.05\n",
      "H0: sigma.1  = sigma.2\n",
      "H1: sigma.1 != sigma.2\n",
      "t = -0.9849, p-value = 0.327, t.crit.L = -1.984, t.crit.R = 1.984, F = 0.9701\n",
      "--------------------------------------------------------------------------------\n",
      "\n"
     ]
    },
    {
     "data": {
      "text/plain": [
       "(-0.9849392079146445,\n",
       " 0.32703102168888487,\n",
       " -1.983971518449634,\n",
       " 1.9839715184496334)"
      ]
     },
     "execution_count": 27,
     "metadata": {},
     "output_type": "execute_result"
    }
   ],
   "source": [
    "# your code for the statistical test here\n",
    "DS_2sample_Levenetest_vars(sleep_df[sleep_df['Breakfast'] == True ]['Hours'], sleep_df[sleep_df['Breakfast'] == False]['Hours'])"
   ]
  },
  {
   "cell_type": "markdown",
   "metadata": {},
   "source": [
    "**Conclusion** \n",
    "\n",
    "In the Boxplots and in the levene test there is not a significant difference visible between Hours, grouped by breakfast and no breakfast. 2-sample Levene test p > 0.05."
   ]
  },
  {
   "cell_type": "markdown",
   "metadata": {},
   "source": [
    "---"
   ]
  },
  {
   "cell_type": "markdown",
   "metadata": {},
   "source": [
    "<a name='3'></a>\n",
    "## Part 4: Prepare your data (10 pt)\n",
    "\n",
    "Create a dataframe with equal samplesize. Make three categories for tireness 1-2 = no, 3 = maybe, 4-5 = yes"
   ]
  },
  {
   "cell_type": "code",
   "execution_count": null,
   "metadata": {},
   "outputs": [
    {
     "name": "stderr",
     "output_type": "stream",
     "text": [
      "/tmp/ipykernel_2405/1924181053.py:4: SettingWithCopyWarning: \n",
      "A value is trying to be set on a copy of a slice from a DataFrame.\n",
      "Try using .loc[row_indexer,col_indexer] = value instead\n",
      "\n",
      "See the caveats in the documentation: https://pandas.pydata.org/pandas-docs/stable/user_guide/indexing.html#returning-a-view-versus-a-copy\n",
      "  sleep_df2['Tired'] = sleep_df[\"Tired\"].replace([1,2,3,4,5],['no', 'no','maybe','yes','yes'])\n"
     ]
    }
   ],
   "source": [
    "# to make an equal dataset I first checked what the exact numbers of data were and then concluded that there needed to be\n",
    "# added 20 samples to the condition 'no breakfast' and casted to a list\n",
    "sleep_df_extra = sleep_df[sleep_df[\"Breakfast\"] == False][\"Hours\"].sample(n=20).tolist()\n",
    "sleep_df2 = sleep_df\n",
    "# Replace the three categories for tireness as described\n",
    "sleep_df2['Tired'] = sleep_df[\"Tired\"].replace([1,2,3,4,5],['no', 'no','maybe','yes','yes'])\n",
    "\n",
    "# Also casted the other values to a list for further analysis\n",
    "sleep_df_breakfast = sleep_df[sleep_df[\"Breakfast\"] == True][\"Hours\"].tolist()\n",
    "sleep_df_nobreakfast = sleep_df[sleep_df[\"Breakfast\"] == False][\"Hours\"].tolist()\n",
    "\n",
    "# appended the extra made data to the no breakfast condition\n",
    "for i in sleep_df_extra:\n",
    "    sleep_df_nobreakfast.append(i)\n",
    "\n",
    "# I wanted to do oversampling for the other conditions with sklearn, but I unfortunately had not enough time to figure that out"
   ]
  },
  {
   "cell_type": "markdown",
   "metadata": {},
   "source": [
    "---"
   ]
  },
  {
   "cell_type": "markdown",
   "metadata": {},
   "source": [
    "<a name='4'></a>\n",
    "## Part 5: Answer the research questions (20 pt)\n",
    "\n",
    "<details>    \n",
    "</ul>\n",
    "</details>"
   ]
  },
  {
   "cell_type": "code",
   "execution_count": null,
   "metadata": {},
   "outputs": [
    {
     "name": "stdout",
     "output_type": "stream",
     "text": [
      "There is a significant difference between the two groups and the corresponding p value is: 0.019288382265917014\n"
     ]
    }
   ],
   "source": [
    "import scipy\n",
    "\n",
    "# Performed a mann whitney u test, because the data is not normally distributed\n",
    "# if statement for p value below 0.05 and else for above 0.05\n",
    "if scipy.stats.mannwhitneyu(sleep_df2[sleep_df2['Breakfast'] == True ]['Hours'], sleep_df2[sleep_df2['Breakfast'] == False]['Hours'])[1] < 0.05:\n",
    "    print(f\"There is a significant difference between the two groups and the corresponding p value is: {scipy.stats.mannwhitneyu(sleep_df2[sleep_df2['Breakfast'] == True ]['Hours'], sleep_df2[sleep_df2['Breakfast'] == False]['Hours'])[1]}\")\n",
    "else:\n",
    "    print(f\"There is not a significant difference between the two groups and the corresponding p value is {scipy.stats.mannwhitneyu(sleep_df2[sleep_df2['Breakfast'] == True ]['Hours'], sleep_df2[sleep_df2['Breakfast'] == False]['Hours'])[1]}\")\n",
    " "
   ]
  },
  {
   "cell_type": "code",
   "execution_count": null,
   "metadata": {},
   "outputs": [
    {
     "name": "stdout",
     "output_type": "stream",
     "text": [
      "There is no significant difference between the groups and the corresponding p value is 0.237304503507974\n"
     ]
    }
   ],
   "source": [
    "sleep_list = sleep_df2.groupby(['Breakfast', 'Tired'])['Hours'].apply(list)\n",
    "\n",
    "\n",
    "# Kruskal wallis test because the data is not normally distributed and >2 datasets\n",
    "# if statement for p value below 0.05 and else for above 0.05\n",
    "if scipy.stats.kruskal(*sleep_list)[1] < 0.05:\n",
    "    print(f'There is a significant difference between the groups and the corresponding p value is{scipy.stats.kruskal(*sleep_list)[1]}')\n",
    "else:\n",
    "    print(f\"There is no significant difference between the groups and the corresponding p value is {scipy.stats.kruskal(*sleep_list)[1]}\")"
   ]
  },
  {
   "cell_type": "markdown",
   "metadata": {},
   "source": [
    "---"
   ]
  }
 ],
 "metadata": {
  "kernelspec": {
   "display_name": "Python 3.10.4 64-bit",
   "language": "python",
   "name": "python3"
  },
  "language_info": {
   "codemirror_mode": {
    "name": "ipython",
    "version": 3
   },
   "file_extension": ".py",
   "mimetype": "text/x-python",
   "name": "python",
   "nbconvert_exporter": "python",
   "pygments_lexer": "ipython3",
   "version": "3.9.13"
  },
  "vscode": {
   "interpreter": {
    "hash": "aee8b7b246df8f9039afb4144a1f6fd8d2ca17a180786b69acc140d282b71a49"
   }
  }
 },
 "nbformat": 4,
 "nbformat_minor": 4
}
